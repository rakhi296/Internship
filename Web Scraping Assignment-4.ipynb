{
 "cells": [
  {
   "cell_type": "code",
   "execution_count": 54,
   "id": "c800dddb",
   "metadata": {},
   "outputs": [],
   "source": [
    "# Importing Libraries\n",
    "import selenium\n",
    "import pandas as pd\n",
    "import time\n",
    "from bs4 import BeautifulSoup\n",
    "\n",
    "# Importing selenium webdriver\n",
    "from selenium import webdriver\n",
    "\n",
    "# Importing required Exceptions which needs to handle\n",
    "from selenium.common.exceptions import StaleElementReferenceException, NoSuchElementException, SessionNotCreatedException\n",
    "\n",
    "#Importing Request\n",
    "import requests\n",
    "\n",
    "from selenium.webdriver.common.by import By\n",
    "\n",
    "import time"
   ]
  },
  {
   "cell_type": "raw",
   "id": "201087fc",
   "metadata": {},
   "source": [
    "# 1. Scrape the details of most viewed videos on YouTube from Wikipedia. Url\n",
    "= https://en.wikipedia.org/wiki/List_of_most-viewed_YouTube_videos You need to find following details:\n",
    "A) Rank\n",
    "B) Name\n",
    "C) Artist\n",
    "D) Upload date\n",
    "E) Views "
   ]
  },
  {
   "cell_type": "code",
   "execution_count": 38,
   "id": "db3adc7b",
   "metadata": {},
   "outputs": [],
   "source": [
    "driver=webdriver.Chrome()\n",
    "driver.get(\"https://en.wikipedia.org/wiki/List_of_most-viewed_YouTube_videos\")"
   ]
  },
  {
   "cell_type": "code",
   "execution_count": 39,
   "id": "d52331ab",
   "metadata": {},
   "outputs": [],
   "source": [
    "# creating list\n",
    "Rank=[]\n",
    "Name=[]\n",
    "Artist=[]\n",
    "Up_date=[]\n",
    "Views=[]"
   ]
  },
  {
   "cell_type": "code",
   "execution_count": 42,
   "id": "8b45a0e3",
   "metadata": {},
   "outputs": [
    {
     "name": "stdout",
     "output_type": "stream",
     "text": [
      "30 ['\"Baby Shark Dance\"[7] Pinkfong Baby Shark - Kids\\' Songs & Stories 14.32 June 17, 2016 [A]', '\"Despacito\"[10] Luis Fonsi 8.41 January 12, 2017 [B]', '\"Johny Johny Yes Papa\"[18] LooLoo Kids - Nursery Rhymes and Children\\'s Songs 6.89 October 8, 2016', '\"Bath Song\"[19] Cocomelon - Nursery Rhymes 6.66 May 2, 2018', '\"Shape of You\"[20] Ed Sheeran 6.23 January 30, 2017 [C]', '\"See You Again\"[23] Wiz Khalifa 6.22 April 6, 2015 [D]', '\"Wheels on the Bus\"[28] Cocomelon - Nursery Rhymes 6.01 May 24, 2018', '\"Phonics Song with Two Words\"[29] ChuChu TV Nursery Rhymes & Kids Songs 5.75 March 6, 2014', '\"Uptown Funk\"[30] Mark Ronson 5.18 November 19, 2014', '\"Gangnam Style\"[31] Psy 5.10 July 15, 2012 [E]', '\"Learning Colors – Colorful Eggs on a Farm\"[36] Miroshka TV 5.09 February 27, 2018', '\"Dame Tu Cosita\"[37] Ultra Records 4.59 April 5, 2018', '\"Masha and the Bear – Recipe for Disaster\"[38] Get Movies 4.57 January 31, 2012', '\"Axel F\"[39] Crazy Frog 4.45 June 16, 2009', '\"Sugar\"[40] Maroon 5 4.02 January 14, 2015', '\"Baa Baa Black Sheep\"[41] Cocomelon - Nursery Rhymes 4.01 June 25, 2018', '\"Counting Stars\"[42] OneRepublic 4.00 May 31, 2013', '\"Lakdi Ki Kathi\"[43] Jingle Toons 3.98 June 14, 2018', '\"Roar\"[44] Katy Perry 3.98 September 5, 2013', '\"Waka Waka (This Time for Africa)\"[45] Shakira 3.89 June 4, 2010', '\"Sorry\"[46] Justin Bieber 3.78 October 22, 2015', '\"Shree Hanuman Chalisa\"[47] T-Series Bhakti Sagar 3.77 May 10, 2011', '\"Humpty the train on a fruits ride\"[48] Kiddiestv Hindi - Nursery Rhymes & Kids Songs 3.76 January 26, 2018', '\"Thinking Out Loud\"[49] Ed Sheeran 3.75 October 7, 2014', '\"Perfect\"[50] Ed Sheeran 3.70 November 9, 2017', '\"Dark Horse\"[51] Katy Perry 3.70 February 20, 2014', '\"Let Her Go\"[52] Passenger 3.64 July 25, 2012', '\"Faded\"[53] Alan Walker 3.60 December 3, 2015', '\"Girls Like You\"[54] Maroon 5 3.58 May 31, 2018', '\"Lean On\"[55] Major Lazer Official 3.57 March 22, 2015']\n"
     ]
    }
   ],
   "source": [
    "# scraping data for rank\n",
    "try:\n",
    "    rank=driver.find_elements(By.XPATH,'//table[@class=\"sortable wikitable sticky-header static-row-numbers sort-under col3center col4right jquery-tablesorter\"]/tbody/tr')\n",
    "    for i in rank:\n",
    "        Rank.append(i.text)\n",
    "except NoSuchElementException:\n",
    "    Rank.append('-')\n",
    "print(len(Rank),Rank)"
   ]
  },
  {
   "cell_type": "code",
   "execution_count": 43,
   "id": "48834b45",
   "metadata": {},
   "outputs": [
    {
     "name": "stdout",
     "output_type": "stream",
     "text": [
      "30 ['\"Baby Shark Dance\"[7]', '\"Despacito\"[10]', '\"Johny Johny Yes Papa\"[18]', '\"Bath Song\"[19]', '\"Shape of You\"[20]', '\"See You Again\"[23]', '\"Wheels on the Bus\"[28]', '\"Phonics Song with Two Words\"[29]', '\"Uptown Funk\"[30]', '\"Gangnam Style\"[31]', '\"Learning Colors – Colorful Eggs on a Farm\"[36]', '\"Dame Tu Cosita\"[37]', '\"Masha and the Bear – Recipe for Disaster\"[38]', '\"Axel F\"[39]', '\"Sugar\"[40]', '\"Baa Baa Black Sheep\"[41]', '\"Counting Stars\"[42]', '\"Lakdi Ki Kathi\"[43]', '\"Roar\"[44]', '\"Waka Waka (This Time for Africa)\"[45]', '\"Sorry\"[46]', '\"Shree Hanuman Chalisa\"[47]', '\"Humpty the train on a fruits ride\"[48]', '\"Thinking Out Loud\"[49]', '\"Perfect\"[50]', '\"Dark Horse\"[51]', '\"Let Her Go\"[52]', '\"Faded\"[53]', '\"Girls Like You\"[54]', '\"Lean On\"[55]']\n"
     ]
    }
   ],
   "source": [
    "# scraping data for name\n",
    "try:\n",
    "    name=driver.find_elements(By.XPATH,'//table[@class=\"sortable wikitable sticky-header static-row-numbers sort-under col3center col4right jquery-tablesorter\"]/tbody/tr/td[1]')\n",
    "    for i in name:\n",
    "        Name.append(i.text)\n",
    "except NoSuchElementExcept:\n",
    "    Name.append('-')\n",
    "print(len(Name),Name)"
   ]
  },
  {
   "cell_type": "code",
   "execution_count": 44,
   "id": "f43f3adf",
   "metadata": {},
   "outputs": [
    {
     "name": "stdout",
     "output_type": "stream",
     "text": [
      "30 [\"Pinkfong Baby Shark - Kids' Songs & Stories\", 'Luis Fonsi', \"LooLoo Kids - Nursery Rhymes and Children's Songs\", 'Cocomelon - Nursery Rhymes', 'Ed Sheeran', 'Wiz Khalifa', 'Cocomelon - Nursery Rhymes', 'ChuChu TV Nursery Rhymes & Kids Songs', 'Mark Ronson', 'Psy', 'Miroshka TV', 'Ultra Records', 'Get Movies', 'Crazy Frog', 'Maroon 5', 'Cocomelon - Nursery Rhymes', 'OneRepublic', 'Jingle Toons', 'Katy Perry', 'Shakira', 'Justin Bieber', 'T-Series Bhakti Sagar', 'Kiddiestv Hindi - Nursery Rhymes & Kids Songs', 'Ed Sheeran', 'Ed Sheeran', 'Katy Perry', 'Passenger', 'Alan Walker', 'Maroon 5', 'Major Lazer Official']\n"
     ]
    }
   ],
   "source": [
    "# scraping data for artist\n",
    "try:\n",
    "    arti=driver.find_elements(By.XPATH,'//table[@class=\"sortable wikitable sticky-header static-row-numbers sort-under col3center col4right jquery-tablesorter\"]/tbody/tr/td[2]')\n",
    "    for i in arti:\n",
    "        Artist.append(i.text)\n",
    "except NoSuchElementException:\n",
    "    Artist.append('-')\n",
    "print(len(Artist),Artist)"
   ]
  },
  {
   "cell_type": "code",
   "execution_count": 45,
   "id": "26a32131",
   "metadata": {},
   "outputs": [
    {
     "name": "stdout",
     "output_type": "stream",
     "text": [
      "30 ['June 17, 2016', 'January 12, 2017', 'October 8, 2016', 'May 2, 2018', 'January 30, 2017', 'April 6, 2015', 'May 24, 2018', 'March 6, 2014', 'November 19, 2014', 'July 15, 2012', 'February 27, 2018', 'April 5, 2018', 'January 31, 2012', 'June 16, 2009', 'January 14, 2015', 'June 25, 2018', 'May 31, 2013', 'June 14, 2018', 'September 5, 2013', 'June 4, 2010', 'October 22, 2015', 'May 10, 2011', 'January 26, 2018', 'October 7, 2014', 'November 9, 2017', 'February 20, 2014', 'July 25, 2012', 'December 3, 2015', 'May 31, 2018', 'March 22, 2015']\n"
     ]
    }
   ],
   "source": [
    "# scraping data for upload date\n",
    "try:\n",
    "    up_d=driver.find_elements(By.XPATH,'//table[@class=\"sortable wikitable sticky-header static-row-numbers sort-under col3center col4right jquery-tablesorter\"]/tbody/tr/td[4]')\n",
    "    for i in up_d:\n",
    "        Up_date.append(i.text)\n",
    "except NoSuchEleneException:\n",
    "    Up_date.append('-')\n",
    "print(len(Up_date),Up_date)"
   ]
  },
  {
   "cell_type": "code",
   "execution_count": 46,
   "id": "4cc1b0dc",
   "metadata": {},
   "outputs": [
    {
     "name": "stdout",
     "output_type": "stream",
     "text": [
      "30 ['14.32', '8.41', '6.89', '6.66', '6.23', '6.22', '6.01', '5.75', '5.18', '5.10', '5.09', '4.59', '4.57', '4.45', '4.02', '4.01', '4.00', '3.98', '3.98', '3.89', '3.78', '3.77', '3.76', '3.75', '3.70', '3.70', '3.64', '3.60', '3.58', '3.57']\n"
     ]
    }
   ],
   "source": [
    "# scraping data for views\n",
    "try:\n",
    "    views=driver.find_elements(By.XPATH,'//table[@class=\"sortable wikitable sticky-header static-row-numbers sort-under col3center col4right jquery-tablesorter\"]/tbody/tr/td[3]')\n",
    "    for i in views:\n",
    "        Views.append(i.text)\n",
    "except NoSuchElementException:\n",
    "    Views.append('-')\n",
    "print(len(Views),Views)"
   ]
  },
  {
   "cell_type": "code",
   "execution_count": 47,
   "id": "8bc158e3",
   "metadata": {},
   "outputs": [
    {
     "data": {
      "text/html": [
       "<div>\n",
       "<style scoped>\n",
       "    .dataframe tbody tr th:only-of-type {\n",
       "        vertical-align: middle;\n",
       "    }\n",
       "\n",
       "    .dataframe tbody tr th {\n",
       "        vertical-align: top;\n",
       "    }\n",
       "\n",
       "    .dataframe thead th {\n",
       "        text-align: right;\n",
       "    }\n",
       "</style>\n",
       "<table border=\"1\" class=\"dataframe\">\n",
       "  <thead>\n",
       "    <tr style=\"text-align: right;\">\n",
       "      <th></th>\n",
       "      <th>Name</th>\n",
       "      <th>Atist</th>\n",
       "      <th>Upload Date</th>\n",
       "      <th>Views(billions)</th>\n",
       "    </tr>\n",
       "  </thead>\n",
       "  <tbody>\n",
       "    <tr>\n",
       "      <th>0</th>\n",
       "      <td>\"Baby Shark Dance\"[7]</td>\n",
       "      <td>Pinkfong Baby Shark - Kids' Songs &amp; Stories</td>\n",
       "      <td>June 17, 2016</td>\n",
       "      <td>14.32</td>\n",
       "    </tr>\n",
       "    <tr>\n",
       "      <th>1</th>\n",
       "      <td>\"Despacito\"[10]</td>\n",
       "      <td>Luis Fonsi</td>\n",
       "      <td>January 12, 2017</td>\n",
       "      <td>8.41</td>\n",
       "    </tr>\n",
       "    <tr>\n",
       "      <th>2</th>\n",
       "      <td>\"Johny Johny Yes Papa\"[18]</td>\n",
       "      <td>LooLoo Kids - Nursery Rhymes and Children's Songs</td>\n",
       "      <td>October 8, 2016</td>\n",
       "      <td>6.89</td>\n",
       "    </tr>\n",
       "    <tr>\n",
       "      <th>3</th>\n",
       "      <td>\"Bath Song\"[19]</td>\n",
       "      <td>Cocomelon - Nursery Rhymes</td>\n",
       "      <td>May 2, 2018</td>\n",
       "      <td>6.66</td>\n",
       "    </tr>\n",
       "    <tr>\n",
       "      <th>4</th>\n",
       "      <td>\"Shape of You\"[20]</td>\n",
       "      <td>Ed Sheeran</td>\n",
       "      <td>January 30, 2017</td>\n",
       "      <td>6.23</td>\n",
       "    </tr>\n",
       "    <tr>\n",
       "      <th>5</th>\n",
       "      <td>\"See You Again\"[23]</td>\n",
       "      <td>Wiz Khalifa</td>\n",
       "      <td>April 6, 2015</td>\n",
       "      <td>6.22</td>\n",
       "    </tr>\n",
       "    <tr>\n",
       "      <th>6</th>\n",
       "      <td>\"Wheels on the Bus\"[28]</td>\n",
       "      <td>Cocomelon - Nursery Rhymes</td>\n",
       "      <td>May 24, 2018</td>\n",
       "      <td>6.01</td>\n",
       "    </tr>\n",
       "    <tr>\n",
       "      <th>7</th>\n",
       "      <td>\"Phonics Song with Two Words\"[29]</td>\n",
       "      <td>ChuChu TV Nursery Rhymes &amp; Kids Songs</td>\n",
       "      <td>March 6, 2014</td>\n",
       "      <td>5.75</td>\n",
       "    </tr>\n",
       "    <tr>\n",
       "      <th>8</th>\n",
       "      <td>\"Uptown Funk\"[30]</td>\n",
       "      <td>Mark Ronson</td>\n",
       "      <td>November 19, 2014</td>\n",
       "      <td>5.18</td>\n",
       "    </tr>\n",
       "    <tr>\n",
       "      <th>9</th>\n",
       "      <td>\"Gangnam Style\"[31]</td>\n",
       "      <td>Psy</td>\n",
       "      <td>July 15, 2012</td>\n",
       "      <td>5.10</td>\n",
       "    </tr>\n",
       "    <tr>\n",
       "      <th>10</th>\n",
       "      <td>\"Learning Colors – Colorful Eggs on a Farm\"[36]</td>\n",
       "      <td>Miroshka TV</td>\n",
       "      <td>February 27, 2018</td>\n",
       "      <td>5.09</td>\n",
       "    </tr>\n",
       "    <tr>\n",
       "      <th>11</th>\n",
       "      <td>\"Dame Tu Cosita\"[37]</td>\n",
       "      <td>Ultra Records</td>\n",
       "      <td>April 5, 2018</td>\n",
       "      <td>4.59</td>\n",
       "    </tr>\n",
       "    <tr>\n",
       "      <th>12</th>\n",
       "      <td>\"Masha and the Bear – Recipe for Disaster\"[38]</td>\n",
       "      <td>Get Movies</td>\n",
       "      <td>January 31, 2012</td>\n",
       "      <td>4.57</td>\n",
       "    </tr>\n",
       "    <tr>\n",
       "      <th>13</th>\n",
       "      <td>\"Axel F\"[39]</td>\n",
       "      <td>Crazy Frog</td>\n",
       "      <td>June 16, 2009</td>\n",
       "      <td>4.45</td>\n",
       "    </tr>\n",
       "    <tr>\n",
       "      <th>14</th>\n",
       "      <td>\"Sugar\"[40]</td>\n",
       "      <td>Maroon 5</td>\n",
       "      <td>January 14, 2015</td>\n",
       "      <td>4.02</td>\n",
       "    </tr>\n",
       "    <tr>\n",
       "      <th>15</th>\n",
       "      <td>\"Baa Baa Black Sheep\"[41]</td>\n",
       "      <td>Cocomelon - Nursery Rhymes</td>\n",
       "      <td>June 25, 2018</td>\n",
       "      <td>4.01</td>\n",
       "    </tr>\n",
       "    <tr>\n",
       "      <th>16</th>\n",
       "      <td>\"Counting Stars\"[42]</td>\n",
       "      <td>OneRepublic</td>\n",
       "      <td>May 31, 2013</td>\n",
       "      <td>4.00</td>\n",
       "    </tr>\n",
       "    <tr>\n",
       "      <th>17</th>\n",
       "      <td>\"Lakdi Ki Kathi\"[43]</td>\n",
       "      <td>Jingle Toons</td>\n",
       "      <td>June 14, 2018</td>\n",
       "      <td>3.98</td>\n",
       "    </tr>\n",
       "    <tr>\n",
       "      <th>18</th>\n",
       "      <td>\"Roar\"[44]</td>\n",
       "      <td>Katy Perry</td>\n",
       "      <td>September 5, 2013</td>\n",
       "      <td>3.98</td>\n",
       "    </tr>\n",
       "    <tr>\n",
       "      <th>19</th>\n",
       "      <td>\"Waka Waka (This Time for Africa)\"[45]</td>\n",
       "      <td>Shakira</td>\n",
       "      <td>June 4, 2010</td>\n",
       "      <td>3.89</td>\n",
       "    </tr>\n",
       "    <tr>\n",
       "      <th>20</th>\n",
       "      <td>\"Sorry\"[46]</td>\n",
       "      <td>Justin Bieber</td>\n",
       "      <td>October 22, 2015</td>\n",
       "      <td>3.78</td>\n",
       "    </tr>\n",
       "    <tr>\n",
       "      <th>21</th>\n",
       "      <td>\"Shree Hanuman Chalisa\"[47]</td>\n",
       "      <td>T-Series Bhakti Sagar</td>\n",
       "      <td>May 10, 2011</td>\n",
       "      <td>3.77</td>\n",
       "    </tr>\n",
       "    <tr>\n",
       "      <th>22</th>\n",
       "      <td>\"Humpty the train on a fruits ride\"[48]</td>\n",
       "      <td>Kiddiestv Hindi - Nursery Rhymes &amp; Kids Songs</td>\n",
       "      <td>January 26, 2018</td>\n",
       "      <td>3.76</td>\n",
       "    </tr>\n",
       "    <tr>\n",
       "      <th>23</th>\n",
       "      <td>\"Thinking Out Loud\"[49]</td>\n",
       "      <td>Ed Sheeran</td>\n",
       "      <td>October 7, 2014</td>\n",
       "      <td>3.75</td>\n",
       "    </tr>\n",
       "    <tr>\n",
       "      <th>24</th>\n",
       "      <td>\"Perfect\"[50]</td>\n",
       "      <td>Ed Sheeran</td>\n",
       "      <td>November 9, 2017</td>\n",
       "      <td>3.70</td>\n",
       "    </tr>\n",
       "    <tr>\n",
       "      <th>25</th>\n",
       "      <td>\"Dark Horse\"[51]</td>\n",
       "      <td>Katy Perry</td>\n",
       "      <td>February 20, 2014</td>\n",
       "      <td>3.70</td>\n",
       "    </tr>\n",
       "    <tr>\n",
       "      <th>26</th>\n",
       "      <td>\"Let Her Go\"[52]</td>\n",
       "      <td>Passenger</td>\n",
       "      <td>July 25, 2012</td>\n",
       "      <td>3.64</td>\n",
       "    </tr>\n",
       "    <tr>\n",
       "      <th>27</th>\n",
       "      <td>\"Faded\"[53]</td>\n",
       "      <td>Alan Walker</td>\n",
       "      <td>December 3, 2015</td>\n",
       "      <td>3.60</td>\n",
       "    </tr>\n",
       "    <tr>\n",
       "      <th>28</th>\n",
       "      <td>\"Girls Like You\"[54]</td>\n",
       "      <td>Maroon 5</td>\n",
       "      <td>May 31, 2018</td>\n",
       "      <td>3.58</td>\n",
       "    </tr>\n",
       "    <tr>\n",
       "      <th>29</th>\n",
       "      <td>\"Lean On\"[55]</td>\n",
       "      <td>Major Lazer Official</td>\n",
       "      <td>March 22, 2015</td>\n",
       "      <td>3.57</td>\n",
       "    </tr>\n",
       "  </tbody>\n",
       "</table>\n",
       "</div>"
      ],
      "text/plain": [
       "                                               Name  \\\n",
       "0                             \"Baby Shark Dance\"[7]   \n",
       "1                                   \"Despacito\"[10]   \n",
       "2                        \"Johny Johny Yes Papa\"[18]   \n",
       "3                                   \"Bath Song\"[19]   \n",
       "4                                \"Shape of You\"[20]   \n",
       "5                               \"See You Again\"[23]   \n",
       "6                           \"Wheels on the Bus\"[28]   \n",
       "7                 \"Phonics Song with Two Words\"[29]   \n",
       "8                                 \"Uptown Funk\"[30]   \n",
       "9                               \"Gangnam Style\"[31]   \n",
       "10  \"Learning Colors – Colorful Eggs on a Farm\"[36]   \n",
       "11                             \"Dame Tu Cosita\"[37]   \n",
       "12   \"Masha and the Bear – Recipe for Disaster\"[38]   \n",
       "13                                     \"Axel F\"[39]   \n",
       "14                                      \"Sugar\"[40]   \n",
       "15                        \"Baa Baa Black Sheep\"[41]   \n",
       "16                             \"Counting Stars\"[42]   \n",
       "17                             \"Lakdi Ki Kathi\"[43]   \n",
       "18                                       \"Roar\"[44]   \n",
       "19           \"Waka Waka (This Time for Africa)\"[45]   \n",
       "20                                      \"Sorry\"[46]   \n",
       "21                      \"Shree Hanuman Chalisa\"[47]   \n",
       "22          \"Humpty the train on a fruits ride\"[48]   \n",
       "23                          \"Thinking Out Loud\"[49]   \n",
       "24                                    \"Perfect\"[50]   \n",
       "25                                 \"Dark Horse\"[51]   \n",
       "26                                 \"Let Her Go\"[52]   \n",
       "27                                      \"Faded\"[53]   \n",
       "28                             \"Girls Like You\"[54]   \n",
       "29                                    \"Lean On\"[55]   \n",
       "\n",
       "                                                Atist        Upload Date  \\\n",
       "0         Pinkfong Baby Shark - Kids' Songs & Stories      June 17, 2016   \n",
       "1                                          Luis Fonsi   January 12, 2017   \n",
       "2   LooLoo Kids - Nursery Rhymes and Children's Songs    October 8, 2016   \n",
       "3                          Cocomelon - Nursery Rhymes        May 2, 2018   \n",
       "4                                          Ed Sheeran   January 30, 2017   \n",
       "5                                         Wiz Khalifa      April 6, 2015   \n",
       "6                          Cocomelon - Nursery Rhymes       May 24, 2018   \n",
       "7               ChuChu TV Nursery Rhymes & Kids Songs      March 6, 2014   \n",
       "8                                         Mark Ronson  November 19, 2014   \n",
       "9                                                 Psy      July 15, 2012   \n",
       "10                                        Miroshka TV  February 27, 2018   \n",
       "11                                      Ultra Records      April 5, 2018   \n",
       "12                                         Get Movies   January 31, 2012   \n",
       "13                                         Crazy Frog      June 16, 2009   \n",
       "14                                           Maroon 5   January 14, 2015   \n",
       "15                         Cocomelon - Nursery Rhymes      June 25, 2018   \n",
       "16                                        OneRepublic       May 31, 2013   \n",
       "17                                       Jingle Toons      June 14, 2018   \n",
       "18                                         Katy Perry  September 5, 2013   \n",
       "19                                            Shakira       June 4, 2010   \n",
       "20                                      Justin Bieber   October 22, 2015   \n",
       "21                              T-Series Bhakti Sagar       May 10, 2011   \n",
       "22      Kiddiestv Hindi - Nursery Rhymes & Kids Songs   January 26, 2018   \n",
       "23                                         Ed Sheeran    October 7, 2014   \n",
       "24                                         Ed Sheeran   November 9, 2017   \n",
       "25                                         Katy Perry  February 20, 2014   \n",
       "26                                          Passenger      July 25, 2012   \n",
       "27                                        Alan Walker   December 3, 2015   \n",
       "28                                           Maroon 5       May 31, 2018   \n",
       "29                               Major Lazer Official     March 22, 2015   \n",
       "\n",
       "   Views(billions)  \n",
       "0            14.32  \n",
       "1             8.41  \n",
       "2             6.89  \n",
       "3             6.66  \n",
       "4             6.23  \n",
       "5             6.22  \n",
       "6             6.01  \n",
       "7             5.75  \n",
       "8             5.18  \n",
       "9             5.10  \n",
       "10            5.09  \n",
       "11            4.59  \n",
       "12            4.57  \n",
       "13            4.45  \n",
       "14            4.02  \n",
       "15            4.01  \n",
       "16            4.00  \n",
       "17            3.98  \n",
       "18            3.98  \n",
       "19            3.89  \n",
       "20            3.78  \n",
       "21            3.77  \n",
       "22            3.76  \n",
       "23            3.75  \n",
       "24            3.70  \n",
       "25            3.70  \n",
       "26            3.64  \n",
       "27            3.60  \n",
       "28            3.58  \n",
       "29            3.57  "
      ]
     },
     "execution_count": 47,
     "metadata": {},
     "output_type": "execute_result"
    }
   ],
   "source": [
    "df=pd.DataFrame({'Name':Name,\n",
    "                 'Atist':Artist,\n",
    "                 'Upload Date':Up_date,\n",
    "                 'Views(billions)':Views})\n",
    "df"
   ]
  },
  {
   "cell_type": "raw",
   "id": "bfa0e354",
   "metadata": {},
   "source": []
  },
  {
   "cell_type": "raw",
   "id": "1d9a3047",
   "metadata": {},
   "source": [
    "2. Scrape the details team India’s international fixtures from bcci.tv.\n",
    "Url = https://www.bcci.tv/.\n",
    "You need to find following details:\n",
    "A) Series\n",
    "B) Place\n",
    "C) Date\n",
    "D) Time\n",
    "Note: - From bcci.tv home page you have reach to the international fixture page through code"
   ]
  },
  {
   "cell_type": "code",
   "execution_count": 47,
   "id": "9ee631c9",
   "metadata": {},
   "outputs": [],
   "source": [
    "driver=webdriver.Chrome()\n",
    "driver.get(\"https://www.bcci.tv/\")"
   ]
  },
  {
   "cell_type": "code",
   "execution_count": 48,
   "id": "9a115f8f",
   "metadata": {},
   "outputs": [],
   "source": [
    "go_to_fixture=driver.find_element(By.XPATH,'/html/body/header/div[3]/div[2]/ul/div[1]/a[2]')\n",
    "go_to_fixture.click()"
   ]
  },
  {
   "cell_type": "code",
   "execution_count": 49,
   "id": "86048f0f",
   "metadata": {},
   "outputs": [],
   "source": [
    "# creating list\n",
    "Series=[]\n",
    "Place=[]\n",
    "Date=[]\n",
    "Time=[]"
   ]
  },
  {
   "cell_type": "code",
   "execution_count": 50,
   "id": "0b76a81f",
   "metadata": {},
   "outputs": [
    {
     "name": "stdout",
     "output_type": "stream",
     "text": [
      "14 ['5th T20IWomen\\nINDIA WOMEN TOUR OF BANGLADESH T20 SERIES 2024\\n9 MAY, 2024\\n3:30 PM IST\\nSylhet International Cricket Stadium, Sylhet\\nBangladesh Women\\nIndia Women\\nMatch Info', '1st T20IMen\\nICC MENS T20 WORLD CUP 2024\\n5 JUNE, 2024\\n8:00 PM IST\\nNassau County International Cricket Stadium, New York\\nIndia\\nIreland\\nMatch Info', '2nd T20IMen\\nICC MENS T20 WORLD CUP 2024\\n9 JUNE, 2024\\n8:00 PM IST\\nNassau County International Cricket Stadium, New York\\nIndia\\nPakistan\\nMatch Info', '3rd T20IMen\\nICC MENS T20 WORLD CUP 2024\\n12 JUNE, 2024\\n8:00 PM IST\\nNassau County International Cricket Stadium, New York\\nUnited States Of America\\nIndia\\nMatch Info', '4th T20IMen\\nICC MENS T20 WORLD CUP 2024\\n15 JUNE, 2024\\n8:00 PM IST\\nCentral Broward Park & Broward County Stadium, Lauderhill, Florida\\nCanada\\nIndia\\nMatch Info', '1st T20IMen\\nINDIA TOUR OF ZIMBABWE 2024\\n6 JULY, 2024\\n8:00 PM IST\\nHarare Sports Club, Harare\\nZimbabwe\\nIndia\\nMatch Info', '2nd T20IMen\\nINDIA TOUR OF ZIMBABWE 2024\\n7 JULY, 2024\\n8:00 PM IST\\nHarare Sports Club, Harare\\nZimbabwe\\nIndia\\nMatch Info', '3rd T20IMen\\nINDIA TOUR OF ZIMBABWE 2024\\n10 JULY, 2024\\n8:00 PM IST\\nHarare Sports Club, Harare\\nZimbabwe\\nIndia\\nMatch Info', '4th T20IMen\\nINDIA TOUR OF ZIMBABWE 2024\\n13 JULY, 2024\\n8:00 PM IST\\nHarare Sports Club, Harare\\nZimbabwe\\nIndia\\nMatch Info', '5th T20IMen\\nINDIA TOUR OF ZIMBABWE 2024\\n14 JULY, 2024\\n8:00 PM IST\\nHarare Sports Club, Harare\\nZimbabwe\\nIndia\\nMatch Info', '1st T20IWomen\\nICC WOMENS T20 WORLD CUP 2024\\n4 OCTOBER, 2024\\n6:30 PM IST\\nSylhet International Cricket Stadium, Sylhet\\nIndia Women\\nNew Zealand Women\\nMatch Info', '2nd T20IWomen\\nICC WOMENS T20 WORLD CUP 2024\\n6 OCTOBER, 2024\\n6:30 PM IST\\nSylhet International Cricket Stadium, Sylhet\\nIndia Women\\nPakistan Women\\nMatch Info', '3rd T20IWomen\\nICC WOMENS T20 WORLD CUP 2024\\n9 OCTOBER, 2024\\n6:30 PM IST\\nSylhet International Cricket Stadium, Sylhet\\nIndia Women\\nQualifier-1\\nMatch Info', '4th T20IWomen\\nICC WOMENS T20 WORLD CUP 2024\\n13 OCTOBER, 2024\\n6:30 PM IST\\nSylhet International Cricket Stadium, Sylhet\\nIndia Women\\nAustralia Women\\nMatch Info']\n"
     ]
    }
   ],
   "source": [
    "# scraping data for series\n",
    "try:\n",
    "    series=driver.find_elements(By.XPATH,'//div[@class=\"match-card match-card-fw match-card-up ng-scope\"]')\n",
    "    for i in series:\n",
    "        Series.append(i.text)\n",
    "except NoSuchElementExcept:\n",
    "    Series.append('-')\n",
    "print(len(Series),Series)"
   ]
  },
  {
   "cell_type": "code",
   "execution_count": 53,
   "id": "5a76f327",
   "metadata": {},
   "outputs": [
    {
     "name": "stdout",
     "output_type": "stream",
     "text": [
      "14 ['Sylhet International Cricket Stadium, Sylhet', 'Nassau County International Cricket Stadium, New York', 'Nassau County International Cricket Stadium, New York', 'Nassau County International Cricket Stadium, New York', 'Central Broward Park & Broward County Stadium, Lauderhill, Florida', 'Harare Sports Club, Harare', 'Harare Sports Club, Harare', 'Harare Sports Club, Harare', 'Harare Sports Club, Harare', 'Harare Sports Club, Harare', 'Sylhet International Cricket Stadium, Sylhet', 'Sylhet International Cricket Stadium, Sylhet', 'Sylhet International Cricket Stadium, Sylhet', 'Sylhet International Cricket Stadium, Sylhet']\n"
     ]
    }
   ],
   "source": [
    "# scraping data for series\n",
    "try:\n",
    "    place=driver.find_elements(By.XPATH,'//div[@class=\"match-place ng-scope\"]')\n",
    "    for i in place:\n",
    "        Place.append(i.text)\n",
    "except NoSuchElementException:\n",
    "    Place.append('-')\n",
    "print(len(Place),Place)"
   ]
  },
  {
   "cell_type": "code",
   "execution_count": 51,
   "id": "eca805d1",
   "metadata": {},
   "outputs": [
    {
     "name": "stdout",
     "output_type": "stream",
     "text": [
      "14 ['9 MAY, 2024', '5 JUNE, 2024', '9 JUNE, 2024', '12 JUNE, 2024', '15 JUNE, 2024', '6 JULY, 2024', '7 JULY, 2024', '10 JULY, 2024', '13 JULY, 2024', '14 JULY, 2024', '4 OCTOBER, 2024', '6 OCTOBER, 2024', '9 OCTOBER, 2024', '13 OCTOBER, 2024']\n"
     ]
    }
   ],
   "source": [
    "# scraping data for date\n",
    "try:\n",
    "    date=driver.find_elements(By.XPATH,'//div[@class=\"match-date-info\"]/div[1]')\n",
    "    for i in date:\n",
    "        Date.append(i.text)\n",
    "except NoSuchElementException:\n",
    "    Date.append('-')\n",
    "print(len(Date),Date)"
   ]
  },
  {
   "cell_type": "code",
   "execution_count": 52,
   "id": "70d9de83",
   "metadata": {},
   "outputs": [
    {
     "name": "stdout",
     "output_type": "stream",
     "text": [
      "14 ['3:30 PM IST', '8:00 PM IST', '8:00 PM IST', '8:00 PM IST', '8:00 PM IST', '8:00 PM IST', '8:00 PM IST', '8:00 PM IST', '8:00 PM IST', '8:00 PM IST', '6:30 PM IST', '6:30 PM IST', '6:30 PM IST', '6:30 PM IST']\n"
     ]
    }
   ],
   "source": [
    "# scraping data for time\n",
    "try:\n",
    "    time=driver.find_elements(By.XPATH,'//div[@class=\"match-date-info\"]/div[2]')\n",
    "    for i in time:\n",
    "        Time.append(i.text)\n",
    "except NoSuchElementException:\n",
    "    Time.append('-')\n",
    "print(len(Time),Time)"
   ]
  },
  {
   "cell_type": "code",
   "execution_count": 55,
   "id": "e42359ac",
   "metadata": {},
   "outputs": [
    {
     "data": {
      "text/html": [
       "<div>\n",
       "<style scoped>\n",
       "    .dataframe tbody tr th:only-of-type {\n",
       "        vertical-align: middle;\n",
       "    }\n",
       "\n",
       "    .dataframe tbody tr th {\n",
       "        vertical-align: top;\n",
       "    }\n",
       "\n",
       "    .dataframe thead th {\n",
       "        text-align: right;\n",
       "    }\n",
       "</style>\n",
       "<table border=\"1\" class=\"dataframe\">\n",
       "  <thead>\n",
       "    <tr style=\"text-align: right;\">\n",
       "      <th></th>\n",
       "      <th>Series</th>\n",
       "      <th>Place</th>\n",
       "      <th>Date</th>\n",
       "      <th>Time</th>\n",
       "    </tr>\n",
       "  </thead>\n",
       "  <tbody>\n",
       "    <tr>\n",
       "      <th>0</th>\n",
       "      <td>5th T20IWomen\\nINDIA WOMEN TOUR OF BANGLADESH ...</td>\n",
       "      <td>Sylhet International Cricket Stadium, Sylhet</td>\n",
       "      <td>9 MAY, 2024</td>\n",
       "      <td>3:30 PM IST</td>\n",
       "    </tr>\n",
       "    <tr>\n",
       "      <th>1</th>\n",
       "      <td>1st T20IMen\\nICC MENS T20 WORLD CUP 2024\\n5 JU...</td>\n",
       "      <td>Nassau County International Cricket Stadium, N...</td>\n",
       "      <td>5 JUNE, 2024</td>\n",
       "      <td>8:00 PM IST</td>\n",
       "    </tr>\n",
       "    <tr>\n",
       "      <th>2</th>\n",
       "      <td>2nd T20IMen\\nICC MENS T20 WORLD CUP 2024\\n9 JU...</td>\n",
       "      <td>Nassau County International Cricket Stadium, N...</td>\n",
       "      <td>9 JUNE, 2024</td>\n",
       "      <td>8:00 PM IST</td>\n",
       "    </tr>\n",
       "    <tr>\n",
       "      <th>3</th>\n",
       "      <td>3rd T20IMen\\nICC MENS T20 WORLD CUP 2024\\n12 J...</td>\n",
       "      <td>Nassau County International Cricket Stadium, N...</td>\n",
       "      <td>12 JUNE, 2024</td>\n",
       "      <td>8:00 PM IST</td>\n",
       "    </tr>\n",
       "    <tr>\n",
       "      <th>4</th>\n",
       "      <td>4th T20IMen\\nICC MENS T20 WORLD CUP 2024\\n15 J...</td>\n",
       "      <td>Central Broward Park &amp; Broward County Stadium,...</td>\n",
       "      <td>15 JUNE, 2024</td>\n",
       "      <td>8:00 PM IST</td>\n",
       "    </tr>\n",
       "    <tr>\n",
       "      <th>5</th>\n",
       "      <td>1st T20IMen\\nINDIA TOUR OF ZIMBABWE 2024\\n6 JU...</td>\n",
       "      <td>Harare Sports Club, Harare</td>\n",
       "      <td>6 JULY, 2024</td>\n",
       "      <td>8:00 PM IST</td>\n",
       "    </tr>\n",
       "    <tr>\n",
       "      <th>6</th>\n",
       "      <td>2nd T20IMen\\nINDIA TOUR OF ZIMBABWE 2024\\n7 JU...</td>\n",
       "      <td>Harare Sports Club, Harare</td>\n",
       "      <td>7 JULY, 2024</td>\n",
       "      <td>8:00 PM IST</td>\n",
       "    </tr>\n",
       "    <tr>\n",
       "      <th>7</th>\n",
       "      <td>3rd T20IMen\\nINDIA TOUR OF ZIMBABWE 2024\\n10 J...</td>\n",
       "      <td>Harare Sports Club, Harare</td>\n",
       "      <td>10 JULY, 2024</td>\n",
       "      <td>8:00 PM IST</td>\n",
       "    </tr>\n",
       "    <tr>\n",
       "      <th>8</th>\n",
       "      <td>4th T20IMen\\nINDIA TOUR OF ZIMBABWE 2024\\n13 J...</td>\n",
       "      <td>Harare Sports Club, Harare</td>\n",
       "      <td>13 JULY, 2024</td>\n",
       "      <td>8:00 PM IST</td>\n",
       "    </tr>\n",
       "    <tr>\n",
       "      <th>9</th>\n",
       "      <td>5th T20IMen\\nINDIA TOUR OF ZIMBABWE 2024\\n14 J...</td>\n",
       "      <td>Harare Sports Club, Harare</td>\n",
       "      <td>14 JULY, 2024</td>\n",
       "      <td>8:00 PM IST</td>\n",
       "    </tr>\n",
       "    <tr>\n",
       "      <th>10</th>\n",
       "      <td>1st T20IWomen\\nICC WOMENS T20 WORLD CUP 2024\\n...</td>\n",
       "      <td>Sylhet International Cricket Stadium, Sylhet</td>\n",
       "      <td>4 OCTOBER, 2024</td>\n",
       "      <td>6:30 PM IST</td>\n",
       "    </tr>\n",
       "    <tr>\n",
       "      <th>11</th>\n",
       "      <td>2nd T20IWomen\\nICC WOMENS T20 WORLD CUP 2024\\n...</td>\n",
       "      <td>Sylhet International Cricket Stadium, Sylhet</td>\n",
       "      <td>6 OCTOBER, 2024</td>\n",
       "      <td>6:30 PM IST</td>\n",
       "    </tr>\n",
       "    <tr>\n",
       "      <th>12</th>\n",
       "      <td>3rd T20IWomen\\nICC WOMENS T20 WORLD CUP 2024\\n...</td>\n",
       "      <td>Sylhet International Cricket Stadium, Sylhet</td>\n",
       "      <td>9 OCTOBER, 2024</td>\n",
       "      <td>6:30 PM IST</td>\n",
       "    </tr>\n",
       "    <tr>\n",
       "      <th>13</th>\n",
       "      <td>4th T20IWomen\\nICC WOMENS T20 WORLD CUP 2024\\n...</td>\n",
       "      <td>Sylhet International Cricket Stadium, Sylhet</td>\n",
       "      <td>13 OCTOBER, 2024</td>\n",
       "      <td>6:30 PM IST</td>\n",
       "    </tr>\n",
       "  </tbody>\n",
       "</table>\n",
       "</div>"
      ],
      "text/plain": [
       "                                               Series  \\\n",
       "0   5th T20IWomen\\nINDIA WOMEN TOUR OF BANGLADESH ...   \n",
       "1   1st T20IMen\\nICC MENS T20 WORLD CUP 2024\\n5 JU...   \n",
       "2   2nd T20IMen\\nICC MENS T20 WORLD CUP 2024\\n9 JU...   \n",
       "3   3rd T20IMen\\nICC MENS T20 WORLD CUP 2024\\n12 J...   \n",
       "4   4th T20IMen\\nICC MENS T20 WORLD CUP 2024\\n15 J...   \n",
       "5   1st T20IMen\\nINDIA TOUR OF ZIMBABWE 2024\\n6 JU...   \n",
       "6   2nd T20IMen\\nINDIA TOUR OF ZIMBABWE 2024\\n7 JU...   \n",
       "7   3rd T20IMen\\nINDIA TOUR OF ZIMBABWE 2024\\n10 J...   \n",
       "8   4th T20IMen\\nINDIA TOUR OF ZIMBABWE 2024\\n13 J...   \n",
       "9   5th T20IMen\\nINDIA TOUR OF ZIMBABWE 2024\\n14 J...   \n",
       "10  1st T20IWomen\\nICC WOMENS T20 WORLD CUP 2024\\n...   \n",
       "11  2nd T20IWomen\\nICC WOMENS T20 WORLD CUP 2024\\n...   \n",
       "12  3rd T20IWomen\\nICC WOMENS T20 WORLD CUP 2024\\n...   \n",
       "13  4th T20IWomen\\nICC WOMENS T20 WORLD CUP 2024\\n...   \n",
       "\n",
       "                                                Place              Date  \\\n",
       "0        Sylhet International Cricket Stadium, Sylhet       9 MAY, 2024   \n",
       "1   Nassau County International Cricket Stadium, N...      5 JUNE, 2024   \n",
       "2   Nassau County International Cricket Stadium, N...      9 JUNE, 2024   \n",
       "3   Nassau County International Cricket Stadium, N...     12 JUNE, 2024   \n",
       "4   Central Broward Park & Broward County Stadium,...     15 JUNE, 2024   \n",
       "5                          Harare Sports Club, Harare      6 JULY, 2024   \n",
       "6                          Harare Sports Club, Harare      7 JULY, 2024   \n",
       "7                          Harare Sports Club, Harare     10 JULY, 2024   \n",
       "8                          Harare Sports Club, Harare     13 JULY, 2024   \n",
       "9                          Harare Sports Club, Harare     14 JULY, 2024   \n",
       "10       Sylhet International Cricket Stadium, Sylhet   4 OCTOBER, 2024   \n",
       "11       Sylhet International Cricket Stadium, Sylhet   6 OCTOBER, 2024   \n",
       "12       Sylhet International Cricket Stadium, Sylhet   9 OCTOBER, 2024   \n",
       "13       Sylhet International Cricket Stadium, Sylhet  13 OCTOBER, 2024   \n",
       "\n",
       "           Time  \n",
       "0   3:30 PM IST  \n",
       "1   8:00 PM IST  \n",
       "2   8:00 PM IST  \n",
       "3   8:00 PM IST  \n",
       "4   8:00 PM IST  \n",
       "5   8:00 PM IST  \n",
       "6   8:00 PM IST  \n",
       "7   8:00 PM IST  \n",
       "8   8:00 PM IST  \n",
       "9   8:00 PM IST  \n",
       "10  6:30 PM IST  \n",
       "11  6:30 PM IST  \n",
       "12  6:30 PM IST  \n",
       "13  6:30 PM IST  "
      ]
     },
     "execution_count": 55,
     "metadata": {},
     "output_type": "execute_result"
    }
   ],
   "source": [
    "df=pd.DataFrame({'Series':Series,\n",
    "     'Place':Place,\n",
    "     'Date':Date,\n",
    "     'Time':Time})\n",
    "df"
   ]
  },
  {
   "cell_type": "raw",
   "id": "618e945b",
   "metadata": {},
   "source": [
    " "
   ]
  },
  {
   "cell_type": "raw",
   "id": "35fa9df4",
   "metadata": {},
   "source": [
    "3. Scrape the details of State-wise GDP of India from statisticstime.com.\n",
    "Url = http://statisticstimes.com/\n",
    "You have to find following details: \n",
    "A) Rank\n",
    "B) State\n",
    "C) GSDP(18-19)- at current prices\n",
    "D) GSDP(19-20)- at current prices\n",
    "E) Share(18-19)\n",
    "F) GDP($ billion)\n",
    "Note: - From statisticstimes home page you have to reach to economy page through code."
   ]
  },
  {
   "cell_type": "code",
   "execution_count": 17,
   "id": "15e4d297",
   "metadata": {},
   "outputs": [],
   "source": [
    "driver=webdriver.Chrome()\n",
    "driver.get(\"http://statisticstimes.com/\")"
   ]
  },
  {
   "cell_type": "code",
   "execution_count": 18,
   "id": "6ffc7b41",
   "metadata": {},
   "outputs": [],
   "source": [
    "economy_p=driver.find_element(By.XPATH,'/html/body/div[2]/div[1]/div[2]/div[2]')\n",
    "economy_p.click()"
   ]
  },
  {
   "cell_type": "code",
   "execution_count": 19,
   "id": "141fb8ea",
   "metadata": {},
   "outputs": [],
   "source": [
    "econ_of_India=driver.find_element(By.XPATH,'/html/body/div[2]/div[1]/div[2]/div[2]/div/a[3]')\n",
    "econ_of_India.click()"
   ]
  },
  {
   "cell_type": "code",
   "execution_count": 21,
   "id": "7ff72a42",
   "metadata": {},
   "outputs": [],
   "source": [
    "GDP_of_India=driver.find_element(By.XPATH,'/html/body/div[2]/div[2]/div[2]/ul/li[1]/a')\n",
    "GDP_of_India.click()"
   ]
  },
  {
   "cell_type": "code",
   "execution_count": 22,
   "id": "d317acef",
   "metadata": {},
   "outputs": [],
   "source": [
    "#creating list\n",
    "Rank_=[]\n",
    "State_=[]\n",
    "GSDP_1=[]\n",
    "GSDP=[]\n",
    "Share_=[]\n",
    "GDP=[]"
   ]
  },
  {
   "cell_type": "code",
   "execution_count": 23,
   "id": "32a711bd",
   "metadata": {},
   "outputs": [
    {
     "name": "stdout",
     "output_type": "stream",
     "text": [
      "33 ['1', '2', '3', '4', '5', '6', '7', '8', '9', '10', '11', '12', '13', '14', '15', '16', '17', '18', '19', '20', '21', '22', '23', '24', '25', '26', '27', '28', '29', '30', '31', '32', '33']\n"
     ]
    }
   ],
   "source": [
    "# scraping data for rank\n",
    "try:\n",
    "    rank=driver.find_elements(By.XPATH,'//table[@id=\"table_id\"]/tbody/tr/td[1]')\n",
    "    for i in rank:\n",
    "        Rank_.append(i.text)\n",
    "except NoSuchElementException:\n",
    "    Rank_.append('-')\n",
    "print(len(Rank_),Rank_)"
   ]
  },
  {
   "cell_type": "code",
   "execution_count": 24,
   "id": "a7b76d6b",
   "metadata": {},
   "outputs": [
    {
     "name": "stdout",
     "output_type": "stream",
     "text": [
      "33 ['Maharashtra', 'Tamil Nadu', 'Karnataka', 'Uttar Pradesh', 'Gujarat', 'West Bengal', 'Rajasthan', 'Andhra Pradesh', 'Telangana', 'Madhya Pradesh', 'Kerala', 'Delhi', 'Haryana', 'Odisha', 'Bihar', 'Punjab', 'Assam', 'Chhattisgarh', 'Jharkhand', 'Uttarakhand', 'Jammu & Kashmir', 'Himachal Pradesh', 'Goa', 'Tripura', 'Chandigarh', 'Puducherry', 'Meghalaya', 'Sikkim', 'Manipur', 'Arunachal Pradesh', 'Nagaland', 'Mizoram', 'Andaman & Nicobar Islands']\n"
     ]
    }
   ],
   "source": [
    "# scraping data for state\n",
    "try:\n",
    "    state=driver.find_elements(By.XPATH,'//table[@id=\"table_id\"]/tbody/tr/td[2]')\n",
    "    for i in state:\n",
    "        State_.append(i.text)\n",
    "except NoSuchElementException:\n",
    "    State_.append('-')\n",
    "print(len(State_),State_)"
   ]
  },
  {
   "cell_type": "code",
   "execution_count": 25,
   "id": "84fd854d",
   "metadata": {},
   "outputs": [
    {
     "name": "stdout",
     "output_type": "stream",
     "text": [
      "33 ['3,108,022', '2,071,286', '1,978,094', '1,975,595', '1,928,683', '1,329,238', '1,193,489', '1,148,471', '1,124,204', '1,092,964', '934,542', '881,336', '868,905', '662,886', '650,302', '617,192', '411,454', '410,525', '358,863', '267,143', '193,352', '172,162', '84,266', '62,550', '46,096', '43,810', '38,785', '37,557', '36,594', '34,775', '31,038', '27,824', '10,371']\n"
     ]
    }
   ],
   "source": [
    "# scraping data for GSDP(21-22)\n",
    "try:\n",
    "    Gsdp_1=driver.find_elements(By.XPATH,'//table[@id=\"table_id\"]/tbody/tr/td[5]')\n",
    "    for i in Gsdp_1:\n",
    "        GSDP_1.append(i.text)\n",
    "except NoSuchElementException:\n",
    "    GSDP_1.append('-')\n",
    "print(len(GSDP_1),GSDP_1)"
   ]
  },
  {
   "cell_type": "code",
   "execution_count": 26,
   "id": "33ae08e3",
   "metadata": {},
   "outputs": [
    {
     "name": "stdout",
     "output_type": "stream",
     "text": [
      "33 ['-', '2,364,514', '2,269,995', '2,258,040', '2,230,609', '1,531,758', '1,365,849', '1,303,524', '1,308,034', '1,246,471', '1,046,188', '1,014,688', '984,055', '753,177', '751,396', '676,164', '493,167', '464,399', '393,722', '303,781', '224,226', '191,728', '93,672', '72,636', '54,285', '49,643', '42,697', '42,756', '-', '39,630', '35,643', '-', '-']\n"
     ]
    }
   ],
   "source": [
    "# scraping data for GSDP(22-23)\n",
    "try:\n",
    "    Gsdp=driver.find_elements(By.XPATH,'//table[@id=\"table_id\"]/tbody/tr/td[4]')\n",
    "    for i in Gsdp:\n",
    "        GSDP.append(i.text)\n",
    "except NoSuchElementException:\n",
    "    GSDP.append('-')\n",
    "print(len(GSDP),GSDP)"
   ]
  },
  {
   "cell_type": "code",
   "execution_count": 27,
   "id": "8d2a339c",
   "metadata": {},
   "outputs": [
    {
     "name": "stdout",
     "output_type": "stream",
     "text": [
      "33 ['13.17%', '8.78%', '8.38%', '8.37%', '8.17%', '5.63%', '5.06%', '4.87%', '4.76%', '4.63%', '3.96%', '3.73%', '3.68%', '2.81%', '2.76%', '2.62%', '1.74%', '1.74%', '1.52%', '1.13%', '0.82%', '0.73%', '0.36%', '0.27%', '0.20%', '0.19%', '0.16%', '0.16%', '0.16%', '0.15%', '0.13%', '0.12%', '0.04%']\n"
     ]
    }
   ],
   "source": [
    "# scraping data for Share(18-19)\n",
    "try:\n",
    "    share=driver.find_elements(By.XPATH,'//table[@id=\"table_id\"]/tbody/tr/td[6]')\n",
    "    for i in share:\n",
    "        Share_.append(i.text)\n",
    "except NoSuchElementException:\n",
    "    Share_.append('-')\n",
    "print(len(Share_),Share_)"
   ]
  },
  {
   "cell_type": "code",
   "execution_count": 28,
   "id": "bea091b6",
   "metadata": {},
   "outputs": [
    {
     "name": "stdout",
     "output_type": "stream",
     "text": [
      "33 ['414.928', '276.522', '264.080', '263.747', '257.484', '177.456', '159.334', '153.324', '150.084', '145.913', '124.764', '117.660', '116.001', '88.497', '86.817', '82.397', '54.930', '54.806', '47.909', '35.664', '25.813', '22.984', '11.250', '8.351', '6.154', '5.849', '5.178', '5.014', '4.885', '4.643', '4.144', '3.715', '1.385']\n"
     ]
    }
   ],
   "source": [
    "# scraping data for GDP($ billion)\n",
    "try:\n",
    "    gdp=driver.find_elements(By.XPATH,'//table[@id=\"table_id\"]/tbody/tr/td[7]')\n",
    "    for i in gdp:\n",
    "        GDP.append(i.text)\n",
    "except NoSuchElementException:\n",
    "    GDP.append('-')\n",
    "print(len(GDP),GDP)"
   ]
  },
  {
   "cell_type": "code",
   "execution_count": 30,
   "id": "573f3e8a",
   "metadata": {},
   "outputs": [
    {
     "data": {
      "text/html": [
       "<div>\n",
       "<style scoped>\n",
       "    .dataframe tbody tr th:only-of-type {\n",
       "        vertical-align: middle;\n",
       "    }\n",
       "\n",
       "    .dataframe tbody tr th {\n",
       "        vertical-align: top;\n",
       "    }\n",
       "\n",
       "    .dataframe thead th {\n",
       "        text-align: right;\n",
       "    }\n",
       "</style>\n",
       "<table border=\"1\" class=\"dataframe\">\n",
       "  <thead>\n",
       "    <tr style=\"text-align: right;\">\n",
       "      <th></th>\n",
       "      <th>Rank</th>\n",
       "      <th>State</th>\n",
       "      <th>GSDP(21-22)</th>\n",
       "      <th>GSDP(22-23)</th>\n",
       "      <th>Share(21-22)</th>\n",
       "      <th>GDP($ billion)</th>\n",
       "    </tr>\n",
       "  </thead>\n",
       "  <tbody>\n",
       "    <tr>\n",
       "      <th>0</th>\n",
       "      <td>1</td>\n",
       "      <td>Maharashtra</td>\n",
       "      <td>3,108,022</td>\n",
       "      <td>-</td>\n",
       "      <td>13.17%</td>\n",
       "      <td>414.928</td>\n",
       "    </tr>\n",
       "    <tr>\n",
       "      <th>1</th>\n",
       "      <td>2</td>\n",
       "      <td>Tamil Nadu</td>\n",
       "      <td>2,071,286</td>\n",
       "      <td>2,364,514</td>\n",
       "      <td>8.78%</td>\n",
       "      <td>276.522</td>\n",
       "    </tr>\n",
       "    <tr>\n",
       "      <th>2</th>\n",
       "      <td>3</td>\n",
       "      <td>Karnataka</td>\n",
       "      <td>1,978,094</td>\n",
       "      <td>2,269,995</td>\n",
       "      <td>8.38%</td>\n",
       "      <td>264.080</td>\n",
       "    </tr>\n",
       "    <tr>\n",
       "      <th>3</th>\n",
       "      <td>4</td>\n",
       "      <td>Uttar Pradesh</td>\n",
       "      <td>1,975,595</td>\n",
       "      <td>2,258,040</td>\n",
       "      <td>8.37%</td>\n",
       "      <td>263.747</td>\n",
       "    </tr>\n",
       "    <tr>\n",
       "      <th>4</th>\n",
       "      <td>5</td>\n",
       "      <td>Gujarat</td>\n",
       "      <td>1,928,683</td>\n",
       "      <td>2,230,609</td>\n",
       "      <td>8.17%</td>\n",
       "      <td>257.484</td>\n",
       "    </tr>\n",
       "    <tr>\n",
       "      <th>5</th>\n",
       "      <td>6</td>\n",
       "      <td>West Bengal</td>\n",
       "      <td>1,329,238</td>\n",
       "      <td>1,531,758</td>\n",
       "      <td>5.63%</td>\n",
       "      <td>177.456</td>\n",
       "    </tr>\n",
       "    <tr>\n",
       "      <th>6</th>\n",
       "      <td>7</td>\n",
       "      <td>Rajasthan</td>\n",
       "      <td>1,193,489</td>\n",
       "      <td>1,365,849</td>\n",
       "      <td>5.06%</td>\n",
       "      <td>159.334</td>\n",
       "    </tr>\n",
       "    <tr>\n",
       "      <th>7</th>\n",
       "      <td>8</td>\n",
       "      <td>Andhra Pradesh</td>\n",
       "      <td>1,148,471</td>\n",
       "      <td>1,303,524</td>\n",
       "      <td>4.87%</td>\n",
       "      <td>153.324</td>\n",
       "    </tr>\n",
       "    <tr>\n",
       "      <th>8</th>\n",
       "      <td>9</td>\n",
       "      <td>Telangana</td>\n",
       "      <td>1,124,204</td>\n",
       "      <td>1,308,034</td>\n",
       "      <td>4.76%</td>\n",
       "      <td>150.084</td>\n",
       "    </tr>\n",
       "    <tr>\n",
       "      <th>9</th>\n",
       "      <td>10</td>\n",
       "      <td>Madhya Pradesh</td>\n",
       "      <td>1,092,964</td>\n",
       "      <td>1,246,471</td>\n",
       "      <td>4.63%</td>\n",
       "      <td>145.913</td>\n",
       "    </tr>\n",
       "    <tr>\n",
       "      <th>10</th>\n",
       "      <td>11</td>\n",
       "      <td>Kerala</td>\n",
       "      <td>934,542</td>\n",
       "      <td>1,046,188</td>\n",
       "      <td>3.96%</td>\n",
       "      <td>124.764</td>\n",
       "    </tr>\n",
       "    <tr>\n",
       "      <th>11</th>\n",
       "      <td>12</td>\n",
       "      <td>Delhi</td>\n",
       "      <td>881,336</td>\n",
       "      <td>1,014,688</td>\n",
       "      <td>3.73%</td>\n",
       "      <td>117.660</td>\n",
       "    </tr>\n",
       "    <tr>\n",
       "      <th>12</th>\n",
       "      <td>13</td>\n",
       "      <td>Haryana</td>\n",
       "      <td>868,905</td>\n",
       "      <td>984,055</td>\n",
       "      <td>3.68%</td>\n",
       "      <td>116.001</td>\n",
       "    </tr>\n",
       "    <tr>\n",
       "      <th>13</th>\n",
       "      <td>14</td>\n",
       "      <td>Odisha</td>\n",
       "      <td>662,886</td>\n",
       "      <td>753,177</td>\n",
       "      <td>2.81%</td>\n",
       "      <td>88.497</td>\n",
       "    </tr>\n",
       "    <tr>\n",
       "      <th>14</th>\n",
       "      <td>15</td>\n",
       "      <td>Bihar</td>\n",
       "      <td>650,302</td>\n",
       "      <td>751,396</td>\n",
       "      <td>2.76%</td>\n",
       "      <td>86.817</td>\n",
       "    </tr>\n",
       "    <tr>\n",
       "      <th>15</th>\n",
       "      <td>16</td>\n",
       "      <td>Punjab</td>\n",
       "      <td>617,192</td>\n",
       "      <td>676,164</td>\n",
       "      <td>2.62%</td>\n",
       "      <td>82.397</td>\n",
       "    </tr>\n",
       "    <tr>\n",
       "      <th>16</th>\n",
       "      <td>17</td>\n",
       "      <td>Assam</td>\n",
       "      <td>411,454</td>\n",
       "      <td>493,167</td>\n",
       "      <td>1.74%</td>\n",
       "      <td>54.930</td>\n",
       "    </tr>\n",
       "    <tr>\n",
       "      <th>17</th>\n",
       "      <td>18</td>\n",
       "      <td>Chhattisgarh</td>\n",
       "      <td>410,525</td>\n",
       "      <td>464,399</td>\n",
       "      <td>1.74%</td>\n",
       "      <td>54.806</td>\n",
       "    </tr>\n",
       "    <tr>\n",
       "      <th>18</th>\n",
       "      <td>19</td>\n",
       "      <td>Jharkhand</td>\n",
       "      <td>358,863</td>\n",
       "      <td>393,722</td>\n",
       "      <td>1.52%</td>\n",
       "      <td>47.909</td>\n",
       "    </tr>\n",
       "    <tr>\n",
       "      <th>19</th>\n",
       "      <td>20</td>\n",
       "      <td>Uttarakhand</td>\n",
       "      <td>267,143</td>\n",
       "      <td>303,781</td>\n",
       "      <td>1.13%</td>\n",
       "      <td>35.664</td>\n",
       "    </tr>\n",
       "    <tr>\n",
       "      <th>20</th>\n",
       "      <td>21</td>\n",
       "      <td>Jammu &amp; Kashmir</td>\n",
       "      <td>193,352</td>\n",
       "      <td>224,226</td>\n",
       "      <td>0.82%</td>\n",
       "      <td>25.813</td>\n",
       "    </tr>\n",
       "    <tr>\n",
       "      <th>21</th>\n",
       "      <td>22</td>\n",
       "      <td>Himachal Pradesh</td>\n",
       "      <td>172,162</td>\n",
       "      <td>191,728</td>\n",
       "      <td>0.73%</td>\n",
       "      <td>22.984</td>\n",
       "    </tr>\n",
       "    <tr>\n",
       "      <th>22</th>\n",
       "      <td>23</td>\n",
       "      <td>Goa</td>\n",
       "      <td>84,266</td>\n",
       "      <td>93,672</td>\n",
       "      <td>0.36%</td>\n",
       "      <td>11.250</td>\n",
       "    </tr>\n",
       "    <tr>\n",
       "      <th>23</th>\n",
       "      <td>24</td>\n",
       "      <td>Tripura</td>\n",
       "      <td>62,550</td>\n",
       "      <td>72,636</td>\n",
       "      <td>0.27%</td>\n",
       "      <td>8.351</td>\n",
       "    </tr>\n",
       "    <tr>\n",
       "      <th>24</th>\n",
       "      <td>25</td>\n",
       "      <td>Chandigarh</td>\n",
       "      <td>46,096</td>\n",
       "      <td>54,285</td>\n",
       "      <td>0.20%</td>\n",
       "      <td>6.154</td>\n",
       "    </tr>\n",
       "    <tr>\n",
       "      <th>25</th>\n",
       "      <td>26</td>\n",
       "      <td>Puducherry</td>\n",
       "      <td>43,810</td>\n",
       "      <td>49,643</td>\n",
       "      <td>0.19%</td>\n",
       "      <td>5.849</td>\n",
       "    </tr>\n",
       "    <tr>\n",
       "      <th>26</th>\n",
       "      <td>27</td>\n",
       "      <td>Meghalaya</td>\n",
       "      <td>38,785</td>\n",
       "      <td>42,697</td>\n",
       "      <td>0.16%</td>\n",
       "      <td>5.178</td>\n",
       "    </tr>\n",
       "    <tr>\n",
       "      <th>27</th>\n",
       "      <td>28</td>\n",
       "      <td>Sikkim</td>\n",
       "      <td>37,557</td>\n",
       "      <td>42,756</td>\n",
       "      <td>0.16%</td>\n",
       "      <td>5.014</td>\n",
       "    </tr>\n",
       "    <tr>\n",
       "      <th>28</th>\n",
       "      <td>29</td>\n",
       "      <td>Manipur</td>\n",
       "      <td>36,594</td>\n",
       "      <td>-</td>\n",
       "      <td>0.16%</td>\n",
       "      <td>4.885</td>\n",
       "    </tr>\n",
       "    <tr>\n",
       "      <th>29</th>\n",
       "      <td>30</td>\n",
       "      <td>Arunachal Pradesh</td>\n",
       "      <td>34,775</td>\n",
       "      <td>39,630</td>\n",
       "      <td>0.15%</td>\n",
       "      <td>4.643</td>\n",
       "    </tr>\n",
       "    <tr>\n",
       "      <th>30</th>\n",
       "      <td>31</td>\n",
       "      <td>Nagaland</td>\n",
       "      <td>31,038</td>\n",
       "      <td>35,643</td>\n",
       "      <td>0.13%</td>\n",
       "      <td>4.144</td>\n",
       "    </tr>\n",
       "    <tr>\n",
       "      <th>31</th>\n",
       "      <td>32</td>\n",
       "      <td>Mizoram</td>\n",
       "      <td>27,824</td>\n",
       "      <td>-</td>\n",
       "      <td>0.12%</td>\n",
       "      <td>3.715</td>\n",
       "    </tr>\n",
       "    <tr>\n",
       "      <th>32</th>\n",
       "      <td>33</td>\n",
       "      <td>Andaman &amp; Nicobar Islands</td>\n",
       "      <td>10,371</td>\n",
       "      <td>-</td>\n",
       "      <td>0.04%</td>\n",
       "      <td>1.385</td>\n",
       "    </tr>\n",
       "  </tbody>\n",
       "</table>\n",
       "</div>"
      ],
      "text/plain": [
       "   Rank                      State GSDP(21-22) GSDP(22-23) Share(21-22)  \\\n",
       "0     1                Maharashtra   3,108,022           -       13.17%   \n",
       "1     2                 Tamil Nadu   2,071,286   2,364,514        8.78%   \n",
       "2     3                  Karnataka   1,978,094   2,269,995        8.38%   \n",
       "3     4              Uttar Pradesh   1,975,595   2,258,040        8.37%   \n",
       "4     5                    Gujarat   1,928,683   2,230,609        8.17%   \n",
       "5     6                West Bengal   1,329,238   1,531,758        5.63%   \n",
       "6     7                  Rajasthan   1,193,489   1,365,849        5.06%   \n",
       "7     8             Andhra Pradesh   1,148,471   1,303,524        4.87%   \n",
       "8     9                  Telangana   1,124,204   1,308,034        4.76%   \n",
       "9    10             Madhya Pradesh   1,092,964   1,246,471        4.63%   \n",
       "10   11                     Kerala     934,542   1,046,188        3.96%   \n",
       "11   12                      Delhi     881,336   1,014,688        3.73%   \n",
       "12   13                    Haryana     868,905     984,055        3.68%   \n",
       "13   14                     Odisha     662,886     753,177        2.81%   \n",
       "14   15                      Bihar     650,302     751,396        2.76%   \n",
       "15   16                     Punjab     617,192     676,164        2.62%   \n",
       "16   17                      Assam     411,454     493,167        1.74%   \n",
       "17   18               Chhattisgarh     410,525     464,399        1.74%   \n",
       "18   19                  Jharkhand     358,863     393,722        1.52%   \n",
       "19   20                Uttarakhand     267,143     303,781        1.13%   \n",
       "20   21            Jammu & Kashmir     193,352     224,226        0.82%   \n",
       "21   22           Himachal Pradesh     172,162     191,728        0.73%   \n",
       "22   23                        Goa      84,266      93,672        0.36%   \n",
       "23   24                    Tripura      62,550      72,636        0.27%   \n",
       "24   25                 Chandigarh      46,096      54,285        0.20%   \n",
       "25   26                 Puducherry      43,810      49,643        0.19%   \n",
       "26   27                  Meghalaya      38,785      42,697        0.16%   \n",
       "27   28                     Sikkim      37,557      42,756        0.16%   \n",
       "28   29                    Manipur      36,594           -        0.16%   \n",
       "29   30          Arunachal Pradesh      34,775      39,630        0.15%   \n",
       "30   31                   Nagaland      31,038      35,643        0.13%   \n",
       "31   32                    Mizoram      27,824           -        0.12%   \n",
       "32   33  Andaman & Nicobar Islands      10,371           -        0.04%   \n",
       "\n",
       "   GDP($ billion)  \n",
       "0         414.928  \n",
       "1         276.522  \n",
       "2         264.080  \n",
       "3         263.747  \n",
       "4         257.484  \n",
       "5         177.456  \n",
       "6         159.334  \n",
       "7         153.324  \n",
       "8         150.084  \n",
       "9         145.913  \n",
       "10        124.764  \n",
       "11        117.660  \n",
       "12        116.001  \n",
       "13         88.497  \n",
       "14         86.817  \n",
       "15         82.397  \n",
       "16         54.930  \n",
       "17         54.806  \n",
       "18         47.909  \n",
       "19         35.664  \n",
       "20         25.813  \n",
       "21         22.984  \n",
       "22         11.250  \n",
       "23          8.351  \n",
       "24          6.154  \n",
       "25          5.849  \n",
       "26          5.178  \n",
       "27          5.014  \n",
       "28          4.885  \n",
       "29          4.643  \n",
       "30          4.144  \n",
       "31          3.715  \n",
       "32          1.385  "
      ]
     },
     "execution_count": 30,
     "metadata": {},
     "output_type": "execute_result"
    }
   ],
   "source": [
    "df=pd.DataFrame({'Rank':Rank_,\n",
    "                 'State':State_,\n",
    "                 'GSDP(21-22)':GSDP_1,\n",
    "                 'GSDP(22-23)':GSDP,\n",
    "                 'Share(21-22)':Share_,\n",
    "                 'GDP($ billion)':GDP})\n",
    "df"
   ]
  },
  {
   "cell_type": "raw",
   "id": "a7996c25",
   "metadata": {},
   "source": []
  },
  {
   "cell_type": "raw",
   "id": "47f252ea",
   "metadata": {},
   "source": [
    "4. Scrape the details of trending repositories on Github.com.\n",
    "Url = https://github.com/\n",
    "You have to find the following details:\n",
    "A) Repository title\n",
    "B) Repository description\n",
    "C) Contributors count\n",
    "D) Language used "
   ]
  },
  {
   "cell_type": "code",
   "execution_count": 35,
   "id": "420f44c9",
   "metadata": {},
   "outputs": [],
   "source": [
    "driver=webdriver.Chrome()\n",
    "driver.get(\"https://github.com/\")"
   ]
  },
  {
   "cell_type": "code",
   "execution_count": 36,
   "id": "c7066fcd",
   "metadata": {},
   "outputs": [],
   "source": [
    "search=driver.find_element(By.XPATH,'/html/body/div[1]/div[1]/header/div/div[1]/div[2]/button/span/span')\n",
    "search.click()"
   ]
  },
  {
   "cell_type": "code",
   "execution_count": 42,
   "id": "99dd3572",
   "metadata": {},
   "outputs": [],
   "source": [
    "explore=driver.find_element(By.XPATH,'/html/body/div[1]/div[1]/header/div/div[2]/div/nav/ul/li[3]/button')\n",
    "explore.click()"
   ]
  },
  {
   "cell_type": "code",
   "execution_count": 43,
   "id": "014c9f07",
   "metadata": {},
   "outputs": [],
   "source": [
    "trending_op=driver.find_element(By.XPATH,'/html/body/div[1]/div[1]/header/div/div[2]/div/nav/ul/li[3]/div/div[3]/ul/li[2]/a')\n",
    "trending_op.click()"
   ]
  },
  {
   "cell_type": "code",
   "execution_count": 44,
   "id": "fd04642f",
   "metadata": {},
   "outputs": [],
   "source": [
    "# creating list\n",
    "Repo_title=[]\n",
    "Repo_des=[]\n",
    "Contri_count=[]\n",
    "Lang_used=[]"
   ]
  },
  {
   "cell_type": "code",
   "execution_count": 45,
   "id": "90a4de36",
   "metadata": {},
   "outputs": [
    {
     "name": "stdout",
     "output_type": "stream",
     "text": [
      "25 ['massgravel / Microsoft-Activation-Scripts', 'Blealtan / efficient-kan', 'HVision-NKU / StoryDiffusion', 'wandb / openui', 'AtotheY / saas-landingpage', 'VinciGit00 / Scrapegraph-ai', 'rasbt / LLMs-from-scratch', 'Stirling-Tools / Stirling-PDF', 'xM4ddy / OFGB', 'assafelovic / gpt-researcher', 'dockur / windows', 'phidatahq / phidata', 'KindXiaoming / pykan', 'tangzhiyao / boss-show-time', 'pydantic / logfire', 'lencx / ChatGPT', 'apache / dolphinscheduler', 'ca110us / epeius', 'commaai / openpilot', 'codecrafters-io / build-your-own-x', 'renovatebot / renovate', 'DataTalksClub / llm-zoomcamp', 'ChatGPTNextWeb / ChatGPT-Next-Web', 'airbnb / lottie-ios', 'StarRocks / starrocks']\n"
     ]
    }
   ],
   "source": [
    "# scraping data for repository title\n",
    "try:\n",
    "    rep_title=driver.find_elements(By.XPATH,'//h2[@class=\"h3 lh-condensed\"]')\n",
    "    for i in rep_title:\n",
    "        Repo_title.append(i.text)\n",
    "except NoSuchElementException:\n",
    "    Repo_title.append('-')\n",
    "print(len(Repo_title),Repo_title)"
   ]
  },
  {
   "cell_type": "code",
   "execution_count": 46,
   "id": "989acba4",
   "metadata": {},
   "outputs": [
    {
     "name": "stdout",
     "output_type": "stream",
     "text": [
      "25 ['A Windows and Office activator using HWID / Ohook / KMS38 / Online KMS activation methods, with a focus on open-source code and fewer antivirus detections.', 'An efficient pure-PyTorch implementation of Kolmogorov-Arnold Network (KAN).', 'Create Magic Story!', \"OpenUI let's you describe UI using your imagination, then see it rendered live.\", 'https://map.sistilli.dev/public/coding/SaaS+Boilerplate', 'Python scraper based on AI', 'Implementing a ChatGPT-like LLM from scratch, step by step', '#1 Locally hosted web application that allows you to perform various operations on PDF files', 'GUI Tool To Removes Ads From Various Places Around Windows 11', 'GPT based autonomous agent that does online comprehensive research on any given topic', 'Windows in a Docker container.', 'Memory, knowledge and tools for LLMs', 'Kolmogorov Arnold Networks', '展示boss直聘岗位的发布时间', 'Uncomplicated Observability for Python and beyond! 🪵🔥', '🔮 ChatGPT Desktop Application (Mac, Windows and Linux)', 'Apache DolphinScheduler is the modern data orchestration platform. Agile to create high performance workflow with low-code', 'Deploy Trojan using a Serverless approach', 'openpilot is an open source driver assistance system. openpilot performs the functions of Automated Lane Centering and Adaptive Cruise Control for 250+ supported car makes and models.', 'Master programming by recreating your favorite technologies from scratch.', 'Universal dependency automation tool.', 'LLM Zoomcamp - a free online course about building an AI bot that can answer questions about your knowledge base', 'A cross-platform ChatGPT/Gemini UI (Web / PWA / Linux / Win / MacOS). 一键拥有你自己的跨平台 ChatGPT/Gemini 应用。', 'An iOS library to natively render After Effects vector animations', 'StarRocks, a Linux Foundation project, is a next-generation sub-second MPP OLAP database for full analytics scenarios, including multi-dimensional analytics, real-time analytics, and ad-hoc queries. InfoWorld’s 2023 BOSSIE Award for best open source software.']\n"
     ]
    }
   ],
   "source": [
    "# sraping data for repository description\n",
    "try:\n",
    "    rep_des=driver.find_elements(By.XPATH,'//p[@class=\"col-9 color-fg-muted my-1 pr-4\"]')\n",
    "    for i in rep_des:\n",
    "        Repo_des.append(i.text)\n",
    "except NoSuchElementException:\n",
    "    Repo_des.append('-')\n",
    "print(len(Repo_des),Repo_des)"
   ]
  },
  {
   "cell_type": "code",
   "execution_count": 48,
   "id": "46b28692",
   "metadata": {},
   "outputs": [
    {
     "name": "stdout",
     "output_type": "stream",
     "text": [
      "25 ['7,470', '82', '190', '835', '38', '172', '1,400', '1,735', '118', '1,170', '1,040', '735', '644', '11', '31', '5,422', '4,420', '254', '8,590', '24,695', '2,051', '49', '55,463', '3,683', '1,614']\n"
     ]
    }
   ],
   "source": [
    "# scrsping data for contributors count\n",
    "try:\n",
    "    cont_count=driver.find_elements(By.XPATH,'//div[@class=\"f6 color-fg-muted mt-2\"]/a[2]')\n",
    "    for i in cont_count:\n",
    "        Contri_count.append(i.text)\n",
    "except NoSuchElementException:\n",
    "    Contri_count.append('-')\n",
    "print(len(Contri_count),Contri_count)"
   ]
  },
  {
   "cell_type": "code",
   "execution_count": 47,
   "id": "b9cecc91",
   "metadata": {},
   "outputs": [
    {
     "name": "stdout",
     "output_type": "stream",
     "text": [
      "22 ['Batchfile', 'Python', 'Jupyter Notebook', 'TypeScript', 'TypeScript', 'Python', 'Jupyter Notebook', 'Java', 'C#', 'Python', 'Shell', 'Python', 'Jupyter Notebook', 'JavaScript', 'Python', 'Rust', 'Java', 'Python', 'TypeScript', 'TypeScript', 'Swift', 'Java']\n"
     ]
    }
   ],
   "source": [
    "# scraping data for language used\n",
    "try:\n",
    "    lan_used=driver.find_elements(By.XPATH,'//span[@class=\"d-inline-block ml-0 mr-3\"]')\n",
    "    for i in lan_used:\n",
    "        Lang_used.append(i.text)\n",
    "except NoSuchElementException:\n",
    "    Lang_used.append('-')\n",
    "print(len(Lang_used),Lang_used)"
   ]
  },
  {
   "cell_type": "code",
   "execution_count": 49,
   "id": "7e2dd1bd",
   "metadata": {},
   "outputs": [
    {
     "data": {
      "text/html": [
       "<div>\n",
       "<style scoped>\n",
       "    .dataframe tbody tr th:only-of-type {\n",
       "        vertical-align: middle;\n",
       "    }\n",
       "\n",
       "    .dataframe tbody tr th {\n",
       "        vertical-align: top;\n",
       "    }\n",
       "\n",
       "    .dataframe thead th {\n",
       "        text-align: right;\n",
       "    }\n",
       "</style>\n",
       "<table border=\"1\" class=\"dataframe\">\n",
       "  <thead>\n",
       "    <tr style=\"text-align: right;\">\n",
       "      <th></th>\n",
       "      <th>Repository Title</th>\n",
       "      <th>Repository Desription</th>\n",
       "      <th>Contributors Count</th>\n",
       "      <th>Language Used</th>\n",
       "    </tr>\n",
       "  </thead>\n",
       "  <tbody>\n",
       "    <tr>\n",
       "      <th>0</th>\n",
       "      <td>massgravel / Microsoft-Activation-Scripts</td>\n",
       "      <td>A Windows and Office activator using HWID / Oh...</td>\n",
       "      <td>7,470</td>\n",
       "      <td>Batchfile</td>\n",
       "    </tr>\n",
       "    <tr>\n",
       "      <th>1</th>\n",
       "      <td>Blealtan / efficient-kan</td>\n",
       "      <td>An efficient pure-PyTorch implementation of Ko...</td>\n",
       "      <td>82</td>\n",
       "      <td>Python</td>\n",
       "    </tr>\n",
       "    <tr>\n",
       "      <th>2</th>\n",
       "      <td>HVision-NKU / StoryDiffusion</td>\n",
       "      <td>Create Magic Story!</td>\n",
       "      <td>190</td>\n",
       "      <td>Jupyter Notebook</td>\n",
       "    </tr>\n",
       "    <tr>\n",
       "      <th>3</th>\n",
       "      <td>wandb / openui</td>\n",
       "      <td>OpenUI let's you describe UI using your imagin...</td>\n",
       "      <td>835</td>\n",
       "      <td>TypeScript</td>\n",
       "    </tr>\n",
       "    <tr>\n",
       "      <th>4</th>\n",
       "      <td>AtotheY / saas-landingpage</td>\n",
       "      <td>https://map.sistilli.dev/public/coding/SaaS+Bo...</td>\n",
       "      <td>38</td>\n",
       "      <td>TypeScript</td>\n",
       "    </tr>\n",
       "    <tr>\n",
       "      <th>5</th>\n",
       "      <td>VinciGit00 / Scrapegraph-ai</td>\n",
       "      <td>Python scraper based on AI</td>\n",
       "      <td>172</td>\n",
       "      <td>Python</td>\n",
       "    </tr>\n",
       "    <tr>\n",
       "      <th>6</th>\n",
       "      <td>rasbt / LLMs-from-scratch</td>\n",
       "      <td>Implementing a ChatGPT-like LLM from scratch, ...</td>\n",
       "      <td>1,400</td>\n",
       "      <td>Jupyter Notebook</td>\n",
       "    </tr>\n",
       "    <tr>\n",
       "      <th>7</th>\n",
       "      <td>Stirling-Tools / Stirling-PDF</td>\n",
       "      <td>#1 Locally hosted web application that allows ...</td>\n",
       "      <td>1,735</td>\n",
       "      <td>Java</td>\n",
       "    </tr>\n",
       "    <tr>\n",
       "      <th>8</th>\n",
       "      <td>xM4ddy / OFGB</td>\n",
       "      <td>GUI Tool To Removes Ads From Various Places Ar...</td>\n",
       "      <td>118</td>\n",
       "      <td>C#</td>\n",
       "    </tr>\n",
       "    <tr>\n",
       "      <th>9</th>\n",
       "      <td>assafelovic / gpt-researcher</td>\n",
       "      <td>GPT based autonomous agent that does online co...</td>\n",
       "      <td>1,170</td>\n",
       "      <td>Python</td>\n",
       "    </tr>\n",
       "    <tr>\n",
       "      <th>10</th>\n",
       "      <td>dockur / windows</td>\n",
       "      <td>Windows in a Docker container.</td>\n",
       "      <td>1,040</td>\n",
       "      <td>Shell</td>\n",
       "    </tr>\n",
       "    <tr>\n",
       "      <th>11</th>\n",
       "      <td>phidatahq / phidata</td>\n",
       "      <td>Memory, knowledge and tools for LLMs</td>\n",
       "      <td>735</td>\n",
       "      <td>Python</td>\n",
       "    </tr>\n",
       "    <tr>\n",
       "      <th>12</th>\n",
       "      <td>KindXiaoming / pykan</td>\n",
       "      <td>Kolmogorov Arnold Networks</td>\n",
       "      <td>644</td>\n",
       "      <td>Jupyter Notebook</td>\n",
       "    </tr>\n",
       "    <tr>\n",
       "      <th>13</th>\n",
       "      <td>tangzhiyao / boss-show-time</td>\n",
       "      <td>展示boss直聘岗位的发布时间</td>\n",
       "      <td>11</td>\n",
       "      <td>JavaScript</td>\n",
       "    </tr>\n",
       "    <tr>\n",
       "      <th>14</th>\n",
       "      <td>pydantic / logfire</td>\n",
       "      <td>Uncomplicated Observability for Python and bey...</td>\n",
       "      <td>31</td>\n",
       "      <td>Python</td>\n",
       "    </tr>\n",
       "    <tr>\n",
       "      <th>15</th>\n",
       "      <td>lencx / ChatGPT</td>\n",
       "      <td>🔮 ChatGPT Desktop Application (Mac, Windows an...</td>\n",
       "      <td>5,422</td>\n",
       "      <td>Rust</td>\n",
       "    </tr>\n",
       "    <tr>\n",
       "      <th>16</th>\n",
       "      <td>apache / dolphinscheduler</td>\n",
       "      <td>Apache DolphinScheduler is the modern data orc...</td>\n",
       "      <td>4,420</td>\n",
       "      <td>Java</td>\n",
       "    </tr>\n",
       "    <tr>\n",
       "      <th>17</th>\n",
       "      <td>ca110us / epeius</td>\n",
       "      <td>Deploy Trojan using a Serverless approach</td>\n",
       "      <td>254</td>\n",
       "      <td>Python</td>\n",
       "    </tr>\n",
       "    <tr>\n",
       "      <th>18</th>\n",
       "      <td>commaai / openpilot</td>\n",
       "      <td>openpilot is an open source driver assistance ...</td>\n",
       "      <td>8,590</td>\n",
       "      <td>TypeScript</td>\n",
       "    </tr>\n",
       "    <tr>\n",
       "      <th>19</th>\n",
       "      <td>codecrafters-io / build-your-own-x</td>\n",
       "      <td>Master programming by recreating your favorite...</td>\n",
       "      <td>24,695</td>\n",
       "      <td>TypeScript</td>\n",
       "    </tr>\n",
       "    <tr>\n",
       "      <th>20</th>\n",
       "      <td>renovatebot / renovate</td>\n",
       "      <td>Universal dependency automation tool.</td>\n",
       "      <td>2,051</td>\n",
       "      <td>Swift</td>\n",
       "    </tr>\n",
       "    <tr>\n",
       "      <th>21</th>\n",
       "      <td>DataTalksClub / llm-zoomcamp</td>\n",
       "      <td>LLM Zoomcamp - a free online course about buil...</td>\n",
       "      <td>49</td>\n",
       "      <td>Java</td>\n",
       "    </tr>\n",
       "  </tbody>\n",
       "</table>\n",
       "</div>"
      ],
      "text/plain": [
       "                             Repository Title  \\\n",
       "0   massgravel / Microsoft-Activation-Scripts   \n",
       "1                    Blealtan / efficient-kan   \n",
       "2                HVision-NKU / StoryDiffusion   \n",
       "3                              wandb / openui   \n",
       "4                  AtotheY / saas-landingpage   \n",
       "5                 VinciGit00 / Scrapegraph-ai   \n",
       "6                   rasbt / LLMs-from-scratch   \n",
       "7               Stirling-Tools / Stirling-PDF   \n",
       "8                               xM4ddy / OFGB   \n",
       "9                assafelovic / gpt-researcher   \n",
       "10                           dockur / windows   \n",
       "11                        phidatahq / phidata   \n",
       "12                       KindXiaoming / pykan   \n",
       "13                tangzhiyao / boss-show-time   \n",
       "14                         pydantic / logfire   \n",
       "15                            lencx / ChatGPT   \n",
       "16                  apache / dolphinscheduler   \n",
       "17                           ca110us / epeius   \n",
       "18                        commaai / openpilot   \n",
       "19         codecrafters-io / build-your-own-x   \n",
       "20                     renovatebot / renovate   \n",
       "21               DataTalksClub / llm-zoomcamp   \n",
       "\n",
       "                                Repository Desription Contributors Count  \\\n",
       "0   A Windows and Office activator using HWID / Oh...              7,470   \n",
       "1   An efficient pure-PyTorch implementation of Ko...                 82   \n",
       "2                                 Create Magic Story!                190   \n",
       "3   OpenUI let's you describe UI using your imagin...                835   \n",
       "4   https://map.sistilli.dev/public/coding/SaaS+Bo...                 38   \n",
       "5                          Python scraper based on AI                172   \n",
       "6   Implementing a ChatGPT-like LLM from scratch, ...              1,400   \n",
       "7   #1 Locally hosted web application that allows ...              1,735   \n",
       "8   GUI Tool To Removes Ads From Various Places Ar...                118   \n",
       "9   GPT based autonomous agent that does online co...              1,170   \n",
       "10                     Windows in a Docker container.              1,040   \n",
       "11               Memory, knowledge and tools for LLMs                735   \n",
       "12                         Kolmogorov Arnold Networks                644   \n",
       "13                                    展示boss直聘岗位的发布时间                 11   \n",
       "14  Uncomplicated Observability for Python and bey...                 31   \n",
       "15  🔮 ChatGPT Desktop Application (Mac, Windows an...              5,422   \n",
       "16  Apache DolphinScheduler is the modern data orc...              4,420   \n",
       "17          Deploy Trojan using a Serverless approach                254   \n",
       "18  openpilot is an open source driver assistance ...              8,590   \n",
       "19  Master programming by recreating your favorite...             24,695   \n",
       "20              Universal dependency automation tool.              2,051   \n",
       "21  LLM Zoomcamp - a free online course about buil...                 49   \n",
       "\n",
       "       Language Used  \n",
       "0          Batchfile  \n",
       "1             Python  \n",
       "2   Jupyter Notebook  \n",
       "3         TypeScript  \n",
       "4         TypeScript  \n",
       "5             Python  \n",
       "6   Jupyter Notebook  \n",
       "7               Java  \n",
       "8                 C#  \n",
       "9             Python  \n",
       "10             Shell  \n",
       "11            Python  \n",
       "12  Jupyter Notebook  \n",
       "13        JavaScript  \n",
       "14            Python  \n",
       "15              Rust  \n",
       "16              Java  \n",
       "17            Python  \n",
       "18        TypeScript  \n",
       "19        TypeScript  \n",
       "20             Swift  \n",
       "21              Java  "
      ]
     },
     "execution_count": 49,
     "metadata": {},
     "output_type": "execute_result"
    }
   ],
   "source": [
    "df=pd.DataFrame({'Repository Title':Repo_title[:22],\n",
    "                 'Repository Desription':Repo_des[:22],\n",
    "                 'Contributors Count':Contri_count[:22],\n",
    "                 'Language Used':Lang_used[:22]})\n",
    "df"
   ]
  },
  {
   "cell_type": "code",
   "execution_count": null,
   "id": "be7a4542",
   "metadata": {},
   "outputs": [],
   "source": []
  },
  {
   "cell_type": "raw",
   "id": "c65623c4",
   "metadata": {},
   "source": [
    "5. Scrape the details of top 100 songs on billiboard.com. Url = https:/www.billboard.com/ You have to find the \n",
    "following details: \n",
    "A) Song name \n",
    "B) Artist name \n",
    "C) Last week rank \n",
    "D) Peak rank \n",
    "E) Weeks on board \n",
    " Note: - From the home page you have to click on the charts option then hot 100-page link through code. "
   ]
  },
  {
   "cell_type": "code",
   "execution_count": 23,
   "id": "4810031c",
   "metadata": {},
   "outputs": [],
   "source": [
    "driver=webdriver.Chrome()\n",
    "driver.get(\"https:/www.billboard.com/\")"
   ]
  },
  {
   "cell_type": "code",
   "execution_count": 25,
   "id": "a695b5dc",
   "metadata": {},
   "outputs": [],
   "source": [
    "click_=driver.find_element(By.XPATH,'/html/body/div[3]/header/div/div[4]/div/div[1]/div[1]/button')\n",
    "click_.click()"
   ]
  },
  {
   "cell_type": "code",
   "execution_count": 26,
   "id": "ad746185",
   "metadata": {},
   "outputs": [],
   "source": [
    "go_to_charts=driver.find_element(By.XPATH,'/html/body/div[3]/div[9]/div/div/div/ul/li[1]/h3/a')\n",
    "go_to_charts.click()"
   ]
  },
  {
   "cell_type": "code",
   "execution_count": 27,
   "id": "96bcd790",
   "metadata": {},
   "outputs": [],
   "source": [
    "go_to_100=driver.find_element(By.XPATH,'/html/body/div[3]/main/div[2]/div[1]/div[1]/div/div/div[1]/div/div[2]')\n",
    "go_to_100.click()"
   ]
  },
  {
   "cell_type": "code",
   "execution_count": 28,
   "id": "30b13806",
   "metadata": {},
   "outputs": [],
   "source": [
    "# creating list\n",
    "Song_name=[]\n",
    "Artist_name=[]\n",
    "Last_week_rank=[]\n",
    "Peak_rank=[]\n",
    "Weeks_on_board=[]"
   ]
  },
  {
   "cell_type": "code",
   "execution_count": 29,
   "id": "89bbd739",
   "metadata": {},
   "outputs": [
    {
     "name": "stdout",
     "output_type": "stream",
     "text": [
      "100 ['Fortnight', 'Down Bad', 'I Can Do It With A Broken Heart', 'The Tortured Poets Department', 'So Long, London', 'My Boy Only Breaks His Favorite Toys', 'But Daddy I Love Him', 'Florida!!!', \"Who's Afraid Of Little Old Me?\", 'Guilty As Sin?', 'Fresh Out The Slammer', 'loml', 'The Alchemy', 'The Smallest Man Who Ever Lived', 'Beautiful Things', 'Too Sweet', 'Like That', 'Lose Control', 'Push Ups', 'I Can Fix Him (No Really I Can)', 'Clara Bow', 'Espresso', 'thanK you aIMee', 'So High School', 'The Black Dog', 'imgonnagetyouback', 'A Bar Song (Tipsy)', 'Lovin On Me', 'Saturn', 'The Albatross', \"Texas Hold 'Em\", 'The Prophecy', \"We Can't Be Friends (Wait For Your Love)\", 'I Hate It Here', 'How Did It End?', 'Chloe Or Sam Or Sophia Or Marcus', 'Stick Season', 'I Like The Way You Kiss Me', \"I Look In People's Windows\", 'I Remember Everything', 'Cruel Summer', 'Greedy', 'Type Shit', 'Cassandra', 'Agora Hills', 'Peter', 'The Bolter', 'Wanna Be', 'Get It Sexyy', 'Feather', 'The Manuscript', 'Carnival', 'FTCU', 'Whatever She Wants', 'Robin', 'End Of Beginning', 'Redrum', 'Gata Only', 'Yeah Glo!', 'Austin', 'Never Lose Me', 'Good Luck, Babe!', 'Act II: Date @ 8', 'Made For Me', 'Where It Ends', 'Tell Ur Girlfriend', 'FE!N', 'Wild Ones', 'Slow It Down', 'Cinderella', 'Wildflowers And Wild Horses', 'Hell N Back', 'Back Then Right Now', 'Obsessed', 'Get In With Me', \"Wind Up Missin' You\", 'Mmhmm', 'Illusion', 'Bulletproof', 'Enough (Miami)', 'Everybody', 'Scared To Start', 'La Diabla', 'II Most Wanted', 'Cry', 'Outskirts', 'Tu Name', \"We Still Don't Trust You\", 'One Of The Girls', \"Let's Go\", '23', 'Tucson Too Late', 'Halfway To Hell', 'Praise Jah In The Moonlight', 'Feel It', 'Us Vs. Them', 'Wine Into Whiskey', 'Spin You Around (1/24)', 'Soak City', 'Selfish']\n"
     ]
    }
   ],
   "source": [
    "# scraping data for song name\n",
    "try:\n",
    "    s_name=driver.find_elements(By.XPATH,'//div[@class=\"o-chart-results-list-row-container\"]/ul/li[4]/ul/li/h3')\n",
    "    for i in s_name:\n",
    "        Song_name.append(i.text)\n",
    "except NoSuchElementException:\n",
    "    Song_name.apprnd('-')\n",
    "print(len(Song_name),Song_name)"
   ]
  },
  {
   "cell_type": "code",
   "execution_count": 30,
   "id": "33ffa2f0",
   "metadata": {},
   "outputs": [
    {
     "name": "stdout",
     "output_type": "stream",
     "text": [
      "100 ['Taylor Swift Featuring Post Malone', 'Taylor Swift', 'Taylor Swift', 'Taylor Swift', 'Taylor Swift', 'Taylor Swift', 'Taylor Swift', 'Taylor Swift Featuring Florence + The Machine', 'Taylor Swift', 'Taylor Swift', 'Taylor Swift', 'Taylor Swift', 'Taylor Swift', 'Taylor Swift', 'Benson Boone', 'Hozier', 'Future, Metro Boomin & Kendrick Lamar', 'Teddy Swims', 'Drake', 'Taylor Swift', 'Taylor Swift', 'Sabrina Carpenter', 'Taylor Swift', 'Taylor Swift', 'Taylor Swift', 'Taylor Swift', 'Shaboozey', 'Jack Harlow', 'SZA', 'Taylor Swift', 'Beyonce', 'Taylor Swift', 'Ariana Grande', 'Taylor Swift', 'Taylor Swift', 'Taylor Swift', 'Noah Kahan', 'Artemas', 'Taylor Swift', 'Zach Bryan Featuring Kacey Musgraves', 'Taylor Swift', 'Tate McRae', 'Future, Metro Boomin, Travis Scott & Playboi Carti', 'Taylor Swift', 'Doja Cat', 'Taylor Swift', 'Taylor Swift', 'GloRilla & Megan Thee Stallion', 'Sexyy Red', 'Sabrina Carpenter', 'Taylor Swift', '¥$: Ye & Ty Dolla $ign Featuring Rich The Kid & Playboi Carti', 'Nicki Minaj', 'Bryson Tiller', 'Taylor Swift', 'Djo', '21 Savage', 'FloyyMenor X Cris Mj', 'GloRilla', 'Dasha', 'Flo Milli', 'Chappell Roan', '4Batz Featuring Drake', 'Muni Long', 'Bailey Zimmerman', 'Lay Bankz', 'Travis Scott Featuring Playboi Carti', 'Jessie Murph & Jelly Roll', 'Benson Boone', 'Future, Metro Boomin & Travis Scott', 'Lainey Wilson', 'Bakar Featuring Summer Walker', 'Tyler Hubbard', 'Olivia Rodrigo', 'BossMan Dlow', 'Tucker Wetmore', 'BigXthaPlug', 'Dua Lipa', 'Nate Smith', 'Cardi B', 'Nicki Minaj Featuring Lil Uzi Vert', 'Michael Marcagi', 'Xavi', 'Beyonce & Miley Cyrus', 'Benson Boone', 'Sam Hunt', 'Fuerza Regida', 'Future, Metro Boomin & The Weeknd', 'The Weeknd, Jennie & Lily Rose Depp', 'Key Glock & Young Dolph', 'Chayce Beckham', 'Jordan Davis', 'Jelly Roll', 'YG Marley', 'd4vd', '$uicideBoy$', 'Tucker Wetmore', 'Morgan Wallen', '310babii', 'Justin Timberlake']\n"
     ]
    }
   ],
   "source": [
    "# scraping data for artist name\n",
    "try:\n",
    "    arti_name=driver.find_elements(By.XPATH,'//div[@class=\"o-chart-results-list-row-container\"]/ul/li[4]/ul/li[1]/span')\n",
    "    for i in arti_name:\n",
    "        Artist_name.append(i.text)\n",
    "except NoSuchElementException:\n",
    "    Artist_name.append('-')\n",
    "print(len(Artist_name),Artist_name)"
   ]
  },
  {
   "cell_type": "code",
   "execution_count": 31,
   "id": "21af10a3",
   "metadata": {},
   "outputs": [
    {
     "name": "stdout",
     "output_type": "stream",
     "text": [
      "100 ['-', '-', '-', '-', '-', '-', '-', '-', '-', '-', '-', '-', '-', '-', '3', '1', '2', '4', '-', '-', '-', '7', '-', '-', '-', '-', '36', '6', '10', '-', '5', '-', '8', '-', '-', '-', '9', '12', '-', '11', '13', '16', '14', '-', '15', '-', '-', '17', '23', '21', '-', '20', '80', '31', '-', '24', '25', '27', '32', '28', '33', '44', '30', '35', '38', '58', '45', '46', '49', '37', '50', '53', '62', '42', '52', '75', '63', '43', '64', '55', '65', '56', '57', '47', '69', '66', '68', '22', '70', '59', '74', '83', '85', '76', '94', '-', '84', '89', '82', '60']\n"
     ]
    }
   ],
   "source": [
    "# scraping data for last week rank\n",
    "try:\n",
    "    last_w_r_=driver.find_elements(By.XPATH,'//div[@class=\"o-chart-results-list-row-container\"]/ul/li[4]/ul/li[4]')\n",
    "    for i in last_w_r_:\n",
    "        Last_week_rank.append(i.text)\n",
    "except NoSuchElementException:\n",
    "    Last_week_rank.append('-')\n",
    "print(len(Last_week_rank),Last_week_rank)"
   ]
  },
  {
   "cell_type": "code",
   "execution_count": 32,
   "id": "79ccac0e",
   "metadata": {},
   "outputs": [
    {
     "name": "stdout",
     "output_type": "stream",
     "text": [
      "100 ['1', '2', '3', '4', '5', '6', '7', '8', '9', '10', '11', '12', '13', '14', '2', '1', '1', '1', '19', '20', '21', '7', '23', '24', '25', '26', '27', '1', '6', '30', '1', '32', '1', '34', '35', '36', '9', '12', '39', '1', '1', '3', '2', '44', '7', '46', '47', '11', '20', '21', '51', '1', '15', '19', '55', '11', '5', '27', '32', '28', '15', '44', '7', '20', '32', '58', '5', '35', '40', '6', '48', '53', '62', '14', '49', '75', '63', '43', '64', '9', '24', '54', '20', '6', '60', '66', '66', '22', '51', '59', '45', '80', '84', '34', '94', '96', '77', '24', '53', '19']\n"
     ]
    }
   ],
   "source": [
    "# scraping data for peak rank\n",
    "try:\n",
    "    peak_rank=driver.find_elements(By.XPATH,'//div[@class=\"o-chart-results-list-row-container\"]/ul/li[4]/ul/li[5]')\n",
    "    for i in peak_rank:\n",
    "        Peak_rank.append(i.text)\n",
    "except NoSuchElementException:\n",
    "    Peak_rank.append('-')\n",
    "print(len(Peak_rank),Peak_rank)"
   ]
  },
  {
   "cell_type": "code",
   "execution_count": 33,
   "id": "8697cc0c",
   "metadata": {},
   "outputs": [
    {
     "name": "stdout",
     "output_type": "stream",
     "text": [
      "100 ['1', '1', '1', '1', '1', '1', '1', '1', '1', '1', '1', '1', '1', '1', '14', '5', '5', '37', '1', '1', '1', '2', '1', '1', '1', '1', '2', '24', '9', '1', '11', '1', '7', '1', '1', '1', '30', '5', '1', '35', '51', '32', '5', '1', '31', '1', '1', '3', '6', '21', '1', '11', '20', '10', '1', '10', '15', '6', '11', '7', '19', '3', '16', '15', '17', '2', '25', '29', '5', '5', '13', '3', '6', '5', '12', '4', '18', '2', '3', '6', '20', '10', '19', '4', '3', '7', '10', '2', '18', '7', '17', '8', '3', '13', '2', '1', '5', '13', '19', '13']\n"
     ]
    }
   ],
   "source": [
    "# scraping data for weeks on board\n",
    "try:\n",
    "    weeks_on_b_=driver.find_elements(By.XPATH,'//div[@class=\"o-chart-results-list-row-container\"]/ul/li[4]/ul/li[6]')\n",
    "    for i in weeks_on_b_:\n",
    "        Weeks_on_board.append(i.text)\n",
    "except NoSuchElementException:\n",
    "    Weeks_on_board.append('-')\n",
    "print(len(Weeks_on_board),Weeks_on_board)"
   ]
  },
  {
   "cell_type": "code",
   "execution_count": 34,
   "id": "085eb4bc",
   "metadata": {},
   "outputs": [
    {
     "data": {
      "text/html": [
       "<div>\n",
       "<style scoped>\n",
       "    .dataframe tbody tr th:only-of-type {\n",
       "        vertical-align: middle;\n",
       "    }\n",
       "\n",
       "    .dataframe tbody tr th {\n",
       "        vertical-align: top;\n",
       "    }\n",
       "\n",
       "    .dataframe thead th {\n",
       "        text-align: right;\n",
       "    }\n",
       "</style>\n",
       "<table border=\"1\" class=\"dataframe\">\n",
       "  <thead>\n",
       "    <tr style=\"text-align: right;\">\n",
       "      <th></th>\n",
       "      <th>Song Name</th>\n",
       "      <th>Artist Name</th>\n",
       "      <th>Last Week Rank</th>\n",
       "      <th>Peak Rank</th>\n",
       "      <th>Weeks On Board</th>\n",
       "    </tr>\n",
       "  </thead>\n",
       "  <tbody>\n",
       "    <tr>\n",
       "      <th>0</th>\n",
       "      <td>Fortnight</td>\n",
       "      <td>Taylor Swift Featuring Post Malone</td>\n",
       "      <td>-</td>\n",
       "      <td>1</td>\n",
       "      <td>1</td>\n",
       "    </tr>\n",
       "    <tr>\n",
       "      <th>1</th>\n",
       "      <td>Down Bad</td>\n",
       "      <td>Taylor Swift</td>\n",
       "      <td>-</td>\n",
       "      <td>2</td>\n",
       "      <td>1</td>\n",
       "    </tr>\n",
       "    <tr>\n",
       "      <th>2</th>\n",
       "      <td>I Can Do It With A Broken Heart</td>\n",
       "      <td>Taylor Swift</td>\n",
       "      <td>-</td>\n",
       "      <td>3</td>\n",
       "      <td>1</td>\n",
       "    </tr>\n",
       "    <tr>\n",
       "      <th>3</th>\n",
       "      <td>The Tortured Poets Department</td>\n",
       "      <td>Taylor Swift</td>\n",
       "      <td>-</td>\n",
       "      <td>4</td>\n",
       "      <td>1</td>\n",
       "    </tr>\n",
       "    <tr>\n",
       "      <th>4</th>\n",
       "      <td>So Long, London</td>\n",
       "      <td>Taylor Swift</td>\n",
       "      <td>-</td>\n",
       "      <td>5</td>\n",
       "      <td>1</td>\n",
       "    </tr>\n",
       "    <tr>\n",
       "      <th>...</th>\n",
       "      <td>...</td>\n",
       "      <td>...</td>\n",
       "      <td>...</td>\n",
       "      <td>...</td>\n",
       "      <td>...</td>\n",
       "    </tr>\n",
       "    <tr>\n",
       "      <th>95</th>\n",
       "      <td>Us Vs. Them</td>\n",
       "      <td>$uicideBoy$</td>\n",
       "      <td>-</td>\n",
       "      <td>96</td>\n",
       "      <td>1</td>\n",
       "    </tr>\n",
       "    <tr>\n",
       "      <th>96</th>\n",
       "      <td>Wine Into Whiskey</td>\n",
       "      <td>Tucker Wetmore</td>\n",
       "      <td>84</td>\n",
       "      <td>77</td>\n",
       "      <td>5</td>\n",
       "    </tr>\n",
       "    <tr>\n",
       "      <th>97</th>\n",
       "      <td>Spin You Around (1/24)</td>\n",
       "      <td>Morgan Wallen</td>\n",
       "      <td>89</td>\n",
       "      <td>24</td>\n",
       "      <td>13</td>\n",
       "    </tr>\n",
       "    <tr>\n",
       "      <th>98</th>\n",
       "      <td>Soak City</td>\n",
       "      <td>310babii</td>\n",
       "      <td>82</td>\n",
       "      <td>53</td>\n",
       "      <td>19</td>\n",
       "    </tr>\n",
       "    <tr>\n",
       "      <th>99</th>\n",
       "      <td>Selfish</td>\n",
       "      <td>Justin Timberlake</td>\n",
       "      <td>60</td>\n",
       "      <td>19</td>\n",
       "      <td>13</td>\n",
       "    </tr>\n",
       "  </tbody>\n",
       "</table>\n",
       "<p>100 rows × 5 columns</p>\n",
       "</div>"
      ],
      "text/plain": [
       "                          Song Name                         Artist Name  \\\n",
       "0                         Fortnight  Taylor Swift Featuring Post Malone   \n",
       "1                          Down Bad                        Taylor Swift   \n",
       "2   I Can Do It With A Broken Heart                        Taylor Swift   \n",
       "3     The Tortured Poets Department                        Taylor Swift   \n",
       "4                   So Long, London                        Taylor Swift   \n",
       "..                              ...                                 ...   \n",
       "95                      Us Vs. Them                         $uicideBoy$   \n",
       "96                Wine Into Whiskey                      Tucker Wetmore   \n",
       "97           Spin You Around (1/24)                       Morgan Wallen   \n",
       "98                        Soak City                            310babii   \n",
       "99                          Selfish                   Justin Timberlake   \n",
       "\n",
       "   Last Week Rank Peak Rank Weeks On Board  \n",
       "0               -         1              1  \n",
       "1               -         2              1  \n",
       "2               -         3              1  \n",
       "3               -         4              1  \n",
       "4               -         5              1  \n",
       "..            ...       ...            ...  \n",
       "95              -        96              1  \n",
       "96             84        77              5  \n",
       "97             89        24             13  \n",
       "98             82        53             19  \n",
       "99             60        19             13  \n",
       "\n",
       "[100 rows x 5 columns]"
      ]
     },
     "execution_count": 34,
     "metadata": {},
     "output_type": "execute_result"
    }
   ],
   "source": [
    "df=pd.DataFrame({'Song Name':Song_name,\n",
    "                 'Artist Name':Artist_name,\n",
    "                 'Last Week Rank':Last_week_rank,\n",
    "                 'Peak Rank':Peak_rank,\n",
    "                 'Weeks On Board':Weeks_on_board})\n",
    "df"
   ]
  },
  {
   "cell_type": "raw",
   "id": "cf2fc09f",
   "metadata": {},
   "source": []
  },
  {
   "cell_type": "raw",
   "id": "0b1401c3",
   "metadata": {},
   "source": [
    "6. Scrape the details of Highest selling novels. \n",
    "A) Book name \n",
    "B) Author name \n",
    "C) Volumes sold \n",
    "D) Publisher \n",
    "E) Genre \n",
    " Url - https://www.theguardian.com/news/datablog/2012/aug/09/best-selling-books-all-time-fifty-shades-grey-compare"
   ]
  },
  {
   "cell_type": "code",
   "execution_count": 2,
   "id": "2dab627a",
   "metadata": {},
   "outputs": [],
   "source": [
    "driver=webdriver.Chrome()\n",
    "driver.get(\"https://www.theguardian.com/news/datablog/2012/aug/09/best-selling-books-all-time-fifty-shades-grey-compare\")"
   ]
  },
  {
   "cell_type": "code",
   "execution_count": 3,
   "id": "23694bbd",
   "metadata": {},
   "outputs": [],
   "source": [
    "# creating list\n",
    "Book_name=[]\n",
    "Author_name=[]\n",
    "Vol_sold=[]\n",
    "Publishers=[]\n",
    "Gen=[]"
   ]
  },
  {
   "cell_type": "code",
   "execution_count": 4,
   "id": "c3236b20",
   "metadata": {},
   "outputs": [
    {
     "name": "stdout",
     "output_type": "stream",
     "text": [
      "100 ['Da Vinci Code,The', 'Harry Potter and the Deathly Hallows', \"Harry Potter and the Philosopher's Stone\", 'Harry Potter and the Order of the Phoenix', 'Fifty Shades of Grey', 'Harry Potter and the Goblet of Fire', 'Harry Potter and the Chamber of Secrets', 'Harry Potter and the Prisoner of Azkaban', 'Angels and Demons', \"Harry Potter and the Half-blood Prince:Children's Edition\", 'Fifty Shades Darker', 'Twilight', 'Girl with the Dragon Tattoo,The:Millennium Trilogy', 'Fifty Shades Freed', 'Lost Symbol,The', 'New Moon', 'Deception Point', 'Eclipse', 'Lovely Bones,The', 'Curious Incident of the Dog in the Night-time,The', 'Digital Fortress', 'Short History of Nearly Everything,A', 'Girl Who Played with Fire,The:Millennium Trilogy', 'Breaking Dawn', 'Very Hungry Caterpillar,The:The Very Hungry Caterpillar', 'Gruffalo,The', \"Jamie's 30-Minute Meals\", 'Kite Runner,The', 'One Day', 'Thousand Splendid Suns,A', \"Girl Who Kicked the Hornets' Nest,The:Millennium Trilogy\", \"Time Traveler's Wife,The\", 'Atonement', \"Bridget Jones's Diary:A Novel\", 'World According to Clarkson,The', \"Captain Corelli's Mandolin\", 'Sound of Laughter,The', 'Life of Pi', 'Billy Connolly', 'Child Called It,A', \"Gruffalo's Child,The\", \"Angela's Ashes:A Memoir of a Childhood\", 'Birdsong', 'Northern Lights:His Dark Materials S.', 'Labyrinth', 'Harry Potter and the Half-blood Prince', 'Help,The', 'Man and Boy', 'Memoirs of a Geisha', \"No.1 Ladies' Detective Agency,The:No.1 Ladies' Detective Agency S.\", 'Island,The', 'PS, I Love You', 'You are What You Eat:The Plan That Will Change Your Life', 'Shadow of the Wind,The', 'Tales of Beedle the Bard,The', 'Broker,The', \"Dr. Atkins' New Diet Revolution:The No-hunger, Luxurious Weight Loss P\", 'Subtle Knife,The:His Dark Materials S.', 'Eats, Shoots and Leaves:The Zero Tolerance Approach to Punctuation', \"Delia's How to Cook:(Bk.1)\", 'Chocolat', 'Boy in the Striped Pyjamas,The', \"My Sister's Keeper\", 'Amber Spyglass,The:His Dark Materials S.', 'To Kill a Mockingbird', 'Men are from Mars, Women are from Venus:A Practical Guide for Improvin', 'Dear Fatty', 'Short History of Tractors in Ukrainian,A', 'Hannibal', 'Lord of the Rings,The', 'Stupid White Men:...and Other Sorry Excuses for the State of the Natio', 'Interpretation of Murder,The', 'Sharon Osbourne Extreme:My Autobiography', 'Alchemist,The:A Fable About Following Your Dream', \"At My Mother's Knee ...:and Other Low Joints\", 'Notes from a Small Island', 'Return of the Naked Chef,The', 'Bridget Jones: The Edge of Reason', \"Jamie's Italy\", 'I Can Make You Thin', 'Down Under', 'Summons,The', 'Small Island', 'Nigella Express', 'Brick Lane', \"Memory Keeper's Daughter,The\", 'Room on the Broom', 'About a Boy', 'My Booky Wook', 'God Delusion,The', '\"Beano\" Annual,The', 'White Teeth', 'House at Riverton,The', 'Book Thief,The', 'Nights of Rain and Stars', 'Ghost,The', 'Happy Days with the Naked Chef', 'Hunger Games,The:Hunger Games Trilogy', \"Lost Boy,The:A Foster Child's Search for the Love of a Family\", \"Jamie's Ministry of Food:Anyone Can Learn to Cook in 24 Hours\"]\n"
     ]
    }
   ],
   "source": [
    "# scrapin book name\n",
    "try:\n",
    "    book_name=driver.find_elements(By.XPATH,'//table[@class=\"in-article sortable\"]/tbody/tr/td[2]')\n",
    "    for i in book_name:\n",
    "        Book_name.append(i.text)\n",
    "except NoSuchElementException:\n",
    "    Book_name.append('-')\n",
    "print(len(Book_name),Book_name)"
   ]
  },
  {
   "cell_type": "code",
   "execution_count": 5,
   "id": "e125c7c2",
   "metadata": {},
   "outputs": [
    {
     "name": "stdout",
     "output_type": "stream",
     "text": [
      "100 ['Brown, Dan', 'Rowling, J.K.', 'Rowling, J.K.', 'Rowling, J.K.', 'James, E. L.', 'Rowling, J.K.', 'Rowling, J.K.', 'Rowling, J.K.', 'Brown, Dan', 'Rowling, J.K.', 'James, E. L.', 'Meyer, Stephenie', 'Larsson, Stieg', 'James, E. L.', 'Brown, Dan', 'Meyer, Stephenie', 'Brown, Dan', 'Meyer, Stephenie', 'Sebold, Alice', 'Haddon, Mark', 'Brown, Dan', 'Bryson, Bill', 'Larsson, Stieg', 'Meyer, Stephenie', 'Carle, Eric', 'Donaldson, Julia', 'Oliver, Jamie', 'Hosseini, Khaled', 'Nicholls, David', 'Hosseini, Khaled', 'Larsson, Stieg', 'Niffenegger, Audrey', 'McEwan, Ian', 'Fielding, Helen', 'Clarkson, Jeremy', 'Bernieres, Louis de', 'Kay, Peter', 'Martel, Yann', 'Stephenson, Pamela', 'Pelzer, Dave', 'Donaldson, Julia', 'McCourt, Frank', 'Faulks, Sebastian', 'Pullman, Philip', 'Mosse, Kate', 'Rowling, J.K.', 'Stockett, Kathryn', 'Parsons, Tony', 'Golden, Arthur', 'McCall Smith, Alexander', 'Hislop, Victoria', 'Ahern, Cecelia', 'McKeith, Gillian', 'Zafon, Carlos Ruiz', 'Rowling, J.K.', 'Grisham, John', 'Atkins, Robert C.', 'Pullman, Philip', 'Truss, Lynne', 'Smith, Delia', 'Harris, Joanne', 'Boyne, John', 'Picoult, Jodi', 'Pullman, Philip', 'Lee, Harper', 'Gray, John', 'French, Dawn', 'Lewycka, Marina', 'Harris, Thomas', 'Tolkien, J. R. R.', 'Moore, Michael', 'Rubenfeld, Jed', 'Osbourne, Sharon', 'Coelho, Paulo', \"O'Grady, Paul\", 'Bryson, Bill', 'Oliver, Jamie', 'Fielding, Helen', 'Oliver, Jamie', 'McKenna, Paul', 'Bryson, Bill', 'Grisham, John', 'Levy, Andrea', 'Lawson, Nigella', 'Ali, Monica', 'Edwards, Kim', 'Donaldson, Julia', 'Hornby, Nick', 'Brand, Russell', 'Dawkins, Richard', '0', 'Smith, Zadie', 'Morton, Kate', 'Zusak, Markus', 'Binchy, Maeve', 'Harris, Robert', 'Oliver, Jamie', 'Collins, Suzanne', 'Pelzer, Dave', 'Oliver, Jamie']\n"
     ]
    }
   ],
   "source": [
    "# scraping author name\n",
    "    \n",
    "try:\n",
    "    auth_name=driver.find_elements(By.XPATH,'//table[@class=\"in-article sortable\"]/tbody/tr/td[3]')\n",
    "    for i in auth_name:\n",
    "        Author_name.append(i.text)\n",
    "except NoSuchElementException:\n",
    "    Author_name.append('-')\n",
    "print(len(Author_name),Author_name)"
   ]
  },
  {
   "cell_type": "code",
   "execution_count": 6,
   "id": "8b8811b2",
   "metadata": {},
   "outputs": [
    {
     "name": "stdout",
     "output_type": "stream",
     "text": [
      "100 ['5,094,805', '4,475,152', '4,200,654', '4,179,479', '3,758,936', '3,583,215', '3,484,047', '3,377,906', '3,193,946', '2,950,264', '2,479,784', '2,315,405', '2,233,570', '2,193,928', '2,183,031', '2,152,737', '2,062,145', '2,052,876', '2,005,598', '1,979,552', '1,928,900', '1,852,919', '1,814,784', '1,787,118', '1,783,535', '1,781,269', '1,743,266', '1,629,119', '1,616,068', '1,583,992', '1,555,135', '1,546,886', '1,539,428', '1,508,205', '1,489,403', '1,352,318', '1,310,207', '1,310,176', '1,231,957', '1,217,712', '1,208,711', '1,204,058', '1,184,967', '1,181,503', '1,181,093', '1,153,181', '1,132,336', '1,130,802', '1,126,337', '1,115,549', '1,108,328', '1,107,379', '1,104,403', '1,092,349', '1,090,847', '1,087,262', '1,054,196', '1,037,160', '1,023,688', '1,015,956', '1,009,873', '1,004,414', '1,003,780', '1,002,314', '998,213', '992,846', '986,753', '986,115', '970,509', '967,466', '963,353', '962,515', '959,496', '956,114', '945,640', '931,312', '925,425', '924,695', '906,968', '905,086', '890,847', '869,671', '869,659', '862,602', '856,540', '845,858', '842,535', '828,215', '820,563', '816,907', '816,585', '815,586', '814,370', '809,641', '808,900', '807,311', '794,201', '792,187', '791,507', '791,095']\n"
     ]
    }
   ],
   "source": [
    "# scraping volumes sold\n",
    "try:\n",
    "    vol_sold=driver.find_elements(By.XPATH,'//table[@class=\"in-article sortable\"]/tbody/tr/td[4]')\n",
    "    for i in vol_sold:\n",
    "        Vol_sold.append(i.text)\n",
    "except NoSuchElementException:\n",
    "    Vol_sold.append('-')\n",
    "print(len(Vol_sold),Vol_sold)"
   ]
  },
  {
   "cell_type": "code",
   "execution_count": 7,
   "id": "0ebb0930",
   "metadata": {},
   "outputs": [
    {
     "name": "stdout",
     "output_type": "stream",
     "text": [
      "100 ['Transworld', 'Bloomsbury', 'Bloomsbury', 'Bloomsbury', 'Random House', 'Bloomsbury', 'Bloomsbury', 'Bloomsbury', 'Transworld', 'Bloomsbury', 'Random House', 'Little, Brown Book', 'Quercus', 'Random House', 'Transworld', 'Little, Brown Book', 'Transworld', 'Little, Brown Book', 'Pan Macmillan', 'Random House', 'Transworld', 'Transworld', 'Quercus', 'Little, Brown Book', 'Penguin', 'Pan Macmillan', 'Penguin', 'Bloomsbury', 'Hodder & Stoughton', 'Bloomsbury', 'Quercus', 'Random House', 'Random House', 'Pan Macmillan', 'Penguin', 'Random House', 'Random House', 'Canongate', 'HarperCollins', 'Orion', 'Pan Macmillan', 'HarperCollins', 'Random House', 'Scholastic Ltd.', 'Orion', 'Bloomsbury', 'Penguin', 'HarperCollins', 'Random House', 'Little, Brown Book', 'Headline', 'HarperCollins', 'Penguin', 'Orion', 'Bloomsbury', 'Random House', 'Random House', 'Scholastic Ltd.', 'Profile Books Group', 'Random House', 'Transworld', 'Random House Childrens Books G', 'Hodder & Stoughton', 'Scholastic Ltd.', 'Random House', 'HarperCollins', 'Random House', 'Penguin', 'Random House', 'HarperCollins', 'Penguin', 'Headline', 'Little, Brown Book', 'HarperCollins', 'Transworld', 'Transworld', 'Penguin', 'Pan Macmillan', 'Penguin', 'Transworld', 'Transworld', 'Random House', 'Headline', 'Random House', 'Transworld', 'Penguin', 'Pan Macmillan', 'Penguin', 'Hodder & Stoughton', 'Transworld', 'D.C. Thomson', 'Penguin', 'Pan Macmillan', 'Transworld', 'Orion', 'Random House', 'Penguin', 'Scholastic Ltd.', 'Orion', 'Penguin']\n"
     ]
    }
   ],
   "source": [
    "# scraping Publishers\n",
    "    \n",
    "try:\n",
    "    pub=driver.find_elements(By.XPATH,'//table[@class=\"in-article sortable\"]/tbody/tr/td[5]')\n",
    "    for i in pub:\n",
    "        Publishers.append(i.text)\n",
    "except NoSuchElementException:\n",
    "    Publishers.append('-')\n",
    "print(len(Publishers),Publishers)"
   ]
  },
  {
   "cell_type": "code",
   "execution_count": 8,
   "id": "aee3aa9a",
   "metadata": {},
   "outputs": [
    {
     "name": "stdout",
     "output_type": "stream",
     "text": [
      "100 ['Crime, Thriller & Adventure', \"Children's Fiction\", \"Children's Fiction\", \"Children's Fiction\", 'Romance & Sagas', \"Children's Fiction\", \"Children's Fiction\", \"Children's Fiction\", 'Crime, Thriller & Adventure', \"Children's Fiction\", 'Romance & Sagas', 'Young Adult Fiction', 'Crime, Thriller & Adventure', 'Romance & Sagas', 'Crime, Thriller & Adventure', 'Young Adult Fiction', 'Crime, Thriller & Adventure', 'Young Adult Fiction', 'General & Literary Fiction', 'General & Literary Fiction', 'Crime, Thriller & Adventure', 'Popular Science', 'Crime, Thriller & Adventure', 'Young Adult Fiction', 'Picture Books', 'Picture Books', 'Food & Drink: General', 'General & Literary Fiction', 'General & Literary Fiction', 'General & Literary Fiction', 'Crime, Thriller & Adventure', 'General & Literary Fiction', 'General & Literary Fiction', 'General & Literary Fiction', 'Humour: Collections & General', 'General & Literary Fiction', 'Autobiography: General', 'General & Literary Fiction', 'Biography: The Arts', 'Autobiography: General', 'Picture Books', 'Autobiography: General', 'General & Literary Fiction', 'Young Adult Fiction', 'General & Literary Fiction', 'Science Fiction & Fantasy', 'General & Literary Fiction', 'General & Literary Fiction', 'General & Literary Fiction', 'Crime, Thriller & Adventure', 'General & Literary Fiction', 'General & Literary Fiction', 'Fitness & Diet', 'General & Literary Fiction', \"Children's Fiction\", 'Crime, Thriller & Adventure', 'Fitness & Diet', 'Young Adult Fiction', 'Usage & Writing Guides', 'Food & Drink: General', 'General & Literary Fiction', 'Young Adult Fiction', 'General & Literary Fiction', 'Young Adult Fiction', 'General & Literary Fiction', 'Popular Culture & Media: General Interest', 'Autobiography: The Arts', 'General & Literary Fiction', 'Crime, Thriller & Adventure', 'Science Fiction & Fantasy', 'Current Affairs & Issues', 'Crime, Thriller & Adventure', 'Autobiography: The Arts', 'General & Literary Fiction', 'Autobiography: The Arts', 'Travel Writing', 'Food & Drink: General', 'General & Literary Fiction', 'National & Regional Cuisine', 'Fitness & Diet', 'Travel Writing', 'Crime, Thriller & Adventure', 'General & Literary Fiction', 'Food & Drink: General', 'General & Literary Fiction', 'General & Literary Fiction', 'Picture Books', 'General & Literary Fiction', 'Autobiography: The Arts', 'Popular Science', \"Children's Annuals\", 'General & Literary Fiction', 'General & Literary Fiction', 'General & Literary Fiction', 'General & Literary Fiction', 'General & Literary Fiction', 'Food & Drink: General', 'Young Adult Fiction', 'Biography: General', 'Food & Drink: General']\n"
     ]
    }
   ],
   "source": [
    "# scraping Genre\n",
    "try:\n",
    "    gen=driver.find_elements(By.XPATH,'//table[@class=\"in-article sortable\"]/tbody/tr/td[6]')\n",
    "    for i in gen:\n",
    "        Gen.append(i.text)\n",
    "except NoSuchElementException:\n",
    "    Gen.append('-')\n",
    "print(len(Gen),Gen)"
   ]
  },
  {
   "cell_type": "code",
   "execution_count": 9,
   "id": "cb844959",
   "metadata": {},
   "outputs": [
    {
     "data": {
      "text/html": [
       "<div>\n",
       "<style scoped>\n",
       "    .dataframe tbody tr th:only-of-type {\n",
       "        vertical-align: middle;\n",
       "    }\n",
       "\n",
       "    .dataframe tbody tr th {\n",
       "        vertical-align: top;\n",
       "    }\n",
       "\n",
       "    .dataframe thead th {\n",
       "        text-align: right;\n",
       "    }\n",
       "</style>\n",
       "<table border=\"1\" class=\"dataframe\">\n",
       "  <thead>\n",
       "    <tr style=\"text-align: right;\">\n",
       "      <th></th>\n",
       "      <th>Book Name</th>\n",
       "      <th>Author Name</th>\n",
       "      <th>Volumes Sold</th>\n",
       "      <th>Publishers</th>\n",
       "      <th>Genre</th>\n",
       "    </tr>\n",
       "  </thead>\n",
       "  <tbody>\n",
       "    <tr>\n",
       "      <th>0</th>\n",
       "      <td>Da Vinci Code,The</td>\n",
       "      <td>Brown, Dan</td>\n",
       "      <td>5,094,805</td>\n",
       "      <td>Transworld</td>\n",
       "      <td>Crime, Thriller &amp; Adventure</td>\n",
       "    </tr>\n",
       "    <tr>\n",
       "      <th>1</th>\n",
       "      <td>Harry Potter and the Deathly Hallows</td>\n",
       "      <td>Rowling, J.K.</td>\n",
       "      <td>4,475,152</td>\n",
       "      <td>Bloomsbury</td>\n",
       "      <td>Children's Fiction</td>\n",
       "    </tr>\n",
       "    <tr>\n",
       "      <th>2</th>\n",
       "      <td>Harry Potter and the Philosopher's Stone</td>\n",
       "      <td>Rowling, J.K.</td>\n",
       "      <td>4,200,654</td>\n",
       "      <td>Bloomsbury</td>\n",
       "      <td>Children's Fiction</td>\n",
       "    </tr>\n",
       "    <tr>\n",
       "      <th>3</th>\n",
       "      <td>Harry Potter and the Order of the Phoenix</td>\n",
       "      <td>Rowling, J.K.</td>\n",
       "      <td>4,179,479</td>\n",
       "      <td>Bloomsbury</td>\n",
       "      <td>Children's Fiction</td>\n",
       "    </tr>\n",
       "    <tr>\n",
       "      <th>4</th>\n",
       "      <td>Fifty Shades of Grey</td>\n",
       "      <td>James, E. L.</td>\n",
       "      <td>3,758,936</td>\n",
       "      <td>Random House</td>\n",
       "      <td>Romance &amp; Sagas</td>\n",
       "    </tr>\n",
       "    <tr>\n",
       "      <th>...</th>\n",
       "      <td>...</td>\n",
       "      <td>...</td>\n",
       "      <td>...</td>\n",
       "      <td>...</td>\n",
       "      <td>...</td>\n",
       "    </tr>\n",
       "    <tr>\n",
       "      <th>95</th>\n",
       "      <td>Ghost,The</td>\n",
       "      <td>Harris, Robert</td>\n",
       "      <td>807,311</td>\n",
       "      <td>Random House</td>\n",
       "      <td>General &amp; Literary Fiction</td>\n",
       "    </tr>\n",
       "    <tr>\n",
       "      <th>96</th>\n",
       "      <td>Happy Days with the Naked Chef</td>\n",
       "      <td>Oliver, Jamie</td>\n",
       "      <td>794,201</td>\n",
       "      <td>Penguin</td>\n",
       "      <td>Food &amp; Drink: General</td>\n",
       "    </tr>\n",
       "    <tr>\n",
       "      <th>97</th>\n",
       "      <td>Hunger Games,The:Hunger Games Trilogy</td>\n",
       "      <td>Collins, Suzanne</td>\n",
       "      <td>792,187</td>\n",
       "      <td>Scholastic Ltd.</td>\n",
       "      <td>Young Adult Fiction</td>\n",
       "    </tr>\n",
       "    <tr>\n",
       "      <th>98</th>\n",
       "      <td>Lost Boy,The:A Foster Child's Search for the L...</td>\n",
       "      <td>Pelzer, Dave</td>\n",
       "      <td>791,507</td>\n",
       "      <td>Orion</td>\n",
       "      <td>Biography: General</td>\n",
       "    </tr>\n",
       "    <tr>\n",
       "      <th>99</th>\n",
       "      <td>Jamie's Ministry of Food:Anyone Can Learn to C...</td>\n",
       "      <td>Oliver, Jamie</td>\n",
       "      <td>791,095</td>\n",
       "      <td>Penguin</td>\n",
       "      <td>Food &amp; Drink: General</td>\n",
       "    </tr>\n",
       "  </tbody>\n",
       "</table>\n",
       "<p>100 rows × 5 columns</p>\n",
       "</div>"
      ],
      "text/plain": [
       "                                            Book Name       Author Name  \\\n",
       "0                                   Da Vinci Code,The        Brown, Dan   \n",
       "1                Harry Potter and the Deathly Hallows     Rowling, J.K.   \n",
       "2            Harry Potter and the Philosopher's Stone     Rowling, J.K.   \n",
       "3           Harry Potter and the Order of the Phoenix     Rowling, J.K.   \n",
       "4                                Fifty Shades of Grey      James, E. L.   \n",
       "..                                                ...               ...   \n",
       "95                                          Ghost,The    Harris, Robert   \n",
       "96                     Happy Days with the Naked Chef     Oliver, Jamie   \n",
       "97              Hunger Games,The:Hunger Games Trilogy  Collins, Suzanne   \n",
       "98  Lost Boy,The:A Foster Child's Search for the L...      Pelzer, Dave   \n",
       "99  Jamie's Ministry of Food:Anyone Can Learn to C...     Oliver, Jamie   \n",
       "\n",
       "   Volumes Sold       Publishers                        Genre  \n",
       "0     5,094,805       Transworld  Crime, Thriller & Adventure  \n",
       "1     4,475,152       Bloomsbury           Children's Fiction  \n",
       "2     4,200,654       Bloomsbury           Children's Fiction  \n",
       "3     4,179,479       Bloomsbury           Children's Fiction  \n",
       "4     3,758,936     Random House              Romance & Sagas  \n",
       "..          ...              ...                          ...  \n",
       "95      807,311     Random House   General & Literary Fiction  \n",
       "96      794,201          Penguin        Food & Drink: General  \n",
       "97      792,187  Scholastic Ltd.          Young Adult Fiction  \n",
       "98      791,507            Orion           Biography: General  \n",
       "99      791,095          Penguin        Food & Drink: General  \n",
       "\n",
       "[100 rows x 5 columns]"
      ]
     },
     "execution_count": 9,
     "metadata": {},
     "output_type": "execute_result"
    }
   ],
   "source": [
    "df=pd.DataFrame({'Book Name':Book_name,\n",
    "                 'Author Name':Author_name,\n",
    "                 'Volumes Sold':Vol_sold,\n",
    "                 'Publishers':Publishers,\n",
    "                 'Genre':Gen})\n",
    "df"
   ]
  },
  {
   "cell_type": "raw",
   "id": "5645062a",
   "metadata": {},
   "source": []
  },
  {
   "cell_type": "raw",
   "id": "da0ef10a",
   "metadata": {},
   "source": [
    "7. Scrape the details most watched tv series of all time from imdb.com. \n",
    "Url = https://www.imdb.com/list/ls095964455/ You have \n",
    "to find the following details: \n",
    "A) Name \n",
    "B) Year span \n",
    "C) Genre \n",
    "D) Run time \n",
    "E) Ratings \n",
    "F) Votes"
   ]
  },
  {
   "cell_type": "code",
   "execution_count": 10,
   "id": "d02567bd",
   "metadata": {},
   "outputs": [],
   "source": [
    "driver=webdriver.Chrome()\n",
    "driver.get(\"https://www.imdb.com/list/ls512407256/\")"
   ]
  },
  {
   "cell_type": "code",
   "execution_count": 11,
   "id": "c9645327",
   "metadata": {},
   "outputs": [],
   "source": [
    "# creating list\n",
    "Name=[]\n",
    "Year_span=[]\n",
    "Gen=[]\n",
    "Run_time=[]\n",
    "Ratings=[]\n",
    "Votes=[]"
   ]
  },
  {
   "cell_type": "code",
   "execution_count": 12,
   "id": "be004894",
   "metadata": {},
   "outputs": [
    {
     "name": "stdout",
     "output_type": "stream",
     "text": [
      "100 ['Game of Thrones', 'Stranger Things', 'The Walking Dead', '13 Reasons Why', 'The 100', 'Orange Is the New Black', 'Riverdale', \"Grey's Anatomy\", 'The Flash', 'Arrow', 'Money Heist', 'The Big Bang Theory', 'Black Mirror', 'Sherlock', 'Vikings', 'Pretty Little Liars', 'The Vampire Diaries', 'American Horror Story', 'Breaking Bad', 'Lucifer', 'Supernatural', 'Prison Break', 'How to Get Away with Murder', 'Teen Wolf', 'The Simpsons', 'Once Upon a Time', 'Narcos', 'Daredevil', 'Friends', 'How I Met Your Mother', 'Suits', 'Mr. Robot', 'The Originals', 'Supergirl', 'Gossip Girl', 'Sense8', 'Gotham', 'Westworld', 'Jessica Jones', 'Modern Family', 'Rick and Morty', 'Shadowhunters', 'The End of the F***ing World', 'House of Cards', 'Dark', 'Elite', 'Sex Education', 'Shameless', 'New Girl', 'Agents of S.H.I.E.L.D.', 'Game of Thrones', 'You', 'Stranger Things', 'Dexter', 'The Walking Dead', 'Fear the Walking Dead', '13 Reasons Why', 'Family Guy', 'The 100', 'The Blacklist', 'Orange Is the New Black', 'Lost', 'Riverdale', 'Peaky Blinders', \"Grey's Anatomy\", 'House', 'The Flash', 'Quantico', 'Arrow', 'Orphan Black', 'Money Heist', 'Homeland', 'The Big Bang Theory', 'Blindspot', 'Black Mirror', \"DC's Legends of Tomorrow\", 'Sherlock', \"The Handmaid's Tale\", 'Vikings', 'Chilling Adventures of Sabrina', 'Pretty Little Liars', 'The Good Doctor', 'The Vampire Diaries', 'Jane the Virgin', 'American Horror Story', 'Glee', 'Breaking Bad', 'South Park', 'Lucifer', 'Brooklyn Nine-Nine', 'Supernatural', 'Under the Dome', 'Prison Break', 'The Umbrella Academy', 'How to Get Away with Murder', 'True Detective', 'Teen Wolf', 'The OA', 'The Simpsons', 'Desperate Housewives']\n"
     ]
    }
   ],
   "source": [
    "# scraping data for name\n",
    "try:\n",
    "    name=driver.find_elements(By.XPATH,'//h3[@class=\"lister-item-header\"]/a')\n",
    "    for i in name:\n",
    "        Name.append(i.text)\n",
    "except NoSuchElementException:\n",
    "    Name.append('-')\n",
    "print(len(Name),Name)"
   ]
  },
  {
   "cell_type": "code",
   "execution_count": 13,
   "id": "f305ef5f",
   "metadata": {},
   "outputs": [
    {
     "name": "stdout",
     "output_type": "stream",
     "text": [
      "100 ['(2011–2019)', '(2016–2025)', '(2010–2022)', '(2017–2020)', '(2014–2020)', '(2013–2019)', '(2017–2023)', '(2005– )', '(2014–2023)', '(2012–2020)', '(2017–2021)', '(2007–2019)', '(2011– )', '(2010–2017)', '(2013–2020)', '(2010–2017)', '(2009–2017)', '(2011– )', '(2008–2013)', '(2016–2021)', '(2005–2020)', '(2005–2017)', '(2014–2020)', '(2011–2017)', '(1989– )', '(2011–2018)', '(2015–2017)', '(2015–2018)', '(1994–2004)', '(2005–2014)', '(2011–2019)', '(2015–2019)', '(2013–2018)', '(2015–2021)', '(2007–2012)', '(2015–2018)', '(2014–2019)', '(2016–2022)', '(2015–2019)', '(2009–2020)', '(2013– )', '(2016–2019)', '(2017–2019)', '(2013–2018)', '(2017–2020)', '(2018–2024)', '(2019–2023)', '(2011–2021)', '(2011–2018)', '(2013–2020)', '(2011–2019)', '(2018–2024)', '(2016–2025)', '(2006–2013)', '(2010–2022)', '(2015–2023)', '(2017–2020)', '(1999– )', '(2014–2020)', '(2013–2023)', '(2013–2019)', '(2004–2010)', '(2017–2023)', '(2013–2022)', '(2005– )', '(2004–2012)', '(2014–2023)', '(2015–2018)', '(2012–2020)', '(2013–2017)', '(2017–2021)', '(2011–2020)', '(2007–2019)', '(2015–2020)', '(2011– )', '(2016–2022)', '(2010–2017)', '(2017– )', '(2013–2020)', '(2018–2020)', '(2010–2017)', '(2017–2024)', '(2009–2017)', '(2014–2019)', '(2011– )', '(2009–2015)', '(2008–2013)', '(1997– )', '(2016–2021)', '(2013–2021)', '(2005–2020)', '(2013–2015)', '(2005–2017)', '(2019–2024)', '(2014–2020)', '(2014– )', '(2011–2017)', '(2016–2019)', '(1989– )', '(2004–2012)']\n"
     ]
    }
   ],
   "source": [
    "# scraping data for year span\n",
    "try:\n",
    "    year_span=driver.find_elements(By.XPATH,'//span[@class=\"lister-item-year text-muted unbold\"]')\n",
    "    for i in year_span:\n",
    "        Year_span.append(i.text)\n",
    "except NoSuchElementException:\n",
    "    Year_span.append('-')\n",
    "print(len(Year_span),Year_span)"
   ]
  },
  {
   "cell_type": "code",
   "execution_count": 14,
   "id": "187489a8",
   "metadata": {},
   "outputs": [
    {
     "name": "stdout",
     "output_type": "stream",
     "text": [
      "100 ['Action, Adventure, Drama', 'Drama, Fantasy, Horror', 'Drama, Horror, Thriller', 'Drama, Mystery, Thriller', 'Drama, Mystery, Sci-Fi', 'Comedy, Crime, Drama', 'Crime, Drama, Mystery', 'Drama, Romance', 'Action, Adventure, Drama', 'Action, Adventure, Crime', 'Action, Crime, Drama', 'Comedy, Romance', 'Drama, Mystery, Sci-Fi', 'Crime, Drama, Mystery', 'Action, Adventure, Drama', 'Drama, Mystery, Romance', 'Drama, Fantasy, Horror', 'Drama, Horror, Sci-Fi', 'Crime, Drama, Thriller', 'Crime, Drama, Fantasy', 'Drama, Fantasy, Horror', 'Action, Crime, Drama', 'Crime, Drama, Mystery', 'Action, Drama, Fantasy', 'Animation, Comedy', 'Adventure, Fantasy, Romance', 'Biography, Crime, Drama', 'Action, Crime, Drama', 'Comedy, Romance', 'Comedy, Drama, Romance', 'Comedy, Drama', 'Crime, Drama, Thriller', 'Drama, Fantasy, Horror', 'Action, Adventure, Drama', 'Drama, Romance', 'Drama, Mystery, Sci-Fi', 'Action, Crime, Drama', 'Drama, Mystery, Sci-Fi', 'Action, Crime, Drama', 'Comedy, Drama, Romance', 'Animation, Adventure, Comedy', 'Action, Drama, Fantasy', 'Adventure, Comedy, Crime', 'Drama', 'Crime, Drama, Mystery', 'Crime, Drama, Thriller', 'Comedy, Drama, Romance', 'Comedy, Drama', 'Comedy, Romance', 'Action, Adventure, Drama', 'Action, Adventure, Drama', 'Crime, Drama, Romance', 'Drama, Fantasy, Horror', 'Crime, Drama, Mystery', 'Drama, Horror, Thriller', 'Drama, Horror, Sci-Fi', 'Drama, Mystery, Thriller', 'Animation, Comedy', 'Drama, Mystery, Sci-Fi', 'Crime, Drama, Mystery', 'Comedy, Crime, Drama', 'Adventure, Drama, Fantasy', 'Crime, Drama, Mystery', 'Crime, Drama', 'Drama, Romance', 'Drama, Mystery', 'Action, Adventure, Drama', 'Crime, Drama, Mystery', 'Action, Adventure, Crime', 'Drama, Sci-Fi, Thriller', 'Action, Crime, Drama', 'Crime, Drama, Mystery', 'Comedy, Romance', 'Action, Crime, Drama', 'Drama, Mystery, Sci-Fi', 'Action, Adventure, Drama', 'Crime, Drama, Mystery', 'Drama, Sci-Fi, Thriller', 'Action, Adventure, Drama', 'Drama, Fantasy, Horror', 'Drama, Mystery, Romance', 'Drama', 'Drama, Fantasy, Horror', 'Comedy', 'Drama, Horror, Sci-Fi', 'Comedy, Drama, Music', 'Crime, Drama, Thriller', 'Animation, Comedy', 'Crime, Drama, Fantasy', 'Comedy, Crime', 'Drama, Fantasy, Horror', 'Drama, Mystery, Sci-Fi', 'Action, Crime, Drama', 'Action, Adventure, Comedy', 'Crime, Drama, Mystery', 'Crime, Drama, Mystery', 'Action, Drama, Fantasy', 'Drama, Fantasy, Mystery', 'Animation, Comedy', 'Comedy, Drama, Mystery']\n"
     ]
    }
   ],
   "source": [
    "# scraping data for genre\n",
    "try:\n",
    "    gen=driver.find_elements(By.XPATH,'//span[@class=\"genre\"]')\n",
    "    for i in gen:\n",
    "        Gen.append(i.text)\n",
    "except NoSuchElementException:\n",
    "    Gen.append('-')\n",
    "print(len(Gen),Gen)"
   ]
  },
  {
   "cell_type": "code",
   "execution_count": 15,
   "id": "3f822ac7",
   "metadata": {},
   "outputs": [
    {
     "name": "stdout",
     "output_type": "stream",
     "text": [
      "100 ['60 min', '60 min', '45 min', '60 min', '43 min', '59 min', '45 min', '41 min', '43 min', '42 min', '60 min', '22 min', '60 min', '90 min', '45 min', '44 min', '43 min', '60 min', '45 min', '4,393 min', '44 min', '44 min', '43 min', '41 min', '22 min', '60 min', '50 min', '60 min', '22 min', '4,576 min', '44 min', '45 min', '45 min', '43 min', '42 min', '60 min', '42 min', '60 min', '56 min', '22 min', '23 min', '42 min', '25 min', '50 min', '60 min', '60 min', '60 min', '60 min', '22 min', '45 min', '60 min', '45 min', '60 min', '60 min', '45 min', '44 min', '60 min', '22 min', '43 min', '43 min', '59 min', '5,445 min', '45 min', '60 min', '41 min', '45 min', '43 min', '42 min', '42 min', '44 min', '60 min', '60 min', '22 min', '42 min', '60 min', '42 min', '90 min', '60 min', '45 min', '60 min', '44 min', '41 min', '43 min', '60 min', '60 min', '44 min', '45 min', '22 min', '4,393 min', '22 min', '44 min', '1,668 min', '44 min', '60 min', '43 min', '60 min', '41 min', '60 min', '22 min', '45 min']\n"
     ]
    }
   ],
   "source": [
    "# scraping data for run time\n",
    "try:\n",
    "    run_time=driver.find_elements(By.XPATH,'//span[@class=\"runtime\"]')\n",
    "    for i in run_time:\n",
    "        Run_time.append(i.text)\n",
    "except NoSuchElementExceptions:\n",
    "    Run_time.append('-')\n",
    "print(len(Run_time),Run_time)"
   ]
  },
  {
   "cell_type": "code",
   "execution_count": 16,
   "id": "99fe8e8a",
   "metadata": {},
   "outputs": [
    {
     "name": "stdout",
     "output_type": "stream",
     "text": [
      "100 ['9.2', '8.7', '8.1', '7.5', '7.6', '8', '6.5', '7.6', '7.5', '7.5', '8.2', '8.1', '8.7', '9.1', '8.5', '7.4', '7.7', '8', '9.5', '8.1', '8.4', '8.3', '8.1', '7.7', '8.7', '7.7', '8.8', '8.6', '8.9', '8.3', '8.4', '8.5', '8.3', '6.2', '7.5', '8.2', '7.8', '8.5', '7.9', '8.5', '9.1', '6.5', '8', '8.6', '8.7', '7.2', '8.3', '8.5', '7.8', '7.5', '9.2', '7.7', '8.7', '8.6', '8.1', '6.8', '7.5', '8.1', '7.6', '7.9', '8', '8.3', '6.5', '8.8', '7.6', '8.7', '7.5', '6.7', '7.5', '8.3', '8.2', '8.3', '8.1', '7.3', '8.7', '6.8', '9.1', '8.4', '8.5', '7.4', '7.4', '8', '7.7', '7.9', '8', '6.8', '9.5', '8.7', '8.1', '8.4', '8.4', '6.5', '8.3', '7.9', '8.1', '8.9', '7.7', '7.8', '8.7', '7.6']\n"
     ]
    }
   ],
   "source": [
    "# scraping data for rating\n",
    "try:\n",
    "    ratings=driver.find_elements(By.XPATH,'//div[@class=\"ipl-rating-star small\"]/span[2]')\n",
    "    for i in ratings:\n",
    "        Ratings.append(i.text)\n",
    "except NoSuchElementException:\n",
    "    Ratings.append('-')\n",
    "print(len(Ratings),Ratings)"
   ]
  },
  {
   "cell_type": "code",
   "execution_count": 17,
   "id": "fbfae491",
   "metadata": {},
   "outputs": [
    {
     "name": "stdout",
     "output_type": "stream",
     "text": [
      "100 ['2,286,702', '1,337,736', '1,082,972', '315,677', '276,319', '320,299', '155,247', '342,078', '368,348', '446,155', '532,601', '868,639', '640,582', '999,542', '583,441', '178,434', '350,029', '344,183', '2,138,853', '356,262', '483,492', '579,795', '166,785', '163,355', '436,177', '237,135', '470,702', '475,028', '1,088,869', '728,857', '479,364', '418,523', '147,947', '129,612', '193,512', '163,094', '240,820', '533,191', '226,846', '484,010', '602,108', '70,603', '220,265', '531,099', '444,787', '90,851', '351,731', '285,780', '245,661', '226,041', '2,286,702', '300,084', '1,337,736', '767,259', '1,082,972', '144,464', '315,677', '364,494', '276,319', '279,778', '320,299', '595,661', '155,247', '650,556', '342,078', '514,134', '368,348', '63,903', '446,155', '117,015', '532,601', '361,059', '868,639', '79,078', '640,582', '110,081', '999,542', '258,172', '583,441', '108,607', '178,434', '113,182', '350,029', '59,092', '344,183', '155,509', '2,138,853', '406,150', '356,262', '363,763', '483,492', '112,582', '579,795', '275,527', '166,785', '657,064', '163,355', '115,946', '436,177', '139,849']\n"
     ]
    }
   ],
   "source": [
    "# scraping data for Votes\n",
    "try:\n",
    "    votes=driver.find_elements(By.XPATH,'//span[@name=\"nv\"]')\n",
    "    for i in votes:\n",
    "        Votes.append(i.text)\n",
    "except NoSuchElementException:\n",
    "    Votes.append('-')\n",
    "print(len(Votes),Votes)"
   ]
  },
  {
   "cell_type": "code",
   "execution_count": 18,
   "id": "bc241267",
   "metadata": {},
   "outputs": [
    {
     "data": {
      "text/html": [
       "<div>\n",
       "<style scoped>\n",
       "    .dataframe tbody tr th:only-of-type {\n",
       "        vertical-align: middle;\n",
       "    }\n",
       "\n",
       "    .dataframe tbody tr th {\n",
       "        vertical-align: top;\n",
       "    }\n",
       "\n",
       "    .dataframe thead th {\n",
       "        text-align: right;\n",
       "    }\n",
       "</style>\n",
       "<table border=\"1\" class=\"dataframe\">\n",
       "  <thead>\n",
       "    <tr style=\"text-align: right;\">\n",
       "      <th></th>\n",
       "      <th>Nmae</th>\n",
       "      <th>Year Span</th>\n",
       "      <th>Genre</th>\n",
       "      <th>Run Time</th>\n",
       "      <th>Ratings</th>\n",
       "      <th>Votings</th>\n",
       "    </tr>\n",
       "  </thead>\n",
       "  <tbody>\n",
       "    <tr>\n",
       "      <th>0</th>\n",
       "      <td>Game of Thrones</td>\n",
       "      <td>(2011–2019)</td>\n",
       "      <td>Action, Adventure, Drama</td>\n",
       "      <td>60 min</td>\n",
       "      <td>9.2</td>\n",
       "      <td>2,286,702</td>\n",
       "    </tr>\n",
       "    <tr>\n",
       "      <th>1</th>\n",
       "      <td>Stranger Things</td>\n",
       "      <td>(2016–2025)</td>\n",
       "      <td>Drama, Fantasy, Horror</td>\n",
       "      <td>60 min</td>\n",
       "      <td>8.7</td>\n",
       "      <td>1,337,736</td>\n",
       "    </tr>\n",
       "    <tr>\n",
       "      <th>2</th>\n",
       "      <td>The Walking Dead</td>\n",
       "      <td>(2010–2022)</td>\n",
       "      <td>Drama, Horror, Thriller</td>\n",
       "      <td>45 min</td>\n",
       "      <td>8.1</td>\n",
       "      <td>1,082,972</td>\n",
       "    </tr>\n",
       "    <tr>\n",
       "      <th>3</th>\n",
       "      <td>13 Reasons Why</td>\n",
       "      <td>(2017–2020)</td>\n",
       "      <td>Drama, Mystery, Thriller</td>\n",
       "      <td>60 min</td>\n",
       "      <td>7.5</td>\n",
       "      <td>315,677</td>\n",
       "    </tr>\n",
       "    <tr>\n",
       "      <th>4</th>\n",
       "      <td>The 100</td>\n",
       "      <td>(2014–2020)</td>\n",
       "      <td>Drama, Mystery, Sci-Fi</td>\n",
       "      <td>43 min</td>\n",
       "      <td>7.6</td>\n",
       "      <td>276,319</td>\n",
       "    </tr>\n",
       "    <tr>\n",
       "      <th>...</th>\n",
       "      <td>...</td>\n",
       "      <td>...</td>\n",
       "      <td>...</td>\n",
       "      <td>...</td>\n",
       "      <td>...</td>\n",
       "      <td>...</td>\n",
       "    </tr>\n",
       "    <tr>\n",
       "      <th>95</th>\n",
       "      <td>True Detective</td>\n",
       "      <td>(2014– )</td>\n",
       "      <td>Crime, Drama, Mystery</td>\n",
       "      <td>60 min</td>\n",
       "      <td>8.9</td>\n",
       "      <td>657,064</td>\n",
       "    </tr>\n",
       "    <tr>\n",
       "      <th>96</th>\n",
       "      <td>Teen Wolf</td>\n",
       "      <td>(2011–2017)</td>\n",
       "      <td>Action, Drama, Fantasy</td>\n",
       "      <td>41 min</td>\n",
       "      <td>7.7</td>\n",
       "      <td>163,355</td>\n",
       "    </tr>\n",
       "    <tr>\n",
       "      <th>97</th>\n",
       "      <td>The OA</td>\n",
       "      <td>(2016–2019)</td>\n",
       "      <td>Drama, Fantasy, Mystery</td>\n",
       "      <td>60 min</td>\n",
       "      <td>7.8</td>\n",
       "      <td>115,946</td>\n",
       "    </tr>\n",
       "    <tr>\n",
       "      <th>98</th>\n",
       "      <td>The Simpsons</td>\n",
       "      <td>(1989– )</td>\n",
       "      <td>Animation, Comedy</td>\n",
       "      <td>22 min</td>\n",
       "      <td>8.7</td>\n",
       "      <td>436,177</td>\n",
       "    </tr>\n",
       "    <tr>\n",
       "      <th>99</th>\n",
       "      <td>Desperate Housewives</td>\n",
       "      <td>(2004–2012)</td>\n",
       "      <td>Comedy, Drama, Mystery</td>\n",
       "      <td>45 min</td>\n",
       "      <td>7.6</td>\n",
       "      <td>139,849</td>\n",
       "    </tr>\n",
       "  </tbody>\n",
       "</table>\n",
       "<p>100 rows × 6 columns</p>\n",
       "</div>"
      ],
      "text/plain": [
       "                    Nmae    Year Span                     Genre Run Time  \\\n",
       "0        Game of Thrones  (2011–2019)  Action, Adventure, Drama   60 min   \n",
       "1        Stranger Things  (2016–2025)    Drama, Fantasy, Horror   60 min   \n",
       "2       The Walking Dead  (2010–2022)   Drama, Horror, Thriller   45 min   \n",
       "3         13 Reasons Why  (2017–2020)  Drama, Mystery, Thriller   60 min   \n",
       "4                The 100  (2014–2020)    Drama, Mystery, Sci-Fi   43 min   \n",
       "..                   ...          ...                       ...      ...   \n",
       "95        True Detective     (2014– )     Crime, Drama, Mystery   60 min   \n",
       "96             Teen Wolf  (2011–2017)    Action, Drama, Fantasy   41 min   \n",
       "97                The OA  (2016–2019)   Drama, Fantasy, Mystery   60 min   \n",
       "98          The Simpsons     (1989– )         Animation, Comedy   22 min   \n",
       "99  Desperate Housewives  (2004–2012)    Comedy, Drama, Mystery   45 min   \n",
       "\n",
       "   Ratings    Votings  \n",
       "0      9.2  2,286,702  \n",
       "1      8.7  1,337,736  \n",
       "2      8.1  1,082,972  \n",
       "3      7.5    315,677  \n",
       "4      7.6    276,319  \n",
       "..     ...        ...  \n",
       "95     8.9    657,064  \n",
       "96     7.7    163,355  \n",
       "97     7.8    115,946  \n",
       "98     8.7    436,177  \n",
       "99     7.6    139,849  \n",
       "\n",
       "[100 rows x 6 columns]"
      ]
     },
     "execution_count": 18,
     "metadata": {},
     "output_type": "execute_result"
    }
   ],
   "source": [
    "df=pd.DataFrame({'Nmae':Name,\n",
    "                 'Year Span':Year_span,\n",
    "                 'Genre':Gen,\n",
    "                 'Run Time':Run_time,\n",
    "                 'Ratings':Ratings,\n",
    "                 'Votings':Votes})\n",
    "df"
   ]
  },
  {
   "cell_type": "raw",
   "id": "40593c0d",
   "metadata": {},
   "source": []
  },
  {
   "cell_type": "raw",
   "id": "b17c7ae6",
   "metadata": {},
   "source": [
    "8. Details of Datasets from UCI machine learning repositories. \n",
    "Url = https://archive.ics.uci.edu/\n",
    "You have to find the following details: \n",
    "A) Dataset name \n",
    "B) Data type \n",
    "C) Task \n",
    "D) Attribute type \n",
    "E) No of instances \n",
    "F) No of attribute \n",
    "G) Year \n",
    " Note: - from the home page you have to go to the Show All Dataset page through code. "
   ]
  },
  {
   "cell_type": "code",
   "execution_count": 84,
   "id": "c6f43308",
   "metadata": {},
   "outputs": [],
   "source": [
    "driver=webdriver.Chrome()\n",
    "driver.get(\"https://archive.ics.uci.edu/\")"
   ]
  },
  {
   "cell_type": "code",
   "execution_count": 85,
   "id": "d62caeb3",
   "metadata": {},
   "outputs": [],
   "source": [
    "search=driver.find_element(By.XPATH,'/html/body/div/div[1]/div[1]/main/div/div[1]/div/div/div/a[1]')\n",
    "search.click()"
   ]
  },
  {
   "cell_type": "code",
   "execution_count": 86,
   "id": "58bdfebe",
   "metadata": {},
   "outputs": [],
   "source": [
    "Datas_name=[]\n",
    "Data_type=[]\n",
    "Task=[]\n",
    "Attri_type=[]\n",
    "No_of_inst=[]\n",
    "No_of_attri=[]\n",
    "Year=[]"
   ]
  },
  {
   "cell_type": "code",
   "execution_count": 76,
   "id": "512375bd",
   "metadata": {},
   "outputs": [
    {
     "name": "stdout",
     "output_type": "stream",
     "text": [
      "670 ['Iris', 'Heart Disease', 'Dry Bean', 'Rice (Cammeo and Osmancik)', 'Adult', 'Breast Cancer Wisconsin (Diagnostic)', 'Raisin', 'Wine', 'Wine Quality', 'Diabetes', 'Iris', 'Heart Disease', 'Dry Bean', 'Rice (Cammeo and Osmancik)', 'Adult', 'Breast Cancer Wisconsin (Diagnostic)', 'Raisin', 'Wine', 'Wine Quality', 'Diabetes', 'Iris', 'Heart Disease', 'Dry Bean', 'Rice (Cammeo and Osmancik)', 'Adult', 'Breast Cancer Wisconsin (Diagnostic)', 'Raisin', 'Wine', 'Wine Quality', 'Diabetes', 'Iris', 'Heart Disease', 'Dry Bean', 'Rice (Cammeo and Osmancik)', 'Adult', 'Breast Cancer Wisconsin (Diagnostic)', 'Raisin', 'Wine', 'Wine Quality', 'Diabetes', 'Iris', 'Heart Disease', 'Dry Bean', 'Rice (Cammeo and Osmancik)', 'Adult', 'Breast Cancer Wisconsin (Diagnostic)', 'Raisin', 'Wine', 'Wine Quality', 'Diabetes', 'Iris', 'Heart Disease', 'Dry Bean', 'Rice (Cammeo and Osmancik)', 'Adult', 'Breast Cancer Wisconsin (Diagnostic)', 'Raisin', 'Wine', 'Wine Quality', 'Diabetes', 'Iris', 'Heart Disease', 'Dry Bean', 'Rice (Cammeo and Osmancik)', 'Adult', 'Breast Cancer Wisconsin (Diagnostic)', 'Raisin', 'Wine', 'Wine Quality', 'Diabetes', 'Iris', 'Heart Disease', 'Dry Bean', 'Rice (Cammeo and Osmancik)', 'Adult', 'Breast Cancer Wisconsin (Diagnostic)', 'Raisin', 'Wine', 'Wine Quality', 'Diabetes', 'Iris', 'Heart Disease', 'Dry Bean', 'Rice (Cammeo and Osmancik)', 'Adult', 'Breast Cancer Wisconsin (Diagnostic)', 'Raisin', 'Wine', 'Wine Quality', 'Diabetes', 'Iris', 'Heart Disease', 'Dry Bean', 'Rice (Cammeo and Osmancik)', 'Adult', 'Breast Cancer Wisconsin (Diagnostic)', 'Raisin', 'Wine', 'Wine Quality', 'Diabetes', 'Iris', 'Heart Disease', 'Dry Bean', 'Rice (Cammeo and Osmancik)', 'Adult', 'Breast Cancer Wisconsin (Diagnostic)', 'Raisin', 'Wine', 'Wine Quality', 'Diabetes', 'Iris', 'Heart Disease', 'Dry Bean', 'Rice (Cammeo and Osmancik)', 'Adult', 'Breast Cancer Wisconsin (Diagnostic)', 'Raisin', 'Wine', 'Wine Quality', 'Diabetes', 'Iris', 'Heart Disease', 'Dry Bean', 'Rice (Cammeo and Osmancik)', 'Adult', 'Breast Cancer Wisconsin (Diagnostic)', 'Raisin', 'Wine', 'Wine Quality', 'Diabetes', 'Iris', 'Heart Disease', 'Dry Bean', 'Rice (Cammeo and Osmancik)', 'Adult', 'Breast Cancer Wisconsin (Diagnostic)', 'Raisin', 'Wine', 'Wine Quality', 'Diabetes', 'Iris', 'Heart Disease', 'Dry Bean', 'Rice (Cammeo and Osmancik)', 'Adult', 'Breast Cancer Wisconsin (Diagnostic)', 'Raisin', 'Wine', 'Wine Quality', 'Diabetes', 'Iris', 'Heart Disease', 'Dry Bean', 'Rice (Cammeo and Osmancik)', 'Adult', 'Breast Cancer Wisconsin (Diagnostic)', 'Raisin', 'Wine', 'Wine Quality', 'Diabetes', 'Iris', 'Heart Disease', 'Dry Bean', 'Rice (Cammeo and Osmancik)', 'Adult', 'Breast Cancer Wisconsin (Diagnostic)', 'Raisin', 'Wine', 'Wine Quality', 'Diabetes', 'Iris', 'Heart Disease', 'Dry Bean', 'Rice (Cammeo and Osmancik)', 'Adult', 'Breast Cancer Wisconsin (Diagnostic)', 'Raisin', 'Wine', 'Wine Quality', 'Diabetes', 'Iris', 'Heart Disease', 'Dry Bean', 'Rice (Cammeo and Osmancik)', 'Adult', 'Breast Cancer Wisconsin (Diagnostic)', 'Raisin', 'Wine', 'Wine Quality', 'Diabetes', 'Iris', 'Heart Disease', 'Dry Bean', 'Rice (Cammeo and Osmancik)', 'Adult', 'Breast Cancer Wisconsin (Diagnostic)', 'Raisin', 'Wine', 'Wine Quality', 'Diabetes', 'Iris', 'Heart Disease', 'Dry Bean', 'Rice (Cammeo and Osmancik)', 'Adult', 'Breast Cancer Wisconsin (Diagnostic)', 'Raisin', 'Wine', 'Wine Quality', 'Diabetes', 'Iris', 'Heart Disease', 'Dry Bean', 'Rice (Cammeo and Osmancik)', 'Adult', 'Breast Cancer Wisconsin (Diagnostic)', 'Raisin', 'Wine', 'Wine Quality', 'Diabetes', 'Iris', 'Heart Disease', 'Dry Bean', 'Rice (Cammeo and Osmancik)', 'Adult', 'Breast Cancer Wisconsin (Diagnostic)', 'Raisin', 'Wine', 'Wine Quality', 'Diabetes', 'Iris', 'Heart Disease', 'Dry Bean', 'Rice (Cammeo and Osmancik)', 'Adult', 'Breast Cancer Wisconsin (Diagnostic)', 'Raisin', 'Wine', 'Wine Quality', 'Diabetes', 'Iris', 'Heart Disease', 'Dry Bean', 'Rice (Cammeo and Osmancik)', 'Adult', 'Breast Cancer Wisconsin (Diagnostic)', 'Raisin', 'Wine', 'Wine Quality', 'Diabetes', 'Iris', 'Heart Disease', 'Dry Bean', 'Rice (Cammeo and Osmancik)', 'Adult', 'Breast Cancer Wisconsin (Diagnostic)', 'Raisin', 'Wine', 'Wine Quality', 'Diabetes', 'Iris', 'Heart Disease', 'Dry Bean', 'Rice (Cammeo and Osmancik)', 'Adult', 'Breast Cancer Wisconsin (Diagnostic)', 'Raisin', 'Wine', 'Wine Quality', 'Diabetes', 'Iris', 'Heart Disease', 'Dry Bean', 'Rice (Cammeo and Osmancik)', 'Adult', 'Breast Cancer Wisconsin (Diagnostic)', 'Raisin', 'Wine', 'Wine Quality', 'Diabetes', 'Iris', 'Heart Disease', 'Dry Bean', 'Rice (Cammeo and Osmancik)', 'Adult', 'Breast Cancer Wisconsin (Diagnostic)', 'Raisin', 'Wine', 'Wine Quality', 'Diabetes', 'Iris', 'Heart Disease', 'Dry Bean', 'Rice (Cammeo and Osmancik)', 'Adult', 'Breast Cancer Wisconsin (Diagnostic)', 'Raisin', 'Wine', 'Wine Quality', 'Diabetes', 'Iris', 'Heart Disease', 'Dry Bean', 'Rice (Cammeo and Osmancik)', 'Adult', 'Breast Cancer Wisconsin (Diagnostic)', 'Raisin', 'Wine', 'Wine Quality', 'Diabetes', 'Iris', 'Heart Disease', 'Dry Bean', 'Rice (Cammeo and Osmancik)', 'Adult', 'Breast Cancer Wisconsin (Diagnostic)', 'Raisin', 'Wine', 'Wine Quality', 'Diabetes', 'Iris', 'Heart Disease', 'Dry Bean', 'Rice (Cammeo and Osmancik)', 'Adult', 'Breast Cancer Wisconsin (Diagnostic)', 'Raisin', 'Wine', 'Wine Quality', 'Diabetes', 'Iris', 'Heart Disease', 'Dry Bean', 'Rice (Cammeo and Osmancik)', 'Adult', 'Breast Cancer Wisconsin (Diagnostic)', 'Raisin', 'Wine', 'Wine Quality', 'Diabetes', 'Iris', 'Heart Disease', 'Dry Bean', 'Rice (Cammeo and Osmancik)', 'Adult', 'Breast Cancer Wisconsin (Diagnostic)', 'Raisin', 'Wine', 'Wine Quality', 'Diabetes', 'Iris', 'Heart Disease', 'Dry Bean', 'Rice (Cammeo and Osmancik)', 'Adult', 'Breast Cancer Wisconsin (Diagnostic)', 'Raisin', 'Wine', 'Wine Quality', 'Diabetes', 'Iris', 'Heart Disease', 'Dry Bean', 'Rice (Cammeo and Osmancik)', 'Adult', 'Breast Cancer Wisconsin (Diagnostic)', 'Raisin', 'Wine', 'Wine Quality', 'Diabetes', 'Iris', 'Heart Disease', 'Dry Bean', 'Rice (Cammeo and Osmancik)', 'Adult', 'Breast Cancer Wisconsin (Diagnostic)', 'Raisin', 'Wine', 'Wine Quality', 'Diabetes', 'Iris', 'Heart Disease', 'Dry Bean', 'Rice (Cammeo and Osmancik)', 'Adult', 'Breast Cancer Wisconsin (Diagnostic)', 'Raisin', 'Wine', 'Wine Quality', 'Diabetes', 'Iris', 'Heart Disease', 'Dry Bean', 'Rice (Cammeo and Osmancik)', 'Adult', 'Breast Cancer Wisconsin (Diagnostic)', 'Raisin', 'Wine', 'Wine Quality', 'Diabetes', 'Iris', 'Heart Disease', 'Dry Bean', 'Rice (Cammeo and Osmancik)', 'Adult', 'Breast Cancer Wisconsin (Diagnostic)', 'Raisin', 'Wine', 'Wine Quality', 'Diabetes', 'Iris', 'Heart Disease', 'Dry Bean', 'Rice (Cammeo and Osmancik)', 'Adult', 'Breast Cancer Wisconsin (Diagnostic)', 'Raisin', 'Wine', 'Wine Quality', 'Diabetes', 'Iris', 'Heart Disease', 'Dry Bean', 'Rice (Cammeo and Osmancik)', 'Adult', 'Breast Cancer Wisconsin (Diagnostic)', 'Raisin', 'Wine', 'Wine Quality', 'Diabetes', 'Iris', 'Heart Disease', 'Dry Bean', 'Rice (Cammeo and Osmancik)', 'Adult', 'Breast Cancer Wisconsin (Diagnostic)', 'Raisin', 'Wine', 'Wine Quality', 'Diabetes', 'Iris', 'Heart Disease', 'Dry Bean', 'Rice (Cammeo and Osmancik)', 'Adult', 'Breast Cancer Wisconsin (Diagnostic)', 'Raisin', 'Wine', 'Wine Quality', 'Diabetes', 'Iris', 'Heart Disease', 'Dry Bean', 'Rice (Cammeo and Osmancik)', 'Adult', 'Breast Cancer Wisconsin (Diagnostic)', 'Raisin', 'Wine', 'Wine Quality', 'Diabetes', 'Iris', 'Heart Disease', 'Dry Bean', 'Rice (Cammeo and Osmancik)', 'Adult', 'Breast Cancer Wisconsin (Diagnostic)', 'Raisin', 'Wine', 'Wine Quality', 'Diabetes', 'Iris', 'Heart Disease', 'Dry Bean', 'Rice (Cammeo and Osmancik)', 'Adult', 'Breast Cancer Wisconsin (Diagnostic)', 'Raisin', 'Wine', 'Wine Quality', 'Diabetes', 'Iris', 'Heart Disease', 'Dry Bean', 'Rice (Cammeo and Osmancik)', 'Adult', 'Breast Cancer Wisconsin (Diagnostic)', 'Raisin', 'Wine', 'Wine Quality', 'Diabetes', 'Iris', 'Heart Disease', 'Dry Bean', 'Rice (Cammeo and Osmancik)', 'Adult', 'Breast Cancer Wisconsin (Diagnostic)', 'Raisin', 'Wine', 'Wine Quality', 'Diabetes', 'Iris', 'Heart Disease', 'Dry Bean', 'Rice (Cammeo and Osmancik)', 'Adult', 'Breast Cancer Wisconsin (Diagnostic)', 'Raisin', 'Wine', 'Wine Quality', 'Diabetes', 'Iris', 'Heart Disease', 'Dry Bean', 'Rice (Cammeo and Osmancik)', 'Adult', 'Breast Cancer Wisconsin (Diagnostic)', 'Raisin', 'Wine', 'Wine Quality', 'Diabetes', 'Iris', 'Heart Disease', 'Dry Bean', 'Rice (Cammeo and Osmancik)', 'Adult', 'Breast Cancer Wisconsin (Diagnostic)', 'Raisin', 'Wine', 'Wine Quality', 'Diabetes', 'Iris', 'Heart Disease', 'Dry Bean', 'Rice (Cammeo and Osmancik)', 'Adult', 'Breast Cancer Wisconsin (Diagnostic)', 'Raisin', 'Wine', 'Wine Quality', 'Diabetes', 'Iris', 'Heart Disease', 'Dry Bean', 'Rice (Cammeo and Osmancik)', 'Adult', 'Breast Cancer Wisconsin (Diagnostic)', 'Raisin', 'Wine', 'Wine Quality', 'Diabetes', 'Iris', 'Heart Disease', 'Dry Bean', 'Rice (Cammeo and Osmancik)', 'Adult', 'Breast Cancer Wisconsin (Diagnostic)', 'Raisin', 'Wine', 'Wine Quality', 'Diabetes', 'Iris', 'Heart Disease', 'Dry Bean', 'Rice (Cammeo and Osmancik)', 'Adult', 'Breast Cancer Wisconsin (Diagnostic)', 'Raisin', 'Wine', 'Wine Quality', 'Diabetes', 'Iris', 'Heart Disease', 'Dry Bean', 'Rice (Cammeo and Osmancik)', 'Adult', 'Breast Cancer Wisconsin (Diagnostic)', 'Raisin', 'Wine', 'Wine Quality', 'Diabetes', 'Iris', 'Heart Disease', 'Dry Bean', 'Rice (Cammeo and Osmancik)', 'Adult', 'Breast Cancer Wisconsin (Diagnostic)', 'Raisin', 'Wine', 'Wine Quality', 'Diabetes', 'Iris', 'Heart Disease', 'Dry Bean', 'Rice (Cammeo and Osmancik)', 'Adult', 'Breast Cancer Wisconsin (Diagnostic)', 'Raisin', 'Wine', 'Wine Quality', 'Diabetes', 'Iris', 'Heart Disease', 'Dry Bean', 'Rice (Cammeo and Osmancik)', 'Adult', 'Breast Cancer Wisconsin (Diagnostic)', 'Raisin', 'Wine', 'Wine Quality', 'Diabetes', 'Iris', 'Heart Disease', 'Dry Bean', 'Rice (Cammeo and Osmancik)', 'Adult', 'Breast Cancer Wisconsin (Diagnostic)', 'Raisin', 'Wine', 'Wine Quality', 'Diabetes', 'Iris', 'Heart Disease', 'Dry Bean', 'Rice (Cammeo and Osmancik)', 'Adult', 'Breast Cancer Wisconsin (Diagnostic)', 'Raisin', 'Wine', 'Wine Quality', 'Diabetes', 'Iris', 'Heart Disease', 'Dry Bean', 'Rice (Cammeo and Osmancik)', 'Adult', 'Breast Cancer Wisconsin (Diagnostic)', 'Raisin', 'Wine', 'Wine Quality', 'Diabetes', 'Iris', 'Heart Disease', 'Dry Bean', 'Rice (Cammeo and Osmancik)', 'Adult', 'Breast Cancer Wisconsin (Diagnostic)', 'Raisin', 'Wine', 'Wine Quality', 'Diabetes', 'Iris', 'Heart Disease', 'Dry Bean', 'Rice (Cammeo and Osmancik)', 'Adult', 'Breast Cancer Wisconsin (Diagnostic)', 'Raisin', 'Wine', 'Wine Quality', 'Diabetes', 'Iris', 'Heart Disease', 'Dry Bean', 'Rice (Cammeo and Osmancik)', 'Adult', 'Breast Cancer Wisconsin (Diagnostic)', 'Raisin', 'Wine', 'Wine Quality', 'Diabetes']\n"
     ]
    }
   ],
   "source": [
    "# scraping data for dataset name\n",
    "for page in range(0,67):\n",
    "    try:\n",
    "        datas_name=driver.find_elements(By.XPATH,'//h2[@class=\"truncate text-primary\"]')\n",
    "        for i in datas_name:\n",
    "            Datas_name.append(i.text)\n",
    "    except NOSuchElementException:\n",
    "        Datas_name.append('-')\n",
    "        next_button=driver.find_element(By.XPATH,'/html/body/div/div[1]/div[1]/main/div/div[2]/div[3]/div/button[2]')\n",
    "        next_button.click()\n",
    "    time.sleep(5)\n",
    "print(len(Datas_name),Datas_name)\n",
    "        "
   ]
  },
  {
   "cell_type": "code",
   "execution_count": 77,
   "id": "d9c44292",
   "metadata": {},
   "outputs": [
    {
     "name": "stdout",
     "output_type": "stream",
     "text": [
      "670 ['Tabular', 'Multivariate', 'Multivariate', 'Multivariate', 'Multivariate', 'Multivariate', 'Multivariate', 'Tabular', 'Multivariate', 'Multivariate, Time-Series', 'Tabular', 'Multivariate', 'Multivariate', 'Multivariate', 'Multivariate', 'Multivariate', 'Multivariate', 'Tabular', 'Multivariate', 'Multivariate, Time-Series', 'Tabular', 'Multivariate', 'Multivariate', 'Multivariate', 'Multivariate', 'Multivariate', 'Multivariate', 'Tabular', 'Multivariate', 'Multivariate, Time-Series', 'Tabular', 'Multivariate', 'Multivariate', 'Multivariate', 'Multivariate', 'Multivariate', 'Multivariate', 'Tabular', 'Multivariate', 'Multivariate, Time-Series', 'Tabular', 'Multivariate', 'Multivariate', 'Multivariate', 'Multivariate', 'Multivariate', 'Multivariate', 'Tabular', 'Multivariate', 'Multivariate, Time-Series', 'Tabular', 'Multivariate', 'Multivariate', 'Multivariate', 'Multivariate', 'Multivariate', 'Multivariate', 'Tabular', 'Multivariate', 'Multivariate, Time-Series', 'Tabular', 'Multivariate', 'Multivariate', 'Multivariate', 'Multivariate', 'Multivariate', 'Multivariate', 'Tabular', 'Multivariate', 'Multivariate, Time-Series', 'Tabular', 'Multivariate', 'Multivariate', 'Multivariate', 'Multivariate', 'Multivariate', 'Multivariate', 'Tabular', 'Multivariate', 'Multivariate, Time-Series', 'Tabular', 'Multivariate', 'Multivariate', 'Multivariate', 'Multivariate', 'Multivariate', 'Multivariate', 'Tabular', 'Multivariate', 'Multivariate, Time-Series', 'Tabular', 'Multivariate', 'Multivariate', 'Multivariate', 'Multivariate', 'Multivariate', 'Multivariate', 'Tabular', 'Multivariate', 'Multivariate, Time-Series', 'Tabular', 'Multivariate', 'Multivariate', 'Multivariate', 'Multivariate', 'Multivariate', 'Multivariate', 'Tabular', 'Multivariate', 'Multivariate, Time-Series', 'Tabular', 'Multivariate', 'Multivariate', 'Multivariate', 'Multivariate', 'Multivariate', 'Multivariate', 'Tabular', 'Multivariate', 'Multivariate, Time-Series', 'Tabular', 'Multivariate', 'Multivariate', 'Multivariate', 'Multivariate', 'Multivariate', 'Multivariate', 'Tabular', 'Multivariate', 'Multivariate, Time-Series', 'Tabular', 'Multivariate', 'Multivariate', 'Multivariate', 'Multivariate', 'Multivariate', 'Multivariate', 'Tabular', 'Multivariate', 'Multivariate, Time-Series', 'Tabular', 'Multivariate', 'Multivariate', 'Multivariate', 'Multivariate', 'Multivariate', 'Multivariate', 'Tabular', 'Multivariate', 'Multivariate, Time-Series', 'Tabular', 'Multivariate', 'Multivariate', 'Multivariate', 'Multivariate', 'Multivariate', 'Multivariate', 'Tabular', 'Multivariate', 'Multivariate, Time-Series', 'Tabular', 'Multivariate', 'Multivariate', 'Multivariate', 'Multivariate', 'Multivariate', 'Multivariate', 'Tabular', 'Multivariate', 'Multivariate, Time-Series', 'Tabular', 'Multivariate', 'Multivariate', 'Multivariate', 'Multivariate', 'Multivariate', 'Multivariate', 'Tabular', 'Multivariate', 'Multivariate, Time-Series', 'Tabular', 'Multivariate', 'Multivariate', 'Multivariate', 'Multivariate', 'Multivariate', 'Multivariate', 'Tabular', 'Multivariate', 'Multivariate, Time-Series', 'Tabular', 'Multivariate', 'Multivariate', 'Multivariate', 'Multivariate', 'Multivariate', 'Multivariate', 'Tabular', 'Multivariate', 'Multivariate, Time-Series', 'Tabular', 'Multivariate', 'Multivariate', 'Multivariate', 'Multivariate', 'Multivariate', 'Multivariate', 'Tabular', 'Multivariate', 'Multivariate, Time-Series', 'Tabular', 'Multivariate', 'Multivariate', 'Multivariate', 'Multivariate', 'Multivariate', 'Multivariate', 'Tabular', 'Multivariate', 'Multivariate, Time-Series', 'Tabular', 'Multivariate', 'Multivariate', 'Multivariate', 'Multivariate', 'Multivariate', 'Multivariate', 'Tabular', 'Multivariate', 'Multivariate, Time-Series', 'Tabular', 'Multivariate', 'Multivariate', 'Multivariate', 'Multivariate', 'Multivariate', 'Multivariate', 'Tabular', 'Multivariate', 'Multivariate, Time-Series', 'Tabular', 'Multivariate', 'Multivariate', 'Multivariate', 'Multivariate', 'Multivariate', 'Multivariate', 'Tabular', 'Multivariate', 'Multivariate, Time-Series', 'Tabular', 'Multivariate', 'Multivariate', 'Multivariate', 'Multivariate', 'Multivariate', 'Multivariate', 'Tabular', 'Multivariate', 'Multivariate, Time-Series', 'Tabular', 'Multivariate', 'Multivariate', 'Multivariate', 'Multivariate', 'Multivariate', 'Multivariate', 'Tabular', 'Multivariate', 'Multivariate, Time-Series', 'Tabular', 'Multivariate', 'Multivariate', 'Multivariate', 'Multivariate', 'Multivariate', 'Multivariate', 'Tabular', 'Multivariate', 'Multivariate, Time-Series', 'Tabular', 'Multivariate', 'Multivariate', 'Multivariate', 'Multivariate', 'Multivariate', 'Multivariate', 'Tabular', 'Multivariate', 'Multivariate, Time-Series', 'Tabular', 'Multivariate', 'Multivariate', 'Multivariate', 'Multivariate', 'Multivariate', 'Multivariate', 'Tabular', 'Multivariate', 'Multivariate, Time-Series', 'Tabular', 'Multivariate', 'Multivariate', 'Multivariate', 'Multivariate', 'Multivariate', 'Multivariate', 'Tabular', 'Multivariate', 'Multivariate, Time-Series', 'Tabular', 'Multivariate', 'Multivariate', 'Multivariate', 'Multivariate', 'Multivariate', 'Multivariate', 'Tabular', 'Multivariate', 'Multivariate, Time-Series', 'Tabular', 'Multivariate', 'Multivariate', 'Multivariate', 'Multivariate', 'Multivariate', 'Multivariate', 'Tabular', 'Multivariate', 'Multivariate, Time-Series', 'Tabular', 'Multivariate', 'Multivariate', 'Multivariate', 'Multivariate', 'Multivariate', 'Multivariate', 'Tabular', 'Multivariate', 'Multivariate, Time-Series', 'Tabular', 'Multivariate', 'Multivariate', 'Multivariate', 'Multivariate', 'Multivariate', 'Multivariate', 'Tabular', 'Multivariate', 'Multivariate, Time-Series', 'Tabular', 'Multivariate', 'Multivariate', 'Multivariate', 'Multivariate', 'Multivariate', 'Multivariate', 'Tabular', 'Multivariate', 'Multivariate, Time-Series', 'Tabular', 'Multivariate', 'Multivariate', 'Multivariate', 'Multivariate', 'Multivariate', 'Multivariate', 'Tabular', 'Multivariate', 'Multivariate, Time-Series', 'Tabular', 'Multivariate', 'Multivariate', 'Multivariate', 'Multivariate', 'Multivariate', 'Multivariate', 'Tabular', 'Multivariate', 'Multivariate, Time-Series', 'Tabular', 'Multivariate', 'Multivariate', 'Multivariate', 'Multivariate', 'Multivariate', 'Multivariate', 'Tabular', 'Multivariate', 'Multivariate, Time-Series', 'Tabular', 'Multivariate', 'Multivariate', 'Multivariate', 'Multivariate', 'Multivariate', 'Multivariate', 'Tabular', 'Multivariate', 'Multivariate, Time-Series', 'Tabular', 'Multivariate', 'Multivariate', 'Multivariate', 'Multivariate', 'Multivariate', 'Multivariate', 'Tabular', 'Multivariate', 'Multivariate, Time-Series', 'Tabular', 'Multivariate', 'Multivariate', 'Multivariate', 'Multivariate', 'Multivariate', 'Multivariate', 'Tabular', 'Multivariate', 'Multivariate, Time-Series', 'Tabular', 'Multivariate', 'Multivariate', 'Multivariate', 'Multivariate', 'Multivariate', 'Multivariate', 'Tabular', 'Multivariate', 'Multivariate, Time-Series', 'Tabular', 'Multivariate', 'Multivariate', 'Multivariate', 'Multivariate', 'Multivariate', 'Multivariate', 'Tabular', 'Multivariate', 'Multivariate, Time-Series', 'Tabular', 'Multivariate', 'Multivariate', 'Multivariate', 'Multivariate', 'Multivariate', 'Multivariate', 'Tabular', 'Multivariate', 'Multivariate, Time-Series', 'Tabular', 'Multivariate', 'Multivariate', 'Multivariate', 'Multivariate', 'Multivariate', 'Multivariate', 'Tabular', 'Multivariate', 'Multivariate, Time-Series', 'Tabular', 'Multivariate', 'Multivariate', 'Multivariate', 'Multivariate', 'Multivariate', 'Multivariate', 'Tabular', 'Multivariate', 'Multivariate, Time-Series', 'Tabular', 'Multivariate', 'Multivariate', 'Multivariate', 'Multivariate', 'Multivariate', 'Multivariate', 'Tabular', 'Multivariate', 'Multivariate, Time-Series', 'Tabular', 'Multivariate', 'Multivariate', 'Multivariate', 'Multivariate', 'Multivariate', 'Multivariate', 'Tabular', 'Multivariate', 'Multivariate, Time-Series', 'Tabular', 'Multivariate', 'Multivariate', 'Multivariate', 'Multivariate', 'Multivariate', 'Multivariate', 'Tabular', 'Multivariate', 'Multivariate, Time-Series', 'Tabular', 'Multivariate', 'Multivariate', 'Multivariate', 'Multivariate', 'Multivariate', 'Multivariate', 'Tabular', 'Multivariate', 'Multivariate, Time-Series', 'Tabular', 'Multivariate', 'Multivariate', 'Multivariate', 'Multivariate', 'Multivariate', 'Multivariate', 'Tabular', 'Multivariate', 'Multivariate, Time-Series', 'Tabular', 'Multivariate', 'Multivariate', 'Multivariate', 'Multivariate', 'Multivariate', 'Multivariate', 'Tabular', 'Multivariate', 'Multivariate, Time-Series', 'Tabular', 'Multivariate', 'Multivariate', 'Multivariate', 'Multivariate', 'Multivariate', 'Multivariate', 'Tabular', 'Multivariate', 'Multivariate, Time-Series', 'Tabular', 'Multivariate', 'Multivariate', 'Multivariate', 'Multivariate', 'Multivariate', 'Multivariate', 'Tabular', 'Multivariate', 'Multivariate, Time-Series', 'Tabular', 'Multivariate', 'Multivariate', 'Multivariate', 'Multivariate', 'Multivariate', 'Multivariate', 'Tabular', 'Multivariate', 'Multivariate, Time-Series', 'Tabular', 'Multivariate', 'Multivariate', 'Multivariate', 'Multivariate', 'Multivariate', 'Multivariate', 'Tabular', 'Multivariate', 'Multivariate, Time-Series', 'Tabular', 'Multivariate', 'Multivariate', 'Multivariate', 'Multivariate', 'Multivariate', 'Multivariate', 'Tabular', 'Multivariate', 'Multivariate, Time-Series', 'Tabular', 'Multivariate', 'Multivariate', 'Multivariate', 'Multivariate', 'Multivariate', 'Multivariate', 'Tabular', 'Multivariate', 'Multivariate, Time-Series', 'Tabular', 'Multivariate', 'Multivariate', 'Multivariate', 'Multivariate', 'Multivariate', 'Multivariate', 'Tabular', 'Multivariate', 'Multivariate, Time-Series', 'Tabular', 'Multivariate', 'Multivariate', 'Multivariate', 'Multivariate', 'Multivariate', 'Multivariate', 'Tabular', 'Multivariate', 'Multivariate, Time-Series', 'Tabular', 'Multivariate', 'Multivariate', 'Multivariate', 'Multivariate', 'Multivariate', 'Multivariate', 'Tabular', 'Multivariate', 'Multivariate, Time-Series', 'Tabular', 'Multivariate', 'Multivariate', 'Multivariate', 'Multivariate', 'Multivariate', 'Multivariate', 'Tabular', 'Multivariate', 'Multivariate, Time-Series', 'Tabular', 'Multivariate', 'Multivariate', 'Multivariate', 'Multivariate', 'Multivariate', 'Multivariate', 'Tabular', 'Multivariate', 'Multivariate, Time-Series', 'Tabular', 'Multivariate', 'Multivariate', 'Multivariate', 'Multivariate', 'Multivariate', 'Multivariate', 'Tabular', 'Multivariate', 'Multivariate, Time-Series', 'Tabular', 'Multivariate', 'Multivariate', 'Multivariate', 'Multivariate', 'Multivariate', 'Multivariate', 'Tabular', 'Multivariate', 'Multivariate, Time-Series', 'Tabular', 'Multivariate', 'Multivariate', 'Multivariate', 'Multivariate', 'Multivariate', 'Multivariate', 'Tabular', 'Multivariate', 'Multivariate, Time-Series']\n"
     ]
    }
   ],
   "source": [
    "# scraping data for data type\n",
    "for page in range(0,67):\n",
    "    try:\n",
    "        d_type=driver.find_elements(By.XPATH,'//div[@class=\"relative col-span-8 sm:col-span-7\"]/div/div[2]/span')\n",
    "        for i in d_type:\n",
    "            Data_type.append(i.text)\n",
    "    except NoSuchElementException:\n",
    "        Data_type.append('-')\n",
    "        next_button=driver.find_element(By.XPATH,'/html/body/div/div[1]/div[1]/main/div/div[2]/div[3]/div/button[2]')\n",
    "        next_button.click()\n",
    "    time.sleep(5)\n",
    "print(len(Data_type),Data_type)"
   ]
  },
  {
   "cell_type": "code",
   "execution_count": 78,
   "id": "6bdb8681",
   "metadata": {},
   "outputs": [
    {
     "name": "stdout",
     "output_type": "stream",
     "text": [
      "670 ['Classification', 'Classification', 'Classification', 'Classification', 'Classification', 'Classification', 'Classification', 'Classification', 'Classification, Regression', 'Classification', 'Classification', 'Classification', 'Classification', 'Classification', 'Classification', 'Classification', 'Classification', 'Classification', 'Classification, Regression', 'Classification', 'Classification', 'Classification', 'Classification', 'Classification', 'Classification', 'Classification', 'Classification', 'Classification', 'Classification, Regression', 'Classification', 'Classification', 'Classification', 'Classification', 'Classification', 'Classification', 'Classification', 'Classification', 'Classification', 'Classification, Regression', 'Classification', 'Classification', 'Classification', 'Classification', 'Classification', 'Classification', 'Classification', 'Classification', 'Classification', 'Classification, Regression', 'Classification', 'Classification', 'Classification', 'Classification', 'Classification', 'Classification', 'Classification', 'Classification', 'Classification', 'Classification, Regression', 'Classification', 'Classification', 'Classification', 'Classification', 'Classification', 'Classification', 'Classification', 'Classification', 'Classification', 'Classification, Regression', 'Classification', 'Classification', 'Classification', 'Classification', 'Classification', 'Classification', 'Classification', 'Classification', 'Classification', 'Classification, Regression', 'Classification', 'Classification', 'Classification', 'Classification', 'Classification', 'Classification', 'Classification', 'Classification', 'Classification', 'Classification, Regression', 'Classification', 'Classification', 'Classification', 'Classification', 'Classification', 'Classification', 'Classification', 'Classification', 'Classification', 'Classification, Regression', 'Classification', 'Classification', 'Classification', 'Classification', 'Classification', 'Classification', 'Classification', 'Classification', 'Classification', 'Classification, Regression', 'Classification', 'Classification', 'Classification', 'Classification', 'Classification', 'Classification', 'Classification', 'Classification', 'Classification', 'Classification, Regression', 'Classification', 'Classification', 'Classification', 'Classification', 'Classification', 'Classification', 'Classification', 'Classification', 'Classification', 'Classification, Regression', 'Classification', 'Classification', 'Classification', 'Classification', 'Classification', 'Classification', 'Classification', 'Classification', 'Classification', 'Classification, Regression', 'Classification', 'Classification', 'Classification', 'Classification', 'Classification', 'Classification', 'Classification', 'Classification', 'Classification', 'Classification, Regression', 'Classification', 'Classification', 'Classification', 'Classification', 'Classification', 'Classification', 'Classification', 'Classification', 'Classification', 'Classification, Regression', 'Classification', 'Classification', 'Classification', 'Classification', 'Classification', 'Classification', 'Classification', 'Classification', 'Classification', 'Classification, Regression', 'Classification', 'Classification', 'Classification', 'Classification', 'Classification', 'Classification', 'Classification', 'Classification', 'Classification', 'Classification, Regression', 'Classification', 'Classification', 'Classification', 'Classification', 'Classification', 'Classification', 'Classification', 'Classification', 'Classification', 'Classification, Regression', 'Classification', 'Classification', 'Classification', 'Classification', 'Classification', 'Classification', 'Classification', 'Classification', 'Classification', 'Classification, Regression', 'Classification', 'Classification', 'Classification', 'Classification', 'Classification', 'Classification', 'Classification', 'Classification', 'Classification', 'Classification, Regression', 'Classification', 'Classification', 'Classification', 'Classification', 'Classification', 'Classification', 'Classification', 'Classification', 'Classification', 'Classification, Regression', 'Classification', 'Classification', 'Classification', 'Classification', 'Classification', 'Classification', 'Classification', 'Classification', 'Classification', 'Classification, Regression', 'Classification', 'Classification', 'Classification', 'Classification', 'Classification', 'Classification', 'Classification', 'Classification', 'Classification', 'Classification, Regression', 'Classification', 'Classification', 'Classification', 'Classification', 'Classification', 'Classification', 'Classification', 'Classification', 'Classification', 'Classification, Regression', 'Classification', 'Classification', 'Classification', 'Classification', 'Classification', 'Classification', 'Classification', 'Classification', 'Classification', 'Classification, Regression', 'Classification', 'Classification', 'Classification', 'Classification', 'Classification', 'Classification', 'Classification', 'Classification', 'Classification', 'Classification, Regression', 'Classification', 'Classification', 'Classification', 'Classification', 'Classification', 'Classification', 'Classification', 'Classification', 'Classification', 'Classification, Regression', 'Classification', 'Classification', 'Classification', 'Classification', 'Classification', 'Classification', 'Classification', 'Classification', 'Classification', 'Classification, Regression', 'Classification', 'Classification', 'Classification', 'Classification', 'Classification', 'Classification', 'Classification', 'Classification', 'Classification', 'Classification, Regression', 'Classification', 'Classification', 'Classification', 'Classification', 'Classification', 'Classification', 'Classification', 'Classification', 'Classification', 'Classification, Regression', 'Classification', 'Classification', 'Classification', 'Classification', 'Classification', 'Classification', 'Classification', 'Classification', 'Classification', 'Classification, Regression', 'Classification', 'Classification', 'Classification', 'Classification', 'Classification', 'Classification', 'Classification', 'Classification', 'Classification', 'Classification, Regression', 'Classification', 'Classification', 'Classification', 'Classification', 'Classification', 'Classification', 'Classification', 'Classification', 'Classification', 'Classification, Regression', 'Classification', 'Classification', 'Classification', 'Classification', 'Classification', 'Classification', 'Classification', 'Classification', 'Classification', 'Classification, Regression', 'Classification', 'Classification', 'Classification', 'Classification', 'Classification', 'Classification', 'Classification', 'Classification', 'Classification', 'Classification, Regression', 'Classification', 'Classification', 'Classification', 'Classification', 'Classification', 'Classification', 'Classification', 'Classification', 'Classification', 'Classification, Regression', 'Classification', 'Classification', 'Classification', 'Classification', 'Classification', 'Classification', 'Classification', 'Classification', 'Classification', 'Classification, Regression', 'Classification', 'Classification', 'Classification', 'Classification', 'Classification', 'Classification', 'Classification', 'Classification', 'Classification', 'Classification, Regression', 'Classification', 'Classification', 'Classification', 'Classification', 'Classification', 'Classification', 'Classification', 'Classification', 'Classification', 'Classification, Regression', 'Classification', 'Classification', 'Classification', 'Classification', 'Classification', 'Classification', 'Classification', 'Classification', 'Classification', 'Classification, Regression', 'Classification', 'Classification', 'Classification', 'Classification', 'Classification', 'Classification', 'Classification', 'Classification', 'Classification', 'Classification, Regression', 'Classification', 'Classification', 'Classification', 'Classification', 'Classification', 'Classification', 'Classification', 'Classification', 'Classification', 'Classification, Regression', 'Classification', 'Classification', 'Classification', 'Classification', 'Classification', 'Classification', 'Classification', 'Classification', 'Classification', 'Classification, Regression', 'Classification', 'Classification', 'Classification', 'Classification', 'Classification', 'Classification', 'Classification', 'Classification', 'Classification', 'Classification, Regression', 'Classification', 'Classification', 'Classification', 'Classification', 'Classification', 'Classification', 'Classification', 'Classification', 'Classification', 'Classification, Regression', 'Classification', 'Classification', 'Classification', 'Classification', 'Classification', 'Classification', 'Classification', 'Classification', 'Classification', 'Classification, Regression', 'Classification', 'Classification', 'Classification', 'Classification', 'Classification', 'Classification', 'Classification', 'Classification', 'Classification', 'Classification, Regression', 'Classification', 'Classification', 'Classification', 'Classification', 'Classification', 'Classification', 'Classification', 'Classification', 'Classification', 'Classification, Regression', 'Classification', 'Classification', 'Classification', 'Classification', 'Classification', 'Classification', 'Classification', 'Classification', 'Classification', 'Classification, Regression', 'Classification', 'Classification', 'Classification', 'Classification', 'Classification', 'Classification', 'Classification', 'Classification', 'Classification', 'Classification, Regression', 'Classification', 'Classification', 'Classification', 'Classification', 'Classification', 'Classification', 'Classification', 'Classification', 'Classification', 'Classification, Regression', 'Classification', 'Classification', 'Classification', 'Classification', 'Classification', 'Classification', 'Classification', 'Classification', 'Classification', 'Classification, Regression', 'Classification', 'Classification', 'Classification', 'Classification', 'Classification', 'Classification', 'Classification', 'Classification', 'Classification', 'Classification, Regression', 'Classification', 'Classification', 'Classification', 'Classification', 'Classification', 'Classification', 'Classification', 'Classification', 'Classification', 'Classification, Regression', 'Classification', 'Classification', 'Classification', 'Classification', 'Classification', 'Classification', 'Classification', 'Classification', 'Classification', 'Classification, Regression', 'Classification', 'Classification', 'Classification', 'Classification', 'Classification', 'Classification', 'Classification', 'Classification', 'Classification', 'Classification, Regression', 'Classification', 'Classification', 'Classification', 'Classification', 'Classification', 'Classification', 'Classification', 'Classification', 'Classification', 'Classification, Regression', 'Classification', 'Classification', 'Classification', 'Classification', 'Classification', 'Classification', 'Classification', 'Classification', 'Classification', 'Classification, Regression', 'Classification', 'Classification', 'Classification', 'Classification', 'Classification', 'Classification', 'Classification', 'Classification', 'Classification', 'Classification, Regression', 'Classification', 'Classification', 'Classification', 'Classification', 'Classification', 'Classification', 'Classification', 'Classification', 'Classification', 'Classification, Regression', 'Classification', 'Classification', 'Classification', 'Classification', 'Classification', 'Classification', 'Classification', 'Classification', 'Classification', 'Classification, Regression', 'Classification', 'Classification', 'Classification', 'Classification', 'Classification', 'Classification', 'Classification', 'Classification', 'Classification', 'Classification, Regression', 'Classification', 'Classification', 'Classification', 'Classification', 'Classification', 'Classification', 'Classification', 'Classification', 'Classification', 'Classification, Regression', 'Classification', 'Classification', 'Classification', 'Classification', 'Classification', 'Classification', 'Classification', 'Classification', 'Classification', 'Classification, Regression', 'Classification', 'Classification', 'Classification', 'Classification', 'Classification', 'Classification', 'Classification', 'Classification', 'Classification', 'Classification, Regression', 'Classification', 'Classification', 'Classification', 'Classification', 'Classification', 'Classification', 'Classification', 'Classification', 'Classification', 'Classification, Regression', 'Classification']\n"
     ]
    }
   ],
   "source": [
    "# scraping data for task\n",
    "for page in range(0,67):\n",
    "    try:\n",
    "        task=driver.find_elements(By.XPATH,'//div[@class=\"relative col-span-8 sm:col-span-7\"]/div/div[1]/span')\n",
    "        for i in task:\n",
    "            Task.append(i.text)\n",
    "    except NoSuchElementsException:\n",
    "        Task.append('-')\n",
    "        next_button=driver.find_element(By.XPATH,'/html/body/div/div[1]/div[1]/main/div/div[2]/div[3]/div/button[2]')\n",
    "        next_button.click()\n",
    "    time.sleep(5)\n",
    "print(len(Task),Task)"
   ]
  },
  {
   "cell_type": "code",
   "execution_count": 89,
   "id": "862ee266",
   "metadata": {},
   "outputs": [
    {
     "name": "stdout",
     "output_type": "stream",
     "text": [
      "670 ['Real', 'Categorical, Integer, Real', 'Integer, Real', 'Real', 'Categorical, Integer', 'Real', 'Real, Integer', 'Integer, Real', 'Real', 'Categorical, Integer', 'Real', 'Categorical, Integer, Real', 'Integer, Real', 'Real', 'Categorical, Integer', 'Real', 'Real, Integer', 'Integer, Real', 'Real', 'Categorical, Integer', 'Real', 'Categorical, Integer, Real', 'Integer, Real', 'Real', 'Categorical, Integer', 'Real', 'Real, Integer', 'Integer, Real', 'Real', 'Categorical, Integer', 'Real', 'Categorical, Integer, Real', 'Integer, Real', 'Real', 'Categorical, Integer', 'Real', 'Real, Integer', 'Integer, Real', 'Real', 'Categorical, Integer', 'Real', 'Categorical, Integer, Real', 'Integer, Real', 'Real', 'Categorical, Integer', 'Real', 'Real, Integer', 'Integer, Real', 'Real', 'Categorical, Integer', 'Real', 'Categorical, Integer, Real', 'Integer, Real', 'Real', 'Categorical, Integer', 'Real', 'Real, Integer', 'Integer, Real', 'Real', 'Categorical, Integer', 'Real', 'Categorical, Integer, Real', 'Integer, Real', 'Real', 'Categorical, Integer', 'Real', 'Real, Integer', 'Integer, Real', 'Real', 'Categorical, Integer', 'Real', 'Categorical, Integer, Real', 'Integer, Real', 'Real', 'Categorical, Integer', 'Real', 'Real, Integer', 'Integer, Real', 'Real', 'Categorical, Integer', 'Real', 'Categorical, Integer, Real', 'Integer, Real', 'Real', 'Categorical, Integer', 'Real', 'Real, Integer', 'Integer, Real', 'Real', 'Categorical, Integer', 'Real', 'Categorical, Integer, Real', 'Integer, Real', 'Real', 'Categorical, Integer', 'Real', 'Real, Integer', 'Integer, Real', 'Real', 'Categorical, Integer', 'Real', 'Categorical, Integer, Real', 'Integer, Real', 'Real', 'Categorical, Integer', 'Real', 'Real, Integer', 'Integer, Real', 'Real', 'Categorical, Integer', 'Real', 'Categorical, Integer, Real', 'Integer, Real', 'Real', 'Categorical, Integer', 'Real', 'Real, Integer', 'Integer, Real', 'Real', 'Categorical, Integer', 'Real', 'Categorical, Integer, Real', 'Integer, Real', 'Real', 'Categorical, Integer', 'Real', 'Real, Integer', 'Integer, Real', 'Real', 'Categorical, Integer', 'Real', 'Categorical, Integer, Real', 'Integer, Real', 'Real', 'Categorical, Integer', 'Real', 'Real, Integer', 'Integer, Real', 'Real', 'Categorical, Integer', 'Real', 'Categorical, Integer, Real', 'Integer, Real', 'Real', 'Categorical, Integer', 'Real', 'Real, Integer', 'Integer, Real', 'Real', 'Categorical, Integer', 'Real', 'Categorical, Integer, Real', 'Integer, Real', 'Real', 'Categorical, Integer', 'Real', 'Real, Integer', 'Integer, Real', 'Real', 'Categorical, Integer', 'Real', 'Categorical, Integer, Real', 'Integer, Real', 'Real', 'Categorical, Integer', 'Real', 'Real, Integer', 'Integer, Real', 'Real', 'Categorical, Integer', 'Real', 'Categorical, Integer, Real', 'Integer, Real', 'Real', 'Categorical, Integer', 'Real', 'Real, Integer', 'Integer, Real', 'Real', 'Categorical, Integer', 'Real', 'Categorical, Integer, Real', 'Integer, Real', 'Real', 'Categorical, Integer', 'Real', 'Real, Integer', 'Integer, Real', 'Real', 'Categorical, Integer', 'Real', 'Categorical, Integer, Real', 'Integer, Real', 'Real', 'Categorical, Integer', 'Real', 'Real, Integer', 'Integer, Real', 'Real', 'Categorical, Integer', 'Real', 'Categorical, Integer, Real', 'Integer, Real', 'Real', 'Categorical, Integer', 'Real', 'Real, Integer', 'Integer, Real', 'Real', 'Categorical, Integer', 'Real', 'Categorical, Integer, Real', 'Integer, Real', 'Real', 'Categorical, Integer', 'Real', 'Real, Integer', 'Integer, Real', 'Real', 'Categorical, Integer', 'Real', 'Categorical, Integer, Real', 'Integer, Real', 'Real', 'Categorical, Integer', 'Real', 'Real, Integer', 'Integer, Real', 'Real', 'Categorical, Integer', 'Real', 'Categorical, Integer, Real', 'Integer, Real', 'Real', 'Categorical, Integer', 'Real', 'Real, Integer', 'Integer, Real', 'Real', 'Categorical, Integer', 'Real', 'Categorical, Integer, Real', 'Integer, Real', 'Real', 'Categorical, Integer', 'Real', 'Real, Integer', 'Integer, Real', 'Real', 'Categorical, Integer', 'Real', 'Categorical, Integer, Real', 'Integer, Real', 'Real', 'Categorical, Integer', 'Real', 'Real, Integer', 'Integer, Real', 'Real', 'Categorical, Integer', 'Real', 'Categorical, Integer, Real', 'Integer, Real', 'Real', 'Categorical, Integer', 'Real', 'Real, Integer', 'Integer, Real', 'Real', 'Categorical, Integer', 'Real', 'Categorical, Integer, Real', 'Integer, Real', 'Real', 'Categorical, Integer', 'Real', 'Real, Integer', 'Integer, Real', 'Real', 'Categorical, Integer', 'Real', 'Categorical, Integer, Real', 'Integer, Real', 'Real', 'Categorical, Integer', 'Real', 'Real, Integer', 'Integer, Real', 'Real', 'Categorical, Integer', 'Real', 'Categorical, Integer, Real', 'Integer, Real', 'Real', 'Categorical, Integer', 'Real', 'Real, Integer', 'Integer, Real', 'Real', 'Categorical, Integer', 'Real', 'Categorical, Integer, Real', 'Integer, Real', 'Real', 'Categorical, Integer', 'Real', 'Real, Integer', 'Integer, Real', 'Real', 'Categorical, Integer', 'Real', 'Categorical, Integer, Real', 'Integer, Real', 'Real', 'Categorical, Integer', 'Real', 'Real, Integer', 'Integer, Real', 'Real', 'Categorical, Integer', 'Real', 'Categorical, Integer, Real', 'Integer, Real', 'Real', 'Categorical, Integer', 'Real', 'Real, Integer', 'Integer, Real', 'Real', 'Categorical, Integer', 'Real', 'Categorical, Integer, Real', 'Integer, Real', 'Real', 'Categorical, Integer', 'Real', 'Real, Integer', 'Integer, Real', 'Real', 'Categorical, Integer', 'Real', 'Categorical, Integer, Real', 'Integer, Real', 'Real', 'Categorical, Integer', 'Real', 'Real, Integer', 'Integer, Real', 'Real', 'Categorical, Integer', 'Real', 'Categorical, Integer, Real', 'Integer, Real', 'Real', 'Categorical, Integer', 'Real', 'Real, Integer', 'Integer, Real', 'Real', 'Categorical, Integer', 'Real', 'Categorical, Integer, Real', 'Integer, Real', 'Real', 'Categorical, Integer', 'Real', 'Real, Integer', 'Integer, Real', 'Real', 'Categorical, Integer', 'Real', 'Categorical, Integer, Real', 'Integer, Real', 'Real', 'Categorical, Integer', 'Real', 'Real, Integer', 'Integer, Real', 'Real', 'Categorical, Integer', 'Real', 'Categorical, Integer, Real', 'Integer, Real', 'Real', 'Categorical, Integer', 'Real', 'Real, Integer', 'Integer, Real', 'Real', 'Categorical, Integer', 'Real', 'Categorical, Integer, Real', 'Integer, Real', 'Real', 'Categorical, Integer', 'Real', 'Real, Integer', 'Integer, Real', 'Real', 'Categorical, Integer', 'Real', 'Categorical, Integer, Real', 'Integer, Real', 'Real', 'Categorical, Integer', 'Real', 'Real, Integer', 'Integer, Real', 'Real', 'Categorical, Integer', 'Real', 'Categorical, Integer, Real', 'Integer, Real', 'Real', 'Categorical, Integer', 'Real', 'Real, Integer', 'Integer, Real', 'Real', 'Categorical, Integer', 'Real', 'Categorical, Integer, Real', 'Integer, Real', 'Real', 'Categorical, Integer', 'Real', 'Real, Integer', 'Integer, Real', 'Real', 'Categorical, Integer', 'Real', 'Categorical, Integer, Real', 'Integer, Real', 'Real', 'Categorical, Integer', 'Real', 'Real, Integer', 'Integer, Real', 'Real', 'Categorical, Integer', 'Real', 'Categorical, Integer, Real', 'Integer, Real', 'Real', 'Categorical, Integer', 'Real', 'Real, Integer', 'Integer, Real', 'Real', 'Categorical, Integer', 'Real', 'Categorical, Integer, Real', 'Integer, Real', 'Real', 'Categorical, Integer', 'Real', 'Real, Integer', 'Integer, Real', 'Real', 'Categorical, Integer', 'Real', 'Categorical, Integer, Real', 'Integer, Real', 'Real', 'Categorical, Integer', 'Real', 'Real, Integer', 'Integer, Real', 'Real', 'Categorical, Integer', 'Real', 'Categorical, Integer, Real', 'Integer, Real', 'Real', 'Categorical, Integer', 'Real', 'Real, Integer', 'Integer, Real', 'Real', 'Categorical, Integer', 'Real', 'Categorical, Integer, Real', 'Integer, Real', 'Real', 'Categorical, Integer', 'Real', 'Real, Integer', 'Integer, Real', 'Real', 'Categorical, Integer', 'Real', 'Categorical, Integer, Real', 'Integer, Real', 'Real', 'Categorical, Integer', 'Real', 'Real, Integer', 'Integer, Real', 'Real', 'Categorical, Integer', 'Real', 'Categorical, Integer, Real', 'Integer, Real', 'Real', 'Categorical, Integer', 'Real', 'Real, Integer', 'Integer, Real', 'Real', 'Categorical, Integer', 'Real', 'Categorical, Integer, Real', 'Integer, Real', 'Real', 'Categorical, Integer', 'Real', 'Real, Integer', 'Integer, Real', 'Real', 'Categorical, Integer', 'Real', 'Categorical, Integer, Real', 'Integer, Real', 'Real', 'Categorical, Integer', 'Real', 'Real, Integer', 'Integer, Real', 'Real', 'Categorical, Integer', 'Real', 'Categorical, Integer, Real', 'Integer, Real', 'Real', 'Categorical, Integer', 'Real', 'Real, Integer', 'Integer, Real', 'Real', 'Categorical, Integer', 'Real', 'Categorical, Integer, Real', 'Integer, Real', 'Real', 'Categorical, Integer', 'Real', 'Real, Integer', 'Integer, Real', 'Real', 'Categorical, Integer', 'Real', 'Categorical, Integer, Real', 'Integer, Real', 'Real', 'Categorical, Integer', 'Real', 'Real, Integer', 'Integer, Real', 'Real', 'Categorical, Integer', 'Real', 'Categorical, Integer, Real', 'Integer, Real', 'Real', 'Categorical, Integer', 'Real', 'Real, Integer', 'Integer, Real', 'Real', 'Categorical, Integer', 'Real', 'Categorical, Integer, Real', 'Integer, Real', 'Real', 'Categorical, Integer', 'Real', 'Real, Integer', 'Integer, Real', 'Real', 'Categorical, Integer', 'Real', 'Categorical, Integer, Real', 'Integer, Real', 'Real', 'Categorical, Integer', 'Real', 'Real, Integer', 'Integer, Real', 'Real', 'Categorical, Integer', 'Real', 'Categorical, Integer, Real', 'Integer, Real', 'Real', 'Categorical, Integer', 'Real', 'Real, Integer', 'Integer, Real', 'Real', 'Categorical, Integer', 'Real', 'Categorical, Integer, Real', 'Integer, Real', 'Real', 'Categorical, Integer', 'Real', 'Real, Integer', 'Integer, Real', 'Real', 'Categorical, Integer', 'Real', 'Categorical, Integer, Real', 'Integer, Real', 'Real', 'Categorical, Integer', 'Real', 'Real, Integer', 'Integer, Real', 'Real', 'Categorical, Integer', 'Real', 'Categorical, Integer, Real', 'Integer, Real', 'Real', 'Categorical, Integer', 'Real', 'Real, Integer', 'Integer, Real', 'Real', 'Categorical, Integer', 'Real', 'Categorical, Integer, Real', 'Integer, Real', 'Real', 'Categorical, Integer', 'Real', 'Real, Integer', 'Integer, Real', 'Real', 'Categorical, Integer', 'Real', 'Categorical, Integer, Real', 'Integer, Real', 'Real', 'Categorical, Integer', 'Real', 'Real, Integer', 'Integer, Real', 'Real', 'Categorical, Integer', 'Real', 'Categorical, Integer, Real', 'Integer, Real', 'Real', 'Categorical, Integer', 'Real', 'Real, Integer', 'Integer, Real', 'Real', 'Categorical, Integer', 'Real', 'Categorical, Integer, Real', 'Integer, Real', 'Real', 'Categorical, Integer', 'Real', 'Real, Integer', 'Integer, Real', 'Real', 'Categorical, Integer']\n"
     ]
    }
   ],
   "source": [
    "# scraping data for attribute type\n",
    "for page in range(0,67):\n",
    "    try:\n",
    "        attrib_type=driver.find_elements(By.XPATH,'//table[@class=\"col-span-full my-2 table sm:col-start-2\"]/tbody/tr/td[2]')\n",
    "        for i in attrib_type:\n",
    "            Attri_type.append(i.text)\n",
    "    except NoSuchElementException:\n",
    "        Attri_type('-')\n",
    "        next_button=driver.find_element(By.XPATH,'/html/body/div/div[1]/div[1]/main/div/div[2]/div[3]/div/button[2]')\n",
    "        next_button.click()\n",
    "    time.sleep(5)\n",
    "print(len(Attri_type),Attri_type)"
   ]
  },
  {
   "cell_type": "code",
   "execution_count": 87,
   "id": "041d6dad",
   "metadata": {},
   "outputs": [
    {
     "name": "stdout",
     "output_type": "stream",
     "text": [
      "670 ['150 Instances', '303 Instances', '13.61K Instances', '3.81K Instances', '48.84K Instances', '569 Instances', '900 Instances', '178 Instances', '4.9K Instances', '1 Instances', '150 Instances', '303 Instances', '13.61K Instances', '3.81K Instances', '48.84K Instances', '569 Instances', '900 Instances', '178 Instances', '4.9K Instances', '1 Instances', '150 Instances', '303 Instances', '13.61K Instances', '3.81K Instances', '48.84K Instances', '569 Instances', '900 Instances', '178 Instances', '4.9K Instances', '1 Instances', '150 Instances', '303 Instances', '13.61K Instances', '3.81K Instances', '48.84K Instances', '569 Instances', '900 Instances', '178 Instances', '4.9K Instances', '1 Instances', '150 Instances', '303 Instances', '13.61K Instances', '3.81K Instances', '48.84K Instances', '569 Instances', '900 Instances', '178 Instances', '4.9K Instances', '1 Instances', '150 Instances', '303 Instances', '13.61K Instances', '3.81K Instances', '48.84K Instances', '569 Instances', '900 Instances', '178 Instances', '4.9K Instances', '1 Instances', '150 Instances', '303 Instances', '13.61K Instances', '3.81K Instances', '48.84K Instances', '569 Instances', '900 Instances', '178 Instances', '4.9K Instances', '1 Instances', '150 Instances', '303 Instances', '13.61K Instances', '3.81K Instances', '48.84K Instances', '569 Instances', '900 Instances', '178 Instances', '4.9K Instances', '1 Instances', '150 Instances', '303 Instances', '13.61K Instances', '3.81K Instances', '48.84K Instances', '569 Instances', '900 Instances', '178 Instances', '4.9K Instances', '1 Instances', '150 Instances', '303 Instances', '13.61K Instances', '3.81K Instances', '48.84K Instances', '569 Instances', '900 Instances', '178 Instances', '4.9K Instances', '1 Instances', '150 Instances', '303 Instances', '13.61K Instances', '3.81K Instances', '48.84K Instances', '569 Instances', '900 Instances', '178 Instances', '4.9K Instances', '1 Instances', '150 Instances', '303 Instances', '13.61K Instances', '3.81K Instances', '48.84K Instances', '569 Instances', '900 Instances', '178 Instances', '4.9K Instances', '1 Instances', '150 Instances', '303 Instances', '13.61K Instances', '3.81K Instances', '48.84K Instances', '569 Instances', '900 Instances', '178 Instances', '4.9K Instances', '1 Instances', '150 Instances', '303 Instances', '13.61K Instances', '3.81K Instances', '48.84K Instances', '569 Instances', '900 Instances', '178 Instances', '4.9K Instances', '1 Instances', '150 Instances', '303 Instances', '13.61K Instances', '3.81K Instances', '48.84K Instances', '569 Instances', '900 Instances', '178 Instances', '4.9K Instances', '1 Instances', '150 Instances', '303 Instances', '13.61K Instances', '3.81K Instances', '48.84K Instances', '569 Instances', '900 Instances', '178 Instances', '4.9K Instances', '1 Instances', '150 Instances', '303 Instances', '13.61K Instances', '3.81K Instances', '48.84K Instances', '569 Instances', '900 Instances', '178 Instances', '4.9K Instances', '1 Instances', '150 Instances', '303 Instances', '13.61K Instances', '3.81K Instances', '48.84K Instances', '569 Instances', '900 Instances', '178 Instances', '4.9K Instances', '1 Instances', '150 Instances', '303 Instances', '13.61K Instances', '3.81K Instances', '48.84K Instances', '569 Instances', '900 Instances', '178 Instances', '4.9K Instances', '1 Instances', '150 Instances', '303 Instances', '13.61K Instances', '3.81K Instances', '48.84K Instances', '569 Instances', '900 Instances', '178 Instances', '4.9K Instances', '1 Instances', '150 Instances', '303 Instances', '13.61K Instances', '3.81K Instances', '48.84K Instances', '569 Instances', '900 Instances', '178 Instances', '4.9K Instances', '1 Instances', '150 Instances', '303 Instances', '13.61K Instances', '3.81K Instances', '48.84K Instances', '569 Instances', '900 Instances', '178 Instances', '4.9K Instances', '1 Instances', '150 Instances', '303 Instances', '13.61K Instances', '3.81K Instances', '48.84K Instances', '569 Instances', '900 Instances', '178 Instances', '4.9K Instances', '1 Instances', '150 Instances', '303 Instances', '13.61K Instances', '3.81K Instances', '48.84K Instances', '569 Instances', '900 Instances', '178 Instances', '4.9K Instances', '1 Instances', '150 Instances', '303 Instances', '13.61K Instances', '3.81K Instances', '48.84K Instances', '569 Instances', '900 Instances', '178 Instances', '4.9K Instances', '1 Instances', '150 Instances', '303 Instances', '13.61K Instances', '3.81K Instances', '48.84K Instances', '569 Instances', '900 Instances', '178 Instances', '4.9K Instances', '1 Instances', '150 Instances', '303 Instances', '13.61K Instances', '3.81K Instances', '48.84K Instances', '569 Instances', '900 Instances', '178 Instances', '4.9K Instances', '1 Instances', '150 Instances', '303 Instances', '13.61K Instances', '3.81K Instances', '48.84K Instances', '569 Instances', '900 Instances', '178 Instances', '4.9K Instances', '1 Instances', '150 Instances', '303 Instances', '13.61K Instances', '3.81K Instances', '48.84K Instances', '569 Instances', '900 Instances', '178 Instances', '4.9K Instances', '1 Instances', '150 Instances', '303 Instances', '13.61K Instances', '3.81K Instances', '48.84K Instances', '569 Instances', '900 Instances', '178 Instances', '4.9K Instances', '1 Instances', '150 Instances', '303 Instances', '13.61K Instances', '3.81K Instances', '48.84K Instances', '569 Instances', '900 Instances', '178 Instances', '4.9K Instances', '1 Instances', '150 Instances', '303 Instances', '13.61K Instances', '3.81K Instances', '48.84K Instances', '569 Instances', '900 Instances', '178 Instances', '4.9K Instances', '1 Instances', '150 Instances', '303 Instances', '13.61K Instances', '3.81K Instances', '48.84K Instances', '569 Instances', '900 Instances', '178 Instances', '4.9K Instances', '1 Instances', '150 Instances', '303 Instances', '13.61K Instances', '3.81K Instances', '48.84K Instances', '569 Instances', '900 Instances', '178 Instances', '4.9K Instances', '1 Instances', '150 Instances', '303 Instances', '13.61K Instances', '3.81K Instances', '48.84K Instances', '569 Instances', '900 Instances', '178 Instances', '4.9K Instances', '1 Instances', '150 Instances', '303 Instances', '13.61K Instances', '3.81K Instances', '48.84K Instances', '569 Instances', '900 Instances', '178 Instances', '4.9K Instances', '1 Instances', '150 Instances', '303 Instances', '13.61K Instances', '3.81K Instances', '48.84K Instances', '569 Instances', '900 Instances', '178 Instances', '4.9K Instances', '1 Instances', '150 Instances', '303 Instances', '13.61K Instances', '3.81K Instances', '48.84K Instances', '569 Instances', '900 Instances', '178 Instances', '4.9K Instances', '1 Instances', '150 Instances', '303 Instances', '13.61K Instances', '3.81K Instances', '48.84K Instances', '569 Instances', '900 Instances', '178 Instances', '4.9K Instances', '1 Instances', '150 Instances', '303 Instances', '13.61K Instances', '3.81K Instances', '48.84K Instances', '569 Instances', '900 Instances', '178 Instances', '4.9K Instances', '1 Instances', '150 Instances', '303 Instances', '13.61K Instances', '3.81K Instances', '48.84K Instances', '569 Instances', '900 Instances', '178 Instances', '4.9K Instances', '1 Instances', '150 Instances', '303 Instances', '13.61K Instances', '3.81K Instances', '48.84K Instances', '569 Instances', '900 Instances', '178 Instances', '4.9K Instances', '1 Instances', '150 Instances', '303 Instances', '13.61K Instances', '3.81K Instances', '48.84K Instances', '569 Instances', '900 Instances', '178 Instances', '4.9K Instances', '1 Instances', '150 Instances', '303 Instances', '13.61K Instances', '3.81K Instances', '48.84K Instances', '569 Instances', '900 Instances', '178 Instances', '4.9K Instances', '1 Instances', '150 Instances', '303 Instances', '13.61K Instances', '3.81K Instances', '48.84K Instances', '569 Instances', '900 Instances', '178 Instances', '4.9K Instances', '1 Instances', '150 Instances', '303 Instances', '13.61K Instances', '3.81K Instances', '48.84K Instances', '569 Instances', '900 Instances', '178 Instances', '4.9K Instances', '1 Instances', '150 Instances', '303 Instances', '13.61K Instances', '3.81K Instances', '48.84K Instances', '569 Instances', '900 Instances', '178 Instances', '4.9K Instances', '1 Instances', '150 Instances', '303 Instances', '13.61K Instances', '3.81K Instances', '48.84K Instances', '569 Instances', '900 Instances', '178 Instances', '4.9K Instances', '1 Instances', '150 Instances', '303 Instances', '13.61K Instances', '3.81K Instances', '48.84K Instances', '569 Instances', '900 Instances', '178 Instances', '4.9K Instances', '1 Instances', '150 Instances', '303 Instances', '13.61K Instances', '3.81K Instances', '48.84K Instances', '569 Instances', '900 Instances', '178 Instances', '4.9K Instances', '1 Instances', '150 Instances', '303 Instances', '13.61K Instances', '3.81K Instances', '48.84K Instances', '569 Instances', '900 Instances', '178 Instances', '4.9K Instances', '1 Instances', '150 Instances', '303 Instances', '13.61K Instances', '3.81K Instances', '48.84K Instances', '569 Instances', '900 Instances', '178 Instances', '4.9K Instances', '1 Instances', '150 Instances', '303 Instances', '13.61K Instances', '3.81K Instances', '48.84K Instances', '569 Instances', '900 Instances', '178 Instances', '4.9K Instances', '1 Instances', '150 Instances', '303 Instances', '13.61K Instances', '3.81K Instances', '48.84K Instances', '569 Instances', '900 Instances', '178 Instances', '4.9K Instances', '1 Instances', '150 Instances', '303 Instances', '13.61K Instances', '3.81K Instances', '48.84K Instances', '569 Instances', '900 Instances', '178 Instances', '4.9K Instances', '1 Instances', '150 Instances', '303 Instances', '13.61K Instances', '3.81K Instances', '48.84K Instances', '569 Instances', '900 Instances', '178 Instances', '4.9K Instances', '1 Instances', '150 Instances', '303 Instances', '13.61K Instances', '3.81K Instances', '48.84K Instances', '569 Instances', '900 Instances', '178 Instances', '4.9K Instances', '1 Instances', '150 Instances', '303 Instances', '13.61K Instances', '3.81K Instances', '48.84K Instances', '569 Instances', '900 Instances', '178 Instances', '4.9K Instances', '1 Instances', '150 Instances', '303 Instances', '13.61K Instances', '3.81K Instances', '48.84K Instances', '569 Instances', '900 Instances', '178 Instances', '4.9K Instances', '1 Instances', '150 Instances', '303 Instances', '13.61K Instances', '3.81K Instances', '48.84K Instances', '569 Instances', '900 Instances', '178 Instances', '4.9K Instances', '1 Instances', '150 Instances', '303 Instances', '13.61K Instances', '3.81K Instances', '48.84K Instances', '569 Instances', '900 Instances', '178 Instances', '4.9K Instances', '1 Instances', '150 Instances', '303 Instances', '13.61K Instances', '3.81K Instances', '48.84K Instances', '569 Instances', '900 Instances', '178 Instances', '4.9K Instances', '1 Instances', '150 Instances', '303 Instances', '13.61K Instances', '3.81K Instances', '48.84K Instances', '569 Instances', '900 Instances', '178 Instances', '4.9K Instances', '1 Instances', '150 Instances', '303 Instances', '13.61K Instances', '3.81K Instances', '48.84K Instances', '569 Instances', '900 Instances', '178 Instances', '4.9K Instances', '1 Instances', '150 Instances', '303 Instances', '13.61K Instances', '3.81K Instances', '48.84K Instances', '569 Instances', '900 Instances', '178 Instances', '4.9K Instances', '1 Instances', '150 Instances', '303 Instances', '13.61K Instances', '3.81K Instances', '48.84K Instances', '569 Instances', '900 Instances', '178 Instances', '4.9K Instances', '1 Instances', '150 Instances', '303 Instances', '13.61K Instances', '3.81K Instances', '48.84K Instances', '569 Instances', '900 Instances', '178 Instances', '4.9K Instances', '1 Instances']\n"
     ]
    }
   ],
   "source": [
    "# scraping data for no. of instances\n",
    "for page in range(0,67):\n",
    "    try:\n",
    "        no_of_ins=driver.find_elements(By.XPATH,'//div[@class=\"relative col-span-8 sm:col-span-7\"]/div/div[3]/span')\n",
    "        for i in no_of_ins:\n",
    "            No_of_inst.append(i.text)\n",
    "    except NoSuchElementException:\n",
    "        No_of_inst.append('-')\n",
    "        next_button=driver.find_element(By.XPATH,'/html/body/div/div[1]/div[1]/main/div/div[2]/div[3]/div/button[2]')\n",
    "        next_button.click()\n",
    "    time.sleep(5)\n",
    "print(len(No_of_inst),No_of_inst)"
   ]
  },
  {
   "cell_type": "code",
   "execution_count": 82,
   "id": "aee6c3f4",
   "metadata": {},
   "outputs": [
    {
     "name": "stdout",
     "output_type": "stream",
     "text": [
      "670 ['4 Features', '13 Features', '16 Features', '7 Features', '14 Features', '30 Features', '8 Features', '13 Features', '12 Features', '20 Features', '4 Features', '13 Features', '16 Features', '7 Features', '14 Features', '30 Features', '8 Features', '13 Features', '12 Features', '20 Features', '4 Features', '13 Features', '16 Features', '7 Features', '14 Features', '30 Features', '8 Features', '13 Features', '12 Features', '20 Features', '4 Features', '13 Features', '16 Features', '7 Features', '14 Features', '30 Features', '8 Features', '13 Features', '12 Features', '20 Features', '4 Features', '13 Features', '16 Features', '7 Features', '14 Features', '30 Features', '8 Features', '13 Features', '12 Features', '20 Features', '4 Features', '13 Features', '16 Features', '7 Features', '14 Features', '30 Features', '8 Features', '13 Features', '12 Features', '20 Features', '4 Features', '13 Features', '16 Features', '7 Features', '14 Features', '30 Features', '8 Features', '13 Features', '12 Features', '20 Features', '4 Features', '13 Features', '16 Features', '7 Features', '14 Features', '30 Features', '8 Features', '13 Features', '12 Features', '20 Features', '4 Features', '13 Features', '16 Features', '7 Features', '14 Features', '30 Features', '8 Features', '13 Features', '12 Features', '20 Features', '4 Features', '13 Features', '16 Features', '7 Features', '14 Features', '30 Features', '8 Features', '13 Features', '12 Features', '20 Features', '4 Features', '13 Features', '16 Features', '7 Features', '14 Features', '30 Features', '8 Features', '13 Features', '12 Features', '20 Features', '4 Features', '13 Features', '16 Features', '7 Features', '14 Features', '30 Features', '8 Features', '13 Features', '12 Features', '20 Features', '4 Features', '13 Features', '16 Features', '7 Features', '14 Features', '30 Features', '8 Features', '13 Features', '12 Features', '20 Features', '4 Features', '13 Features', '16 Features', '7 Features', '14 Features', '30 Features', '8 Features', '13 Features', '12 Features', '20 Features', '4 Features', '13 Features', '16 Features', '7 Features', '14 Features', '30 Features', '8 Features', '13 Features', '12 Features', '20 Features', '4 Features', '13 Features', '16 Features', '7 Features', '14 Features', '30 Features', '8 Features', '13 Features', '12 Features', '20 Features', '4 Features', '13 Features', '16 Features', '7 Features', '14 Features', '30 Features', '8 Features', '13 Features', '12 Features', '20 Features', '4 Features', '13 Features', '16 Features', '7 Features', '14 Features', '30 Features', '8 Features', '13 Features', '12 Features', '20 Features', '4 Features', '13 Features', '16 Features', '7 Features', '14 Features', '30 Features', '8 Features', '13 Features', '12 Features', '20 Features', '4 Features', '13 Features', '16 Features', '7 Features', '14 Features', '30 Features', '8 Features', '13 Features', '12 Features', '20 Features', '4 Features', '13 Features', '16 Features', '7 Features', '14 Features', '30 Features', '8 Features', '13 Features', '12 Features', '20 Features', '4 Features', '13 Features', '16 Features', '7 Features', '14 Features', '30 Features', '8 Features', '13 Features', '12 Features', '20 Features', '4 Features', '13 Features', '16 Features', '7 Features', '14 Features', '30 Features', '8 Features', '13 Features', '12 Features', '20 Features', '4 Features', '13 Features', '16 Features', '7 Features', '14 Features', '30 Features', '8 Features', '13 Features', '12 Features', '20 Features', '4 Features', '13 Features', '16 Features', '7 Features', '14 Features', '30 Features', '8 Features', '13 Features', '12 Features', '20 Features', '4 Features', '13 Features', '16 Features', '7 Features', '14 Features', '30 Features', '8 Features', '13 Features', '12 Features', '20 Features', '4 Features', '13 Features', '16 Features', '7 Features', '14 Features', '30 Features', '8 Features', '13 Features', '12 Features', '20 Features', '4 Features', '13 Features', '16 Features', '7 Features', '14 Features', '30 Features', '8 Features', '13 Features', '12 Features', '20 Features', '4 Features', '13 Features', '16 Features', '7 Features', '14 Features', '30 Features', '8 Features', '13 Features', '12 Features', '20 Features', '4 Features', '13 Features', '16 Features', '7 Features', '14 Features', '30 Features', '8 Features', '13 Features', '12 Features', '20 Features', '4 Features', '13 Features', '16 Features', '7 Features', '14 Features', '30 Features', '8 Features', '13 Features', '12 Features', '20 Features', '4 Features', '13 Features', '16 Features', '7 Features', '14 Features', '30 Features', '8 Features', '13 Features', '12 Features', '20 Features', '4 Features', '13 Features', '16 Features', '7 Features', '14 Features', '30 Features', '8 Features', '13 Features', '12 Features', '20 Features', '4 Features', '13 Features', '16 Features', '7 Features', '14 Features', '30 Features', '8 Features', '13 Features', '12 Features', '20 Features', '4 Features', '13 Features', '16 Features', '7 Features', '14 Features', '30 Features', '8 Features', '13 Features', '12 Features', '20 Features', '4 Features', '13 Features', '16 Features', '7 Features', '14 Features', '30 Features', '8 Features', '13 Features', '12 Features', '20 Features', '4 Features', '13 Features', '16 Features', '7 Features', '14 Features', '30 Features', '8 Features', '13 Features', '12 Features', '20 Features', '4 Features', '13 Features', '16 Features', '7 Features', '14 Features', '30 Features', '8 Features', '13 Features', '12 Features', '20 Features', '4 Features', '13 Features', '16 Features', '7 Features', '14 Features', '30 Features', '8 Features', '13 Features', '12 Features', '20 Features', '4 Features', '13 Features', '16 Features', '7 Features', '14 Features', '30 Features', '8 Features', '13 Features', '12 Features', '20 Features', '4 Features', '13 Features', '16 Features', '7 Features', '14 Features', '30 Features', '8 Features', '13 Features', '12 Features', '20 Features', '4 Features', '13 Features', '16 Features', '7 Features', '14 Features', '30 Features', '8 Features', '13 Features', '12 Features', '20 Features', '4 Features', '13 Features', '16 Features', '7 Features', '14 Features', '30 Features', '8 Features', '13 Features', '12 Features', '20 Features', '4 Features', '13 Features', '16 Features', '7 Features', '14 Features', '30 Features', '8 Features', '13 Features', '12 Features', '20 Features', '4 Features', '13 Features', '16 Features', '7 Features', '14 Features', '30 Features', '8 Features', '13 Features', '12 Features', '20 Features', '4 Features', '13 Features', '16 Features', '7 Features', '14 Features', '30 Features', '8 Features', '13 Features', '12 Features', '20 Features', '4 Features', '13 Features', '16 Features', '7 Features', '14 Features', '30 Features', '8 Features', '13 Features', '12 Features', '20 Features', '4 Features', '13 Features', '16 Features', '7 Features', '14 Features', '30 Features', '8 Features', '13 Features', '12 Features', '20 Features', '4 Features', '13 Features', '16 Features', '7 Features', '14 Features', '30 Features', '8 Features', '13 Features', '12 Features', '20 Features', '4 Features', '13 Features', '16 Features', '7 Features', '14 Features', '30 Features', '8 Features', '13 Features', '12 Features', '20 Features', '4 Features', '13 Features', '16 Features', '7 Features', '14 Features', '30 Features', '8 Features', '13 Features', '12 Features', '20 Features', '4 Features', '13 Features', '16 Features', '7 Features', '14 Features', '30 Features', '8 Features', '13 Features', '12 Features', '20 Features', '4 Features', '13 Features', '16 Features', '7 Features', '14 Features', '30 Features', '8 Features', '13 Features', '12 Features', '20 Features', '4 Features', '13 Features', '16 Features', '7 Features', '14 Features', '30 Features', '8 Features', '13 Features', '12 Features', '20 Features', '4 Features', '13 Features', '16 Features', '7 Features', '14 Features', '30 Features', '8 Features', '13 Features', '12 Features', '20 Features', '4 Features', '13 Features', '16 Features', '7 Features', '14 Features', '30 Features', '8 Features', '13 Features', '12 Features', '20 Features', '4 Features', '13 Features', '16 Features', '7 Features', '14 Features', '30 Features', '8 Features', '13 Features', '12 Features', '20 Features', '4 Features', '13 Features', '16 Features', '7 Features', '14 Features', '30 Features', '8 Features', '13 Features', '12 Features', '20 Features', '4 Features', '13 Features', '16 Features', '7 Features', '14 Features', '30 Features', '8 Features', '13 Features', '12 Features', '20 Features', '4 Features', '13 Features', '16 Features', '7 Features', '14 Features', '30 Features', '8 Features', '13 Features', '12 Features', '20 Features', '4 Features', '13 Features', '16 Features', '7 Features', '14 Features', '30 Features', '8 Features', '13 Features', '12 Features', '20 Features', '4 Features', '13 Features', '16 Features', '7 Features', '14 Features', '30 Features', '8 Features', '13 Features', '12 Features', '20 Features', '4 Features', '13 Features', '16 Features', '7 Features', '14 Features', '30 Features', '8 Features', '13 Features', '12 Features', '20 Features', '4 Features', '13 Features', '16 Features', '7 Features', '14 Features', '30 Features', '8 Features', '13 Features', '12 Features', '20 Features', '4 Features', '13 Features', '16 Features', '7 Features', '14 Features', '30 Features', '8 Features', '13 Features', '12 Features', '20 Features', '4 Features', '13 Features', '16 Features', '7 Features', '14 Features', '30 Features', '8 Features', '13 Features', '12 Features', '20 Features', '4 Features', '13 Features', '16 Features', '7 Features', '14 Features', '30 Features', '8 Features', '13 Features', '12 Features', '20 Features']\n"
     ]
    }
   ],
   "source": [
    "# scraping data for no. of attributes\n",
    "for page in range(0,67):\n",
    "    try:\n",
    "        no_of_attri=driver.find_elements(By.XPATH,'//div[@class=\"relative col-span-8 sm:col-span-7\"]/div/div[4]/span')\n",
    "        for i in no_of_attri:\n",
    "            No_of_attri.append(i.text)\n",
    "    except NoSuchElementException:\n",
    "        No_of_attri.append('-')\n",
    "        next_button=driver.find_element(By.XPATH,'/html/body/div/div[1]/div[1]/main/div/div[2]/div[3]/div/button[2]')\n",
    "        next_button.click()\n",
    "    time.sleep(5)\n",
    "print(len(No_of_attri),No_of_attri)"
   ]
  },
  {
   "cell_type": "code",
   "execution_count": 88,
   "id": "8c20e7c5",
   "metadata": {},
   "outputs": [
    {
     "name": "stdout",
     "output_type": "stream",
     "text": [
      "670 ['7/1/1988', '7/1/1988', '9/14/2020', '10/6/2019', '5/1/1996', '11/1/1995', '8/14/2023', '7/1/1991', '10/7/2009', 'N/A', '7/1/1988', '7/1/1988', '9/14/2020', '10/6/2019', '5/1/1996', '11/1/1995', '8/14/2023', '7/1/1991', '10/7/2009', 'N/A', '7/1/1988', '7/1/1988', '9/14/2020', '10/6/2019', '5/1/1996', '11/1/1995', '8/14/2023', '7/1/1991', '10/7/2009', 'N/A', '7/1/1988', '7/1/1988', '9/14/2020', '10/6/2019', '5/1/1996', '11/1/1995', '8/14/2023', '7/1/1991', '10/7/2009', 'N/A', '7/1/1988', '7/1/1988', '9/14/2020', '10/6/2019', '5/1/1996', '11/1/1995', '8/14/2023', '7/1/1991', '10/7/2009', 'N/A', '7/1/1988', '7/1/1988', '9/14/2020', '10/6/2019', '5/1/1996', '11/1/1995', '8/14/2023', '7/1/1991', '10/7/2009', 'N/A', '7/1/1988', '7/1/1988', '9/14/2020', '10/6/2019', '5/1/1996', '11/1/1995', '8/14/2023', '7/1/1991', '10/7/2009', 'N/A', '7/1/1988', '7/1/1988', '9/14/2020', '10/6/2019', '5/1/1996', '11/1/1995', '8/14/2023', '7/1/1991', '10/7/2009', 'N/A', '7/1/1988', '7/1/1988', '9/14/2020', '10/6/2019', '5/1/1996', '11/1/1995', '8/14/2023', '7/1/1991', '10/7/2009', 'N/A', '7/1/1988', '7/1/1988', '9/14/2020', '10/6/2019', '5/1/1996', '11/1/1995', '8/14/2023', '7/1/1991', '10/7/2009', 'N/A', '7/1/1988', '7/1/1988', '9/14/2020', '10/6/2019', '5/1/1996', '11/1/1995', '8/14/2023', '7/1/1991', '10/7/2009', 'N/A', '7/1/1988', '7/1/1988', '9/14/2020', '10/6/2019', '5/1/1996', '11/1/1995', '8/14/2023', '7/1/1991', '10/7/2009', 'N/A', '7/1/1988', '7/1/1988', '9/14/2020', '10/6/2019', '5/1/1996', '11/1/1995', '8/14/2023', '7/1/1991', '10/7/2009', 'N/A', '7/1/1988', '7/1/1988', '9/14/2020', '10/6/2019', '5/1/1996', '11/1/1995', '8/14/2023', '7/1/1991', '10/7/2009', 'N/A', '7/1/1988', '7/1/1988', '9/14/2020', '10/6/2019', '5/1/1996', '11/1/1995', '8/14/2023', '7/1/1991', '10/7/2009', 'N/A', '7/1/1988', '7/1/1988', '9/14/2020', '10/6/2019', '5/1/1996', '11/1/1995', '8/14/2023', '7/1/1991', '10/7/2009', 'N/A', '7/1/1988', '7/1/1988', '9/14/2020', '10/6/2019', '5/1/1996', '11/1/1995', '8/14/2023', '7/1/1991', '10/7/2009', 'N/A', '7/1/1988', '7/1/1988', '9/14/2020', '10/6/2019', '5/1/1996', '11/1/1995', '8/14/2023', '7/1/1991', '10/7/2009', 'N/A', '7/1/1988', '7/1/1988', '9/14/2020', '10/6/2019', '5/1/1996', '11/1/1995', '8/14/2023', '7/1/1991', '10/7/2009', 'N/A', '7/1/1988', '7/1/1988', '9/14/2020', '10/6/2019', '5/1/1996', '11/1/1995', '8/14/2023', '7/1/1991', '10/7/2009', 'N/A', '7/1/1988', '7/1/1988', '9/14/2020', '10/6/2019', '5/1/1996', '11/1/1995', '8/14/2023', '7/1/1991', '10/7/2009', 'N/A', '7/1/1988', '7/1/1988', '9/14/2020', '10/6/2019', '5/1/1996', '11/1/1995', '8/14/2023', '7/1/1991', '10/7/2009', 'N/A', '7/1/1988', '7/1/1988', '9/14/2020', '10/6/2019', '5/1/1996', '11/1/1995', '8/14/2023', '7/1/1991', '10/7/2009', 'N/A', '7/1/1988', '7/1/1988', '9/14/2020', '10/6/2019', '5/1/1996', '11/1/1995', '8/14/2023', '7/1/1991', '10/7/2009', 'N/A', '7/1/1988', '7/1/1988', '9/14/2020', '10/6/2019', '5/1/1996', '11/1/1995', '8/14/2023', '7/1/1991', '10/7/2009', 'N/A', '7/1/1988', '7/1/1988', '9/14/2020', '10/6/2019', '5/1/1996', '11/1/1995', '8/14/2023', '7/1/1991', '10/7/2009', 'N/A', '7/1/1988', '7/1/1988', '9/14/2020', '10/6/2019', '5/1/1996', '11/1/1995', '8/14/2023', '7/1/1991', '10/7/2009', 'N/A', '7/1/1988', '7/1/1988', '9/14/2020', '10/6/2019', '5/1/1996', '11/1/1995', '8/14/2023', '7/1/1991', '10/7/2009', 'N/A', '7/1/1988', '7/1/1988', '9/14/2020', '10/6/2019', '5/1/1996', '11/1/1995', '8/14/2023', '7/1/1991', '10/7/2009', 'N/A', '7/1/1988', '7/1/1988', '9/14/2020', '10/6/2019', '5/1/1996', '11/1/1995', '8/14/2023', '7/1/1991', '10/7/2009', 'N/A', '7/1/1988', '7/1/1988', '9/14/2020', '10/6/2019', '5/1/1996', '11/1/1995', '8/14/2023', '7/1/1991', '10/7/2009', 'N/A', '7/1/1988', '7/1/1988', '9/14/2020', '10/6/2019', '5/1/1996', '11/1/1995', '8/14/2023', '7/1/1991', '10/7/2009', 'N/A', '7/1/1988', '7/1/1988', '9/14/2020', '10/6/2019', '5/1/1996', '11/1/1995', '8/14/2023', '7/1/1991', '10/7/2009', 'N/A', '7/1/1988', '7/1/1988', '9/14/2020', '10/6/2019', '5/1/1996', '11/1/1995', '8/14/2023', '7/1/1991', '10/7/2009', 'N/A', '7/1/1988', '7/1/1988', '9/14/2020', '10/6/2019', '5/1/1996', '11/1/1995', '8/14/2023', '7/1/1991', '10/7/2009', 'N/A', '7/1/1988', '7/1/1988', '9/14/2020', '10/6/2019', '5/1/1996', '11/1/1995', '8/14/2023', '7/1/1991', '10/7/2009', 'N/A', '7/1/1988', '7/1/1988', '9/14/2020', '10/6/2019', '5/1/1996', '11/1/1995', '8/14/2023', '7/1/1991', '10/7/2009', 'N/A', '7/1/1988', '7/1/1988', '9/14/2020', '10/6/2019', '5/1/1996', '11/1/1995', '8/14/2023', '7/1/1991', '10/7/2009', 'N/A', '7/1/1988', '7/1/1988', '9/14/2020', '10/6/2019', '5/1/1996', '11/1/1995', '8/14/2023', '7/1/1991', '10/7/2009', 'N/A', '7/1/1988', '7/1/1988', '9/14/2020', '10/6/2019', '5/1/1996', '11/1/1995', '8/14/2023', '7/1/1991', '10/7/2009', 'N/A', '7/1/1988', '7/1/1988', '9/14/2020', '10/6/2019', '5/1/1996', '11/1/1995', '8/14/2023', '7/1/1991', '10/7/2009', 'N/A', '7/1/1988', '7/1/1988', '9/14/2020', '10/6/2019', '5/1/1996', '11/1/1995', '8/14/2023', '7/1/1991', '10/7/2009', 'N/A', '7/1/1988', '7/1/1988', '9/14/2020', '10/6/2019', '5/1/1996', '11/1/1995', '8/14/2023', '7/1/1991', '10/7/2009', 'N/A', '7/1/1988', '7/1/1988', '9/14/2020', '10/6/2019', '5/1/1996', '11/1/1995', '8/14/2023', '7/1/1991', '10/7/2009', 'N/A', '7/1/1988', '7/1/1988', '9/14/2020', '10/6/2019', '5/1/1996', '11/1/1995', '8/14/2023', '7/1/1991', '10/7/2009', 'N/A', '7/1/1988', '7/1/1988', '9/14/2020', '10/6/2019', '5/1/1996', '11/1/1995', '8/14/2023', '7/1/1991', '10/7/2009', 'N/A', '7/1/1988', '7/1/1988', '9/14/2020', '10/6/2019', '5/1/1996', '11/1/1995', '8/14/2023', '7/1/1991', '10/7/2009', 'N/A', '7/1/1988', '7/1/1988', '9/14/2020', '10/6/2019', '5/1/1996', '11/1/1995', '8/14/2023', '7/1/1991', '10/7/2009', 'N/A', '7/1/1988', '7/1/1988', '9/14/2020', '10/6/2019', '5/1/1996', '11/1/1995', '8/14/2023', '7/1/1991', '10/7/2009', 'N/A', '7/1/1988', '7/1/1988', '9/14/2020', '10/6/2019', '5/1/1996', '11/1/1995', '8/14/2023', '7/1/1991', '10/7/2009', 'N/A', '7/1/1988', '7/1/1988', '9/14/2020', '10/6/2019', '5/1/1996', '11/1/1995', '8/14/2023', '7/1/1991', '10/7/2009', 'N/A', '7/1/1988', '7/1/1988', '9/14/2020', '10/6/2019', '5/1/1996', '11/1/1995', '8/14/2023', '7/1/1991', '10/7/2009', 'N/A', '7/1/1988', '7/1/1988', '9/14/2020', '10/6/2019', '5/1/1996', '11/1/1995', '8/14/2023', '7/1/1991', '10/7/2009', 'N/A', '7/1/1988', '7/1/1988', '9/14/2020', '10/6/2019', '5/1/1996', '11/1/1995', '8/14/2023', '7/1/1991', '10/7/2009', 'N/A', '7/1/1988', '7/1/1988', '9/14/2020', '10/6/2019', '5/1/1996', '11/1/1995', '8/14/2023', '7/1/1991', '10/7/2009', 'N/A', '7/1/1988', '7/1/1988', '9/14/2020', '10/6/2019', '5/1/1996', '11/1/1995', '8/14/2023', '7/1/1991', '10/7/2009', 'N/A', '7/1/1988', '7/1/1988', '9/14/2020', '10/6/2019', '5/1/1996', '11/1/1995', '8/14/2023', '7/1/1991', '10/7/2009', 'N/A', '7/1/1988', '7/1/1988', '9/14/2020', '10/6/2019', '5/1/1996', '11/1/1995', '8/14/2023', '7/1/1991', '10/7/2009', 'N/A', '7/1/1988', '7/1/1988', '9/14/2020', '10/6/2019', '5/1/1996', '11/1/1995', '8/14/2023', '7/1/1991', '10/7/2009', 'N/A', '7/1/1988', '7/1/1988', '9/14/2020', '10/6/2019', '5/1/1996', '11/1/1995', '8/14/2023', '7/1/1991', '10/7/2009', 'N/A', '7/1/1988', '7/1/1988', '9/14/2020', '10/6/2019', '5/1/1996', '11/1/1995', '8/14/2023', '7/1/1991', '10/7/2009', 'N/A', '7/1/1988', '7/1/1988', '9/14/2020', '10/6/2019', '5/1/1996', '11/1/1995', '8/14/2023', '7/1/1991', '10/7/2009', 'N/A', '7/1/1988', '7/1/1988', '9/14/2020', '10/6/2019', '5/1/1996', '11/1/1995', '8/14/2023', '7/1/1991', '10/7/2009', 'N/A', '7/1/1988', '7/1/1988', '9/14/2020', '10/6/2019', '5/1/1996', '11/1/1995', '8/14/2023', '7/1/1991', '10/7/2009', 'N/A', '7/1/1988', '7/1/1988', '9/14/2020', '10/6/2019', '5/1/1996', '11/1/1995', '8/14/2023', '7/1/1991', '10/7/2009', 'N/A', '7/1/1988', '7/1/1988', '9/14/2020', '10/6/2019', '5/1/1996', '11/1/1995', '8/14/2023', '7/1/1991', '10/7/2009', 'N/A', '7/1/1988', '7/1/1988', '9/14/2020', '10/6/2019', '5/1/1996', '11/1/1995', '8/14/2023', '7/1/1991', '10/7/2009', 'N/A']\n"
     ]
    }
   ],
   "source": [
    "# scrapinf data for year\n",
    "for page in range(0,67):\n",
    "    try:\n",
    "        year=driver.find_elements(By.XPATH,'//table[@class=\"col-span-full my-2 table sm:col-start-2\"]/tbody/tr/td[3]')\n",
    "        for i in year:\n",
    "            Year.append(i.text)\n",
    "    except NoSuchElementException:\n",
    "        Year.append('-')\n",
    "        next_button=driver.find_element(By.XPATH,'/html/body/div/div[1]/div[1]/main/div/div[2]/div[3]/div/button[2]')\n",
    "        next_button.click()\n",
    "    time.sleep(5)\n",
    "print(len(Year),Year)"
   ]
  },
  {
   "cell_type": "code",
   "execution_count": 95,
   "id": "0e6989b0",
   "metadata": {},
   "outputs": [
    {
     "ename": "ValueError",
     "evalue": "All arrays must be of the same length",
     "output_type": "error",
     "traceback": [
      "\u001b[1;31m---------------------------------------------------------------------------\u001b[0m",
      "\u001b[1;31mValueError\u001b[0m                                Traceback (most recent call last)",
      "Cell \u001b[1;32mIn[95], line 1\u001b[0m\n\u001b[1;32m----> 1\u001b[0m df\u001b[38;5;241m=\u001b[39mpd\u001b[38;5;241m.\u001b[39mDataFrame({\u001b[38;5;124m'\u001b[39m\u001b[38;5;124mDataset Name\u001b[39m\u001b[38;5;124m'\u001b[39m:Datas_name,\n\u001b[0;32m      2\u001b[0m                  \u001b[38;5;124m'\u001b[39m\u001b[38;5;124mData Type\u001b[39m\u001b[38;5;124m'\u001b[39m:Data_type,\n\u001b[0;32m      3\u001b[0m                  \u001b[38;5;124m'\u001b[39m\u001b[38;5;124mTask\u001b[39m\u001b[38;5;124m'\u001b[39m:Task,\n\u001b[0;32m      4\u001b[0m                  \u001b[38;5;124m'\u001b[39m\u001b[38;5;124mAttribute Type\u001b[39m\u001b[38;5;124m'\u001b[39m:Attri_type,\n\u001b[0;32m      5\u001b[0m                  \u001b[38;5;124m'\u001b[39m\u001b[38;5;124mNo of Instaces\u001b[39m\u001b[38;5;124m'\u001b[39m:No_of_inst,\n\u001b[0;32m      6\u001b[0m                  \u001b[38;5;124m'\u001b[39m\u001b[38;5;124mNo of Attribute\u001b[39m\u001b[38;5;124m'\u001b[39m:No_of_attri,\n\u001b[0;32m      7\u001b[0m                  \u001b[38;5;124m'\u001b[39m\u001b[38;5;124mYear\u001b[39m\u001b[38;5;124m'\u001b[39m:Year})\n\u001b[0;32m      8\u001b[0m df\n",
      "File \u001b[1;32m~\\coding folders\\Lib\\site-packages\\pandas\\core\\frame.py:709\u001b[0m, in \u001b[0;36mDataFrame.__init__\u001b[1;34m(self, data, index, columns, dtype, copy)\u001b[0m\n\u001b[0;32m    703\u001b[0m     mgr \u001b[38;5;241m=\u001b[39m \u001b[38;5;28mself\u001b[39m\u001b[38;5;241m.\u001b[39m_init_mgr(\n\u001b[0;32m    704\u001b[0m         data, axes\u001b[38;5;241m=\u001b[39m{\u001b[38;5;124m\"\u001b[39m\u001b[38;5;124mindex\u001b[39m\u001b[38;5;124m\"\u001b[39m: index, \u001b[38;5;124m\"\u001b[39m\u001b[38;5;124mcolumns\u001b[39m\u001b[38;5;124m\"\u001b[39m: columns}, dtype\u001b[38;5;241m=\u001b[39mdtype, copy\u001b[38;5;241m=\u001b[39mcopy\n\u001b[0;32m    705\u001b[0m     )\n\u001b[0;32m    707\u001b[0m \u001b[38;5;28;01melif\u001b[39;00m \u001b[38;5;28misinstance\u001b[39m(data, \u001b[38;5;28mdict\u001b[39m):\n\u001b[0;32m    708\u001b[0m     \u001b[38;5;66;03m# GH#38939 de facto copy defaults to False only in non-dict cases\u001b[39;00m\n\u001b[1;32m--> 709\u001b[0m     mgr \u001b[38;5;241m=\u001b[39m dict_to_mgr(data, index, columns, dtype\u001b[38;5;241m=\u001b[39mdtype, copy\u001b[38;5;241m=\u001b[39mcopy, typ\u001b[38;5;241m=\u001b[39mmanager)\n\u001b[0;32m    710\u001b[0m \u001b[38;5;28;01melif\u001b[39;00m \u001b[38;5;28misinstance\u001b[39m(data, ma\u001b[38;5;241m.\u001b[39mMaskedArray):\n\u001b[0;32m    711\u001b[0m     \u001b[38;5;28;01mfrom\u001b[39;00m \u001b[38;5;21;01mnumpy\u001b[39;00m\u001b[38;5;21;01m.\u001b[39;00m\u001b[38;5;21;01mma\u001b[39;00m \u001b[38;5;28;01mimport\u001b[39;00m mrecords\n",
      "File \u001b[1;32m~\\coding folders\\Lib\\site-packages\\pandas\\core\\internals\\construction.py:481\u001b[0m, in \u001b[0;36mdict_to_mgr\u001b[1;34m(data, index, columns, dtype, typ, copy)\u001b[0m\n\u001b[0;32m    477\u001b[0m     \u001b[38;5;28;01melse\u001b[39;00m:\n\u001b[0;32m    478\u001b[0m         \u001b[38;5;66;03m# dtype check to exclude e.g. range objects, scalars\u001b[39;00m\n\u001b[0;32m    479\u001b[0m         arrays \u001b[38;5;241m=\u001b[39m [x\u001b[38;5;241m.\u001b[39mcopy() \u001b[38;5;28;01mif\u001b[39;00m \u001b[38;5;28mhasattr\u001b[39m(x, \u001b[38;5;124m\"\u001b[39m\u001b[38;5;124mdtype\u001b[39m\u001b[38;5;124m\"\u001b[39m) \u001b[38;5;28;01melse\u001b[39;00m x \u001b[38;5;28;01mfor\u001b[39;00m x \u001b[38;5;129;01min\u001b[39;00m arrays]\n\u001b[1;32m--> 481\u001b[0m \u001b[38;5;28;01mreturn\u001b[39;00m arrays_to_mgr(arrays, columns, index, dtype\u001b[38;5;241m=\u001b[39mdtype, typ\u001b[38;5;241m=\u001b[39mtyp, consolidate\u001b[38;5;241m=\u001b[39mcopy)\n",
      "File \u001b[1;32m~\\coding folders\\Lib\\site-packages\\pandas\\core\\internals\\construction.py:115\u001b[0m, in \u001b[0;36marrays_to_mgr\u001b[1;34m(arrays, columns, index, dtype, verify_integrity, typ, consolidate)\u001b[0m\n\u001b[0;32m    112\u001b[0m \u001b[38;5;28;01mif\u001b[39;00m verify_integrity:\n\u001b[0;32m    113\u001b[0m     \u001b[38;5;66;03m# figure out the index, if necessary\u001b[39;00m\n\u001b[0;32m    114\u001b[0m     \u001b[38;5;28;01mif\u001b[39;00m index \u001b[38;5;129;01mis\u001b[39;00m \u001b[38;5;28;01mNone\u001b[39;00m:\n\u001b[1;32m--> 115\u001b[0m         index \u001b[38;5;241m=\u001b[39m _extract_index(arrays)\n\u001b[0;32m    116\u001b[0m     \u001b[38;5;28;01melse\u001b[39;00m:\n\u001b[0;32m    117\u001b[0m         index \u001b[38;5;241m=\u001b[39m ensure_index(index)\n",
      "File \u001b[1;32m~\\coding folders\\Lib\\site-packages\\pandas\\core\\internals\\construction.py:655\u001b[0m, in \u001b[0;36m_extract_index\u001b[1;34m(data)\u001b[0m\n\u001b[0;32m    653\u001b[0m lengths \u001b[38;5;241m=\u001b[39m \u001b[38;5;28mlist\u001b[39m(\u001b[38;5;28mset\u001b[39m(raw_lengths))\n\u001b[0;32m    654\u001b[0m \u001b[38;5;28;01mif\u001b[39;00m \u001b[38;5;28mlen\u001b[39m(lengths) \u001b[38;5;241m>\u001b[39m \u001b[38;5;241m1\u001b[39m:\n\u001b[1;32m--> 655\u001b[0m     \u001b[38;5;28;01mraise\u001b[39;00m \u001b[38;5;167;01mValueError\u001b[39;00m(\u001b[38;5;124m\"\u001b[39m\u001b[38;5;124mAll arrays must be of the same length\u001b[39m\u001b[38;5;124m\"\u001b[39m)\n\u001b[0;32m    657\u001b[0m \u001b[38;5;28;01mif\u001b[39;00m have_dicts:\n\u001b[0;32m    658\u001b[0m     \u001b[38;5;28;01mraise\u001b[39;00m \u001b[38;5;167;01mValueError\u001b[39;00m(\n\u001b[0;32m    659\u001b[0m         \u001b[38;5;124m\"\u001b[39m\u001b[38;5;124mMixing dicts with non-Series may lead to ambiguous ordering.\u001b[39m\u001b[38;5;124m\"\u001b[39m\n\u001b[0;32m    660\u001b[0m     )\n",
      "\u001b[1;31mValueError\u001b[0m: All arrays must be of the same length"
     ]
    }
   ],
   "source": [
    "df=pd.DataFrame({'Dataset Name':Datas_name,\n",
    "                 'Data Type':Data_type,\n",
    "                 'Task':Task,\n",
    "                 'Attribute Type':Attri_type,\n",
    "                 'No of Instaces':No_of_inst,\n",
    "                 'No of Attribute':No_of_attri,\n",
    "                 'Year':Year})\n",
    "df"
   ]
  },
  {
   "cell_type": "code",
   "execution_count": null,
   "id": "bbad7ebf",
   "metadata": {},
   "outputs": [],
   "source": []
  }
 ],
 "metadata": {
  "kernelspec": {
   "display_name": "Python 3 (ipykernel)",
   "language": "python",
   "name": "python3"
  },
  "language_info": {
   "codemirror_mode": {
    "name": "ipython",
    "version": 3
   },
   "file_extension": ".py",
   "mimetype": "text/x-python",
   "name": "python",
   "nbconvert_exporter": "python",
   "pygments_lexer": "ipython3",
   "version": "3.11.5"
  }
 },
 "nbformat": 4,
 "nbformat_minor": 5
}
