{
 "cells": [
  {
   "cell_type": "code",
   "execution_count": 10,
   "id": "f249d382",
   "metadata": {},
   "outputs": [
    {
     "name": "stdout",
     "output_type": "stream",
     "text": [
      "Requirement already satisfied: selenium in c:\\users\\rakhi\\coding folders\\lib\\site-packages (4.19.0)\n",
      "Requirement already satisfied: urllib3[socks]<3,>=1.26 in c:\\users\\rakhi\\coding folders\\lib\\site-packages (from selenium) (1.26.16)\n",
      "Requirement already satisfied: trio~=0.17 in c:\\users\\rakhi\\coding folders\\lib\\site-packages (from selenium) (0.25.0)\n",
      "Requirement already satisfied: trio-websocket~=0.9 in c:\\users\\rakhi\\coding folders\\lib\\site-packages (from selenium) (0.11.1)\n",
      "Requirement already satisfied: certifi>=2021.10.8 in c:\\users\\rakhi\\coding folders\\lib\\site-packages (from selenium) (2023.7.22)\n",
      "Requirement already satisfied: typing_extensions>=4.9.0 in c:\\users\\rakhi\\coding folders\\lib\\site-packages (from selenium) (4.10.0)\n",
      "Requirement already satisfied: attrs>=23.2.0 in c:\\users\\rakhi\\coding folders\\lib\\site-packages (from trio~=0.17->selenium) (23.2.0)\n",
      "Requirement already satisfied: sortedcontainers in c:\\users\\rakhi\\coding folders\\lib\\site-packages (from trio~=0.17->selenium) (2.4.0)\n",
      "Requirement already satisfied: idna in c:\\users\\rakhi\\coding folders\\lib\\site-packages (from trio~=0.17->selenium) (3.4)\n",
      "Requirement already satisfied: outcome in c:\\users\\rakhi\\coding folders\\lib\\site-packages (from trio~=0.17->selenium) (1.3.0.post0)\n",
      "Requirement already satisfied: sniffio>=1.3.0 in c:\\users\\rakhi\\coding folders\\lib\\site-packages (from trio~=0.17->selenium) (1.3.1)\n",
      "Requirement already satisfied: cffi>=1.14 in c:\\users\\rakhi\\coding folders\\lib\\site-packages (from trio~=0.17->selenium) (1.15.1)\n",
      "Requirement already satisfied: wsproto>=0.14 in c:\\users\\rakhi\\coding folders\\lib\\site-packages (from trio-websocket~=0.9->selenium) (1.2.0)\n",
      "Requirement already satisfied: PySocks!=1.5.7,<2.0,>=1.5.6 in c:\\users\\rakhi\\coding folders\\lib\\site-packages (from urllib3[socks]<3,>=1.26->selenium) (1.7.1)\n",
      "Requirement already satisfied: pycparser in c:\\users\\rakhi\\coding folders\\lib\\site-packages (from cffi>=1.14->trio~=0.17->selenium) (2.21)\n",
      "Requirement already satisfied: h11<1,>=0.9.0 in c:\\users\\rakhi\\coding folders\\lib\\site-packages (from wsproto>=0.14->trio-websocket~=0.9->selenium) (0.14.0)\n"
     ]
    }
   ],
   "source": [
    "! pip install selenium"
   ]
  },
  {
   "cell_type": "code",
   "execution_count": 1,
   "id": "0f6c4e88",
   "metadata": {},
   "outputs": [],
   "source": [
    "# Importing Libraries\n",
    "import selenium\n",
    "import pandas as pd\n",
    "import time\n",
    "from bs4 import BeautifulSoup\n",
    "\n",
    "# Importing selenium webdriver\n",
    "from selenium import webdriver\n",
    "\n",
    "# Importing required Exceptions which needs to handle\n",
    "from selenium.common.exceptions import StaleElementReferenceException, NoSuchElementException, SessionNotCreatedException\n",
    "\n",
    "#Importing Request\n",
    "import requests\n",
    "\n",
    "from selenium.webdriver.common.by import By"
   ]
  },
  {
   "cell_type": "raw",
   "id": "972c40eb",
   "metadata": {},
   "source": [
    "Q.1- Write a python program which searches all the product under a particular product from www.amazon.in. The\n",
    "product to be searched will be taken as input from user. For e.g. If user input is ‘guitar’. Then search for\n",
    "guitars. "
   ]
  },
  {
   "cell_type": "code",
   "execution_count": 24,
   "id": "cad4dbda",
   "metadata": {},
   "outputs": [],
   "source": [
    "driver=webdriver.Chrome()\n",
    "driver.get(\"https://www.amazon.in/\")"
   ]
  },
  {
   "cell_type": "code",
   "execution_count": 25,
   "id": "9e9c637a",
   "metadata": {},
   "outputs": [
    {
     "name": "stdout",
     "output_type": "stream",
     "text": [
      "Please enter product here :guitar\n"
     ]
    }
   ],
   "source": [
    "value = input('Please enter product here :')"
   ]
  },
  {
   "cell_type": "code",
   "execution_count": 26,
   "id": "ea5f733d",
   "metadata": {},
   "outputs": [],
   "source": [
    "search_bar=driver.find_element(By.XPATH,\"//input[@type='text']\")\n",
    "search_bar\n",
    "\n",
    "search_bar.send_keys(value)\n",
    "\n",
    "# locating the button and clicking it to search for shoes\n",
    "search_button=driver.find_element(By.XPATH,\"//input[@id='nav-search-submit-button']\")\n",
    "search_button.click()"
   ]
  },
  {
   "cell_type": "raw",
   "id": "42647714",
   "metadata": {},
   "source": [
    "Q.2- In the above question, now scrape the following details of each product listed in first 3 pages of your search\n",
    "results and save it in a data frame and csv. In case if any product has less than 3 pages in search results then\n",
    "scrape all the products available under that product name. Details to be scraped are: \"Brand\n",
    "Name\", \"Name of the Product\", \"Price\", \"Return/Exchange\", \"Expected Delivery\", \"Availability\" and\n",
    "“Product URL”. In case, if any of the details are missing for any of the product then replace it by “-“"
   ]
  },
  {
   "cell_type": "code",
   "execution_count": 27,
   "id": "6cf9b64a",
   "metadata": {},
   "outputs": [
    {
     "ename": "NoSuchElementException",
     "evalue": "Message: no such element: Unable to locate element: {\"method\":\"xpath\",\"selector\":\"//a[@class=\"s-pagination-item s-pagination-next s-pagination-button s-pagination-separator\"]\"}\n  (Session info: chrome=124.0.6367.91); For documentation on this error, please visit: https://www.selenium.dev/documentation/webdriver/troubleshooting/errors#no-such-element-exception\nStacktrace:\n\tGetHandleVerifier [0x00007FF7C9171502+60802]\n\t(No symbol) [0x00007FF7C90EAC02]\n\t(No symbol) [0x00007FF7C8FA7CE4]\n\t(No symbol) [0x00007FF7C8FF6D4D]\n\t(No symbol) [0x00007FF7C8FF6E1C]\n\t(No symbol) [0x00007FF7C903CE37]\n\t(No symbol) [0x00007FF7C901ABBF]\n\t(No symbol) [0x00007FF7C903A224]\n\t(No symbol) [0x00007FF7C901A923]\n\t(No symbol) [0x00007FF7C8FE8FEC]\n\t(No symbol) [0x00007FF7C8FE9C21]\n\tGetHandleVerifier [0x00007FF7C947411D+3217821]\n\tGetHandleVerifier [0x00007FF7C94B60B7+3488055]\n\tGetHandleVerifier [0x00007FF7C94AF03F+3459263]\n\tGetHandleVerifier [0x00007FF7C922B846+823494]\n\t(No symbol) [0x00007FF7C90F5F9F]\n\t(No symbol) [0x00007FF7C90F0EC4]\n\t(No symbol) [0x00007FF7C90F1052]\n\t(No symbol) [0x00007FF7C90E18A4]\n\tBaseThreadInitThunk [0x00007FFEBCAA257D+29]\n\tRtlUserThreadStart [0x00007FFEBDB6AA48+40]\n",
     "output_type": "error",
     "traceback": [
      "\u001b[1;31m---------------------------------------------------------------------------\u001b[0m",
      "\u001b[1;31mNoSuchElementException\u001b[0m                    Traceback (most recent call last)",
      "Cell \u001b[1;32mIn[27], line 11\u001b[0m\n\u001b[0;32m      9\u001b[0m         urls\u001b[38;5;241m.\u001b[39mappend(url_element\u001b[38;5;241m.\u001b[39mget_attribute(\u001b[38;5;124m\"\u001b[39m\u001b[38;5;124mhref\u001b[39m\u001b[38;5;124m\"\u001b[39m))\n\u001b[0;32m     10\u001b[0m \u001b[38;5;66;03m# Click the next button to go to the next page\u001b[39;00m\n\u001b[1;32m---> 11\u001b[0m     next_button \u001b[38;5;241m=\u001b[39m driver\u001b[38;5;241m.\u001b[39mfind_element(By\u001b[38;5;241m.\u001b[39mXPATH,\u001b[38;5;124m'\u001b[39m\u001b[38;5;124m//a[@class=\u001b[39m\u001b[38;5;124m\"\u001b[39m\u001b[38;5;124ms-pagination-item s-pagination-next s-pagination-button s-pagination-separator\u001b[39m\u001b[38;5;124m\"\u001b[39m\u001b[38;5;124m]\u001b[39m\u001b[38;5;124m'\u001b[39m)\n\u001b[0;32m     12\u001b[0m     next_button\u001b[38;5;241m.\u001b[39mclick()\n",
      "File \u001b[1;32m~\\coding folders\\Lib\\site-packages\\selenium\\webdriver\\remote\\webdriver.py:741\u001b[0m, in \u001b[0;36mWebDriver.find_element\u001b[1;34m(self, by, value)\u001b[0m\n\u001b[0;32m    738\u001b[0m     by \u001b[38;5;241m=\u001b[39m By\u001b[38;5;241m.\u001b[39mCSS_SELECTOR\n\u001b[0;32m    739\u001b[0m     value \u001b[38;5;241m=\u001b[39m \u001b[38;5;124mf\u001b[39m\u001b[38;5;124m'\u001b[39m\u001b[38;5;124m[name=\u001b[39m\u001b[38;5;124m\"\u001b[39m\u001b[38;5;132;01m{\u001b[39;00mvalue\u001b[38;5;132;01m}\u001b[39;00m\u001b[38;5;124m\"\u001b[39m\u001b[38;5;124m]\u001b[39m\u001b[38;5;124m'\u001b[39m\n\u001b[1;32m--> 741\u001b[0m \u001b[38;5;28;01mreturn\u001b[39;00m \u001b[38;5;28mself\u001b[39m\u001b[38;5;241m.\u001b[39mexecute(Command\u001b[38;5;241m.\u001b[39mFIND_ELEMENT, {\u001b[38;5;124m\"\u001b[39m\u001b[38;5;124musing\u001b[39m\u001b[38;5;124m\"\u001b[39m: by, \u001b[38;5;124m\"\u001b[39m\u001b[38;5;124mvalue\u001b[39m\u001b[38;5;124m\"\u001b[39m: value})[\u001b[38;5;124m\"\u001b[39m\u001b[38;5;124mvalue\u001b[39m\u001b[38;5;124m\"\u001b[39m]\n",
      "File \u001b[1;32m~\\coding folders\\Lib\\site-packages\\selenium\\webdriver\\remote\\webdriver.py:347\u001b[0m, in \u001b[0;36mWebDriver.execute\u001b[1;34m(self, driver_command, params)\u001b[0m\n\u001b[0;32m    345\u001b[0m response \u001b[38;5;241m=\u001b[39m \u001b[38;5;28mself\u001b[39m\u001b[38;5;241m.\u001b[39mcommand_executor\u001b[38;5;241m.\u001b[39mexecute(driver_command, params)\n\u001b[0;32m    346\u001b[0m \u001b[38;5;28;01mif\u001b[39;00m response:\n\u001b[1;32m--> 347\u001b[0m     \u001b[38;5;28mself\u001b[39m\u001b[38;5;241m.\u001b[39merror_handler\u001b[38;5;241m.\u001b[39mcheck_response(response)\n\u001b[0;32m    348\u001b[0m     response[\u001b[38;5;124m\"\u001b[39m\u001b[38;5;124mvalue\u001b[39m\u001b[38;5;124m\"\u001b[39m] \u001b[38;5;241m=\u001b[39m \u001b[38;5;28mself\u001b[39m\u001b[38;5;241m.\u001b[39m_unwrap_value(response\u001b[38;5;241m.\u001b[39mget(\u001b[38;5;124m\"\u001b[39m\u001b[38;5;124mvalue\u001b[39m\u001b[38;5;124m\"\u001b[39m, \u001b[38;5;28;01mNone\u001b[39;00m))\n\u001b[0;32m    349\u001b[0m     \u001b[38;5;28;01mreturn\u001b[39;00m response\n",
      "File \u001b[1;32m~\\coding folders\\Lib\\site-packages\\selenium\\webdriver\\remote\\errorhandler.py:229\u001b[0m, in \u001b[0;36mErrorHandler.check_response\u001b[1;34m(self, response)\u001b[0m\n\u001b[0;32m    227\u001b[0m         alert_text \u001b[38;5;241m=\u001b[39m value[\u001b[38;5;124m\"\u001b[39m\u001b[38;5;124malert\u001b[39m\u001b[38;5;124m\"\u001b[39m]\u001b[38;5;241m.\u001b[39mget(\u001b[38;5;124m\"\u001b[39m\u001b[38;5;124mtext\u001b[39m\u001b[38;5;124m\"\u001b[39m)\n\u001b[0;32m    228\u001b[0m     \u001b[38;5;28;01mraise\u001b[39;00m exception_class(message, screen, stacktrace, alert_text)  \u001b[38;5;66;03m# type: ignore[call-arg]  # mypy is not smart enough here\u001b[39;00m\n\u001b[1;32m--> 229\u001b[0m \u001b[38;5;28;01mraise\u001b[39;00m exception_class(message, screen, stacktrace)\n",
      "\u001b[1;31mNoSuchElementException\u001b[0m: Message: no such element: Unable to locate element: {\"method\":\"xpath\",\"selector\":\"//a[@class=\"s-pagination-item s-pagination-next s-pagination-button s-pagination-separator\"]\"}\n  (Session info: chrome=124.0.6367.91); For documentation on this error, please visit: https://www.selenium.dev/documentation/webdriver/troubleshooting/errors#no-such-element-exception\nStacktrace:\n\tGetHandleVerifier [0x00007FF7C9171502+60802]\n\t(No symbol) [0x00007FF7C90EAC02]\n\t(No symbol) [0x00007FF7C8FA7CE4]\n\t(No symbol) [0x00007FF7C8FF6D4D]\n\t(No symbol) [0x00007FF7C8FF6E1C]\n\t(No symbol) [0x00007FF7C903CE37]\n\t(No symbol) [0x00007FF7C901ABBF]\n\t(No symbol) [0x00007FF7C903A224]\n\t(No symbol) [0x00007FF7C901A923]\n\t(No symbol) [0x00007FF7C8FE8FEC]\n\t(No symbol) [0x00007FF7C8FE9C21]\n\tGetHandleVerifier [0x00007FF7C947411D+3217821]\n\tGetHandleVerifier [0x00007FF7C94B60B7+3488055]\n\tGetHandleVerifier [0x00007FF7C94AF03F+3459263]\n\tGetHandleVerifier [0x00007FF7C922B846+823494]\n\t(No symbol) [0x00007FF7C90F5F9F]\n\t(No symbol) [0x00007FF7C90F0EC4]\n\t(No symbol) [0x00007FF7C90F1052]\n\t(No symbol) [0x00007FF7C90E18A4]\n\tBaseThreadInitThunk [0x00007FFEBCAA257D+29]\n\tRtlUserThreadStart [0x00007FFEBDB6AA48+40]\n"
     ]
    }
   ],
   "source": [
    "# scrape URLs of the results\n",
    "\n",
    "urls = []\n",
    "for page in range(0, 2):\n",
    "# Find all of the URLs on the current page\n",
    "    url_elements = driver.find_elements(By.XPATH, '//a[@class=\"a-link-normal s-underline-text s-underline-link-text s-link-style a-text-normal\"]')\n",
    "# Append the URLs to the urls list\n",
    "    for url_element in url_elements:\n",
    "        urls.append(url_element.get_attribute(\"href\"))\n",
    "# Click the next button to go to the next page\n",
    "    next_button = driver.find_element(By.XPATH,'//a[@class=\"s-pagination-item s-pagination-next s-pagination-button s-pagination-separator\"]')\n",
    "    next_button.click()"
   ]
  },
  {
   "cell_type": "code",
   "execution_count": 28,
   "id": "ff32ea38",
   "metadata": {},
   "outputs": [
    {
     "data": {
      "text/plain": [
       "24"
      ]
     },
     "execution_count": 28,
     "metadata": {},
     "output_type": "execute_result"
    }
   ],
   "source": [
    "len(product_urls)"
   ]
  },
  {
   "cell_type": "code",
   "execution_count": 29,
   "id": "fdfc9e30",
   "metadata": {},
   "outputs": [],
   "source": [
    "brand=[]\n",
    "prd_name=[]\n",
    "price=[]\n",
    "ret_exch=[]\n",
    "exp_del=[]\n",
    "avail=[]\n",
    "prd_url=[]"
   ]
  },
  {
   "cell_type": "code",
   "execution_count": 30,
   "id": "12209151",
   "metadata": {},
   "outputs": [],
   "source": [
    "for url in product_urls:\n",
    "    driver.get(url)\n",
    "    time.sleep(2)\n",
    "    \n",
    "    try:\n",
    "        Brand=driver.find_element(By.XPATH,'//a[@id=\"bylineInfo\"]')\n",
    "        brand.append(Brand.text)\n",
    "    except NoSuchElementException:\n",
    "        brand.append('-')\n",
    "        \n",
    "    try:\n",
    "        Prd_name=driver.find_element(By.ID,'productTitle')\n",
    "        prd_name.append(Prd_name.text)\n",
    "    except NoSuchElementException:\n",
    "        prd_name.append('-')\n",
    "        \n",
    "    try:\n",
    "        Price=driver.find_element(By.XPATH,'//span[@class=\"a-price-whole\"]')\n",
    "        price.append(Price.text)\n",
    "    except NoSuchElementException:\n",
    "        price.append('-')\n",
    "        \n",
    "    try:\n",
    "        Ret_exch=driver.find_element(By.XPATH,'//a[@class=\"a-size-small a-link-normal a-text-normal\"]')\n",
    "        ret_exch.append(Ret_exch.text)\n",
    "    except NoSuchElementException:\n",
    "        ret_exch.append('-')\n",
    "        \n",
    "    try:\n",
    "        Exp_del=driver.find_element(By.XPATH,'//span[@class=\"a-text-bold\"]')\n",
    "        exp_del.append(Exp_del.text)\n",
    "    except NoSuchElementException:\n",
    "        exp_del.append('-')\n",
    "        \n",
    "    try:\n",
    "        Avail=driver.find_element(By.XPATH,'//div[@id=\"availability\"]')\n",
    "        avail.append(Avail.text)\n",
    "    except NoSuchElementException:\n",
    "        avail.append('-')\n",
    "        "
   ]
  },
  {
   "cell_type": "code",
   "execution_count": 31,
   "id": "6a2959d9",
   "metadata": {},
   "outputs": [],
   "source": [
    "prd_url=product_urls"
   ]
  },
  {
   "cell_type": "code",
   "execution_count": 32,
   "id": "f0fccce6",
   "metadata": {},
   "outputs": [
    {
     "data": {
      "text/plain": [
       "(24, 24, 24, 24, 24, 24, 24)"
      ]
     },
     "execution_count": 32,
     "metadata": {},
     "output_type": "execute_result"
    }
   ],
   "source": [
    "len(brand),len(prd_name),len(price),len(ret_exch),len(exp_del),len(avail),len(prd_url)"
   ]
  },
  {
   "cell_type": "code",
   "execution_count": 33,
   "id": "cc983e0c",
   "metadata": {},
   "outputs": [
    {
     "data": {
      "text/html": [
       "<div>\n",
       "<style scoped>\n",
       "    .dataframe tbody tr th:only-of-type {\n",
       "        vertical-align: middle;\n",
       "    }\n",
       "\n",
       "    .dataframe tbody tr th {\n",
       "        vertical-align: top;\n",
       "    }\n",
       "\n",
       "    .dataframe thead th {\n",
       "        text-align: right;\n",
       "    }\n",
       "</style>\n",
       "<table border=\"1\" class=\"dataframe\">\n",
       "  <thead>\n",
       "    <tr style=\"text-align: right;\">\n",
       "      <th></th>\n",
       "      <th>Brand Name</th>\n",
       "      <th>Product Name</th>\n",
       "      <th>Price</th>\n",
       "      <th>Return/Exchange</th>\n",
       "      <th>Expected Delivery</th>\n",
       "      <th>Availability</th>\n",
       "      <th>Product URL</th>\n",
       "    </tr>\n",
       "  </thead>\n",
       "  <tbody>\n",
       "    <tr>\n",
       "      <th>0</th>\n",
       "      <td>-</td>\n",
       "      <td>-</td>\n",
       "      <td>-</td>\n",
       "      <td>-</td>\n",
       "      <td>-</td>\n",
       "      <td>-</td>\n",
       "      <td>https://www.flipkart.com/oneplus-nord-ce-3-lit...</td>\n",
       "    </tr>\n",
       "    <tr>\n",
       "      <th>1</th>\n",
       "      <td>-</td>\n",
       "      <td>-</td>\n",
       "      <td>-</td>\n",
       "      <td>-</td>\n",
       "      <td>-</td>\n",
       "      <td>-</td>\n",
       "      <td>https://www.flipkart.com/oneplus-nord-ce-3-lit...</td>\n",
       "    </tr>\n",
       "    <tr>\n",
       "      <th>2</th>\n",
       "      <td>-</td>\n",
       "      <td>-</td>\n",
       "      <td>-</td>\n",
       "      <td>-</td>\n",
       "      <td>-</td>\n",
       "      <td>-</td>\n",
       "      <td>https://www.flipkart.com/oneplus-nord-ce-3-lit...</td>\n",
       "    </tr>\n",
       "    <tr>\n",
       "      <th>3</th>\n",
       "      <td>-</td>\n",
       "      <td>-</td>\n",
       "      <td>-</td>\n",
       "      <td>-</td>\n",
       "      <td>-</td>\n",
       "      <td>-</td>\n",
       "      <td>https://www.flipkart.com/oneplus-nord-ce-3-lit...</td>\n",
       "    </tr>\n",
       "    <tr>\n",
       "      <th>4</th>\n",
       "      <td>-</td>\n",
       "      <td>-</td>\n",
       "      <td>-</td>\n",
       "      <td>-</td>\n",
       "      <td>-</td>\n",
       "      <td>-</td>\n",
       "      <td>https://www.flipkart.com/oneplus-nord-ce4-cela...</td>\n",
       "    </tr>\n",
       "    <tr>\n",
       "      <th>5</th>\n",
       "      <td>-</td>\n",
       "      <td>-</td>\n",
       "      <td>-</td>\n",
       "      <td>-</td>\n",
       "      <td>-</td>\n",
       "      <td>-</td>\n",
       "      <td>https://www.flipkart.com/oneplus-nord-ce4-dark...</td>\n",
       "    </tr>\n",
       "    <tr>\n",
       "      <th>6</th>\n",
       "      <td>-</td>\n",
       "      <td>-</td>\n",
       "      <td>-</td>\n",
       "      <td>-</td>\n",
       "      <td>-</td>\n",
       "      <td>-</td>\n",
       "      <td>https://www.flipkart.com/oneplus-nord-ce4-dark...</td>\n",
       "    </tr>\n",
       "    <tr>\n",
       "      <th>7</th>\n",
       "      <td>-</td>\n",
       "      <td>-</td>\n",
       "      <td>-</td>\n",
       "      <td>-</td>\n",
       "      <td>-</td>\n",
       "      <td>-</td>\n",
       "      <td>https://www.flipkart.com/oneplus-nord-ce-2-lit...</td>\n",
       "    </tr>\n",
       "    <tr>\n",
       "      <th>8</th>\n",
       "      <td>-</td>\n",
       "      <td>-</td>\n",
       "      <td>-</td>\n",
       "      <td>-</td>\n",
       "      <td>-</td>\n",
       "      <td>-</td>\n",
       "      <td>https://www.flipkart.com/oneplus-nord-ce4-cela...</td>\n",
       "    </tr>\n",
       "    <tr>\n",
       "      <th>9</th>\n",
       "      <td>-</td>\n",
       "      <td>-</td>\n",
       "      <td>-</td>\n",
       "      <td>-</td>\n",
       "      <td>-</td>\n",
       "      <td>-</td>\n",
       "      <td>https://www.flipkart.com/oneplus-nord-3-5g-tem...</td>\n",
       "    </tr>\n",
       "    <tr>\n",
       "      <th>10</th>\n",
       "      <td>-</td>\n",
       "      <td>-</td>\n",
       "      <td>-</td>\n",
       "      <td>-</td>\n",
       "      <td>-</td>\n",
       "      <td>-</td>\n",
       "      <td>https://www.flipkart.com/oneplus-nord-3-5g-tem...</td>\n",
       "    </tr>\n",
       "    <tr>\n",
       "      <th>11</th>\n",
       "      <td>-</td>\n",
       "      <td>-</td>\n",
       "      <td>-</td>\n",
       "      <td>-</td>\n",
       "      <td>-</td>\n",
       "      <td>-</td>\n",
       "      <td>https://www.flipkart.com/oneplus-nord-3-5g-mis...</td>\n",
       "    </tr>\n",
       "    <tr>\n",
       "      <th>12</th>\n",
       "      <td>-</td>\n",
       "      <td>-</td>\n",
       "      <td>-</td>\n",
       "      <td>-</td>\n",
       "      <td>-</td>\n",
       "      <td>-</td>\n",
       "      <td>https://www.flipkart.com/oneplus-nord-3-5g-mis...</td>\n",
       "    </tr>\n",
       "    <tr>\n",
       "      <th>13</th>\n",
       "      <td>-</td>\n",
       "      <td>-</td>\n",
       "      <td>-</td>\n",
       "      <td>-</td>\n",
       "      <td>-</td>\n",
       "      <td>-</td>\n",
       "      <td>https://www.flipkart.com/oneplus-nord-ce-2-lit...</td>\n",
       "    </tr>\n",
       "    <tr>\n",
       "      <th>14</th>\n",
       "      <td>-</td>\n",
       "      <td>-</td>\n",
       "      <td>-</td>\n",
       "      <td>-</td>\n",
       "      <td>-</td>\n",
       "      <td>-</td>\n",
       "      <td>https://www.flipkart.com/oneplus-nord-2t-5g-gr...</td>\n",
       "    </tr>\n",
       "    <tr>\n",
       "      <th>15</th>\n",
       "      <td>-</td>\n",
       "      <td>-</td>\n",
       "      <td>-</td>\n",
       "      <td>-</td>\n",
       "      <td>-</td>\n",
       "      <td>-</td>\n",
       "      <td>https://www.flipkart.com/oneplus-nord-ce3-5g-a...</td>\n",
       "    </tr>\n",
       "    <tr>\n",
       "      <th>16</th>\n",
       "      <td>-</td>\n",
       "      <td>-</td>\n",
       "      <td>-</td>\n",
       "      <td>-</td>\n",
       "      <td>-</td>\n",
       "      <td>-</td>\n",
       "      <td>https://www.flipkart.com/oneplus-nord-2t-5g-gr...</td>\n",
       "    </tr>\n",
       "    <tr>\n",
       "      <th>17</th>\n",
       "      <td>-</td>\n",
       "      <td>-</td>\n",
       "      <td>-</td>\n",
       "      <td>-</td>\n",
       "      <td>-</td>\n",
       "      <td>-</td>\n",
       "      <td>https://www.flipkart.com/oneplus-nord-2t-5g-ja...</td>\n",
       "    </tr>\n",
       "    <tr>\n",
       "      <th>18</th>\n",
       "      <td>-</td>\n",
       "      <td>-</td>\n",
       "      <td>-</td>\n",
       "      <td>-</td>\n",
       "      <td>-</td>\n",
       "      <td>-</td>\n",
       "      <td>https://www.flipkart.com/oneplus-nord-ce3-5g-g...</td>\n",
       "    </tr>\n",
       "    <tr>\n",
       "      <th>19</th>\n",
       "      <td>-</td>\n",
       "      <td>-</td>\n",
       "      <td>-</td>\n",
       "      <td>-</td>\n",
       "      <td>-</td>\n",
       "      <td>-</td>\n",
       "      <td>https://www.flipkart.com/oneplus-nord-ce3-5g-a...</td>\n",
       "    </tr>\n",
       "    <tr>\n",
       "      <th>20</th>\n",
       "      <td>-</td>\n",
       "      <td>-</td>\n",
       "      <td>-</td>\n",
       "      <td>-</td>\n",
       "      <td>-</td>\n",
       "      <td>-</td>\n",
       "      <td>https://www.flipkart.com/oneplus-nord-2t-5g-ja...</td>\n",
       "    </tr>\n",
       "    <tr>\n",
       "      <th>21</th>\n",
       "      <td>-</td>\n",
       "      <td>-</td>\n",
       "      <td>-</td>\n",
       "      <td>-</td>\n",
       "      <td>-</td>\n",
       "      <td>-</td>\n",
       "      <td>https://www.flipkart.com/oneplus-nord-ce-2-5g-...</td>\n",
       "    </tr>\n",
       "    <tr>\n",
       "      <th>22</th>\n",
       "      <td>-</td>\n",
       "      <td>-</td>\n",
       "      <td>-</td>\n",
       "      <td>-</td>\n",
       "      <td>-</td>\n",
       "      <td>-</td>\n",
       "      <td>https://www.flipkart.com/oneplus-nord-ce-2-5g-...</td>\n",
       "    </tr>\n",
       "    <tr>\n",
       "      <th>23</th>\n",
       "      <td>-</td>\n",
       "      <td>-</td>\n",
       "      <td>-</td>\n",
       "      <td>-</td>\n",
       "      <td>-</td>\n",
       "      <td>-</td>\n",
       "      <td>https://www.flipkart.com/oneplus-nord-ce-2-5g-...</td>\n",
       "    </tr>\n",
       "  </tbody>\n",
       "</table>\n",
       "</div>"
      ],
      "text/plain": [
       "   Brand Name Product Name Price Return/Exchange Expected Delivery  \\\n",
       "0           -            -     -               -                 -   \n",
       "1           -            -     -               -                 -   \n",
       "2           -            -     -               -                 -   \n",
       "3           -            -     -               -                 -   \n",
       "4           -            -     -               -                 -   \n",
       "5           -            -     -               -                 -   \n",
       "6           -            -     -               -                 -   \n",
       "7           -            -     -               -                 -   \n",
       "8           -            -     -               -                 -   \n",
       "9           -            -     -               -                 -   \n",
       "10          -            -     -               -                 -   \n",
       "11          -            -     -               -                 -   \n",
       "12          -            -     -               -                 -   \n",
       "13          -            -     -               -                 -   \n",
       "14          -            -     -               -                 -   \n",
       "15          -            -     -               -                 -   \n",
       "16          -            -     -               -                 -   \n",
       "17          -            -     -               -                 -   \n",
       "18          -            -     -               -                 -   \n",
       "19          -            -     -               -                 -   \n",
       "20          -            -     -               -                 -   \n",
       "21          -            -     -               -                 -   \n",
       "22          -            -     -               -                 -   \n",
       "23          -            -     -               -                 -   \n",
       "\n",
       "   Availability                                        Product URL  \n",
       "0             -  https://www.flipkart.com/oneplus-nord-ce-3-lit...  \n",
       "1             -  https://www.flipkart.com/oneplus-nord-ce-3-lit...  \n",
       "2             -  https://www.flipkart.com/oneplus-nord-ce-3-lit...  \n",
       "3             -  https://www.flipkart.com/oneplus-nord-ce-3-lit...  \n",
       "4             -  https://www.flipkart.com/oneplus-nord-ce4-cela...  \n",
       "5             -  https://www.flipkart.com/oneplus-nord-ce4-dark...  \n",
       "6             -  https://www.flipkart.com/oneplus-nord-ce4-dark...  \n",
       "7             -  https://www.flipkart.com/oneplus-nord-ce-2-lit...  \n",
       "8             -  https://www.flipkart.com/oneplus-nord-ce4-cela...  \n",
       "9             -  https://www.flipkart.com/oneplus-nord-3-5g-tem...  \n",
       "10            -  https://www.flipkart.com/oneplus-nord-3-5g-tem...  \n",
       "11            -  https://www.flipkart.com/oneplus-nord-3-5g-mis...  \n",
       "12            -  https://www.flipkart.com/oneplus-nord-3-5g-mis...  \n",
       "13            -  https://www.flipkart.com/oneplus-nord-ce-2-lit...  \n",
       "14            -  https://www.flipkart.com/oneplus-nord-2t-5g-gr...  \n",
       "15            -  https://www.flipkart.com/oneplus-nord-ce3-5g-a...  \n",
       "16            -  https://www.flipkart.com/oneplus-nord-2t-5g-gr...  \n",
       "17            -  https://www.flipkart.com/oneplus-nord-2t-5g-ja...  \n",
       "18            -  https://www.flipkart.com/oneplus-nord-ce3-5g-g...  \n",
       "19            -  https://www.flipkart.com/oneplus-nord-ce3-5g-a...  \n",
       "20            -  https://www.flipkart.com/oneplus-nord-2t-5g-ja...  \n",
       "21            -  https://www.flipkart.com/oneplus-nord-ce-2-5g-...  \n",
       "22            -  https://www.flipkart.com/oneplus-nord-ce-2-5g-...  \n",
       "23            -  https://www.flipkart.com/oneplus-nord-ce-2-5g-...  "
      ]
     },
     "execution_count": 33,
     "metadata": {},
     "output_type": "execute_result"
    }
   ],
   "source": [
    "# combining all lists in to a single dataframe\n",
    "df=pd.DataFrame({'Brand Name':brand,\n",
    "                 'Product Name':prd_name,\n",
    "                 'Price':price,\n",
    "                 'Return/Exchange':ret_exch,\n",
    "                 'Expected Delivery':exp_del,\n",
    "                 'Availability':avail,\n",
    "                 'Product URL':prd_url})\n",
    "df"
   ]
  },
  {
   "cell_type": "code",
   "execution_count": 34,
   "id": "114fd813",
   "metadata": {},
   "outputs": [],
   "source": [
    "df.to_csv(\"guitars\")"
   ]
  },
  {
   "cell_type": "code",
   "execution_count": null,
   "id": "2cfbf327",
   "metadata": {},
   "outputs": [],
   "source": []
  },
  {
   "cell_type": "raw",
   "id": "1aa3b3e1",
   "metadata": {},
   "source": [
    "Q.3- Write a python program to access the search bar and search button on images.google.com and scrape 10\n",
    "images each for keywords ‘fruits’, ‘cars’ and ‘Machine Learning’, ‘Guitar’, ‘Cakes’."
   ]
  },
  {
   "cell_type": "code",
   "execution_count": 44,
   "id": "2a05b45d",
   "metadata": {},
   "outputs": [],
   "source": [
    "driver=webdriver.Chrome()\n",
    "driver.get(\"http://images.google.com\")"
   ]
  },
  {
   "cell_type": "code",
   "execution_count": 46,
   "id": "1e0a00b4",
   "metadata": {},
   "outputs": [],
   "source": [
    "search_bar = driver.find_element(By.XPATH,'//textarea[@class=\"gLFyf\"]')  \n",
    "search_bar.send_keys(\"fruits\")       \n",
    "search_button = driver.find_element(By.XPATH,'//div[@class=\"zgAlFc\"]')    \n",
    "search_button.click()       "
   ]
  },
  {
   "cell_type": "code",
   "execution_count": 47,
   "id": "8dc289ee",
   "metadata": {},
   "outputs": [
    {
     "data": {
      "text/plain": [
       "69"
      ]
     },
     "execution_count": 47,
     "metadata": {},
     "output_type": "execute_result"
    }
   ],
   "source": [
    "for _ in range(30):\n",
    "    driver.execute_script(\"window.scrollBy(0,500)\")\n",
    "    \n",
    "img_urls=[]\n",
    "images=driver.find_elements(By.XPATH,'//img[@class=\"YQ4gaf\"]')\n",
    "for image in images:\n",
    "    source=image.get_attribute('src')\n",
    "    if source is not None:\n",
    "        if(source[0:4]=='http'):\n",
    "            img_urls.append(source)\n",
    "len(img_urls)"
   ]
  },
  {
   "cell_type": "code",
   "execution_count": 51,
   "id": "07ab5e9b",
   "metadata": {},
   "outputs": [
    {
     "name": "stdout",
     "output_type": "stream",
     "text": [
      "Downloding 0 of 10 images\n",
      "Downloding 1 of 10 images\n",
      "Downloding 2 of 10 images\n",
      "Downloding 3 of 10 images\n",
      "Downloding 4 of 10 images\n",
      "Downloding 5 of 10 images\n",
      "Downloding 6 of 10 images\n",
      "Downloding 7 of 10 images\n",
      "Downloding 8 of 10 images\n",
      "Downloding 9 of 10 images\n",
      "Downloding 10 of 10 images\n"
     ]
    }
   ],
   "source": [
    "for i in range(len(img_urls)):\n",
    "    if i > 10:\n",
    "        break\n",
    "    print(\"Downloding {0} of {1} images\" .format(i,10))\n",
    "    response=requests.get(img_urls[i])\n",
    "    file=open(r\"C:\\Users\\rakhi\\OneDrive\\Desktop\\My folder\\sraping_images\"+str(i)+\".jpg\", \"wb\")\n",
    "    file.write(response.content)"
   ]
  },
  {
   "cell_type": "code",
   "execution_count": null,
   "id": "e8211ffe",
   "metadata": {},
   "outputs": [],
   "source": []
  },
  {
   "cell_type": "raw",
   "id": "22f2e31d",
   "metadata": {},
   "source": [
    "Q.4- Write a python program to search for a smartphone(e.g.: Oneplus Nord, pixel 4A, etc.) on www.flipkart.com\n",
    "and scrape following details for all the search results displayed on 1st page. Details to be scraped: “Brand\n",
    "Name”, “Smartphone name”, “Colour”, “RAM”, “Storage(ROM)”, “Primary Camera”,\n",
    "“Secondary Camera”, “Display Size”, “Battery Capacity”, “Price”, “Product URL”. Incase if any of the\n",
    "details is missing then replace it by “- “. Save your results in a dataframe and CSV."
   ]
  },
  {
   "cell_type": "code",
   "execution_count": 15,
   "id": "c727118d",
   "metadata": {},
   "outputs": [],
   "source": [
    "driver=webdriver.Chrome()\n",
    "driver.get(\"https://www.flipkart.com/\")"
   ]
  },
  {
   "cell_type": "code",
   "execution_count": 16,
   "id": "045f9bb4",
   "metadata": {},
   "outputs": [
    {
     "name": "stdout",
     "output_type": "stream",
     "text": [
      "Plese Enter your product:oneplus nord\n"
     ]
    }
   ],
   "source": [
    "value=input(\"Plese Enter your product:\")"
   ]
  },
  {
   "cell_type": "code",
   "execution_count": 17,
   "id": "af3c9ff6",
   "metadata": {},
   "outputs": [],
   "source": [
    "try:\n",
    "    search_bar=driver.find_element(By.XPATH,'//input[@class=\"Pke_EE\"]')\n",
    "    search_bar\n",
    "\n",
    "    search_bar.send_keys(value)\n",
    "    \n",
    "except ElementNotInteractableException as e:\n",
    "    print(\"Exception Raised:\",e)\n",
    "    search_bar1=driver.find_element(By.XPATH,'//div[@class=\"_2SmNnR\"]')\n",
    "    driver.get(element.get_attribute('href'))\n",
    "\n",
    "# locating the button and clicking it to search for shoes\n",
    "search_button=driver.find_element(By.XPATH,'//button[@class=\"_2iLD__\"]')\n",
    "search_button.click()"
   ]
  },
  {
   "cell_type": "code",
   "execution_count": 18,
   "id": "1ca70283",
   "metadata": {},
   "outputs": [],
   "source": [
    "# scrap all product urls\n",
    "product_urls=[]\n",
    "url=driver.find_elements(By.XPATH,'//a[@class=\"CGtC98\"]')\n",
    "for i in url:\n",
    "    product_urls.append(i.get_attribute(\"href\"))"
   ]
  },
  {
   "cell_type": "code",
   "execution_count": 19,
   "id": "7ed071b0",
   "metadata": {},
   "outputs": [
    {
     "data": {
      "text/plain": [
       "24"
      ]
     },
     "execution_count": 19,
     "metadata": {},
     "output_type": "execute_result"
    }
   ],
   "source": [
    "len(product_urls)"
   ]
  },
  {
   "cell_type": "code",
   "execution_count": 20,
   "id": "880eebb8",
   "metadata": {},
   "outputs": [],
   "source": [
    "brand=[]\n",
    "Smartph_name=[]\n",
    "Colour=[]\n",
    "Ram_Rom=[]\n",
    "Prm_camera=[]\n",
    "Display_size=[]\n",
    "Battery_cap=[]\n",
    "Price=[]\n",
    "Product_url=[]"
   ]
  },
  {
   "cell_type": "code",
   "execution_count": 8,
   "id": "f2f340a1",
   "metadata": {},
   "outputs": [],
   "source": [
    "for url in product_urls:\n",
    "    driver.get(url)\n",
    "    time.sleep(2)\n",
    "    \n",
    "    try:\n",
    "        Brand=driver.find_elements(By.XPATH,'//span[@class=\"B_NuCI\"]')\n",
    "        for i in Brand:\n",
    "            brand.append(i.text)\n",
    "    except NoSuchElementException:\n",
    "        brand.append('-')\n",
    "        \n",
    "    try:\n",
    "        smrt_name=driver.find_elements(By.XPATH,'//div[@class=\"_3k-BhJ\"][1]/table/tbody/tr[3]/td[2]/ul/li')\n",
    "        for i in smrt_name:\n",
    "            Smartph_name.appende(i.text)\n",
    "    except NoSuchElementException:\n",
    "        Smartph_name.append('-')\n",
    "        \n",
    "    try:\n",
    "        col=driver.find_elements(By.XPATH,'//div[@class=\"_3k-BhJ\"][1]/table/tbody/tr[4]/td[2]/ul/li')\n",
    "        for i in col:\n",
    "            Colour.append(i.text)\n",
    "    except NoSuchElementException:\n",
    "        Colour.append('-')\n",
    "        \n",
    "    try:\n",
    "        ram_rom=driver.find_elements(By.XPATH,'//ul[@class=\"G4BRas\"]/li[1]')\n",
    "        for i in ram_rom:\n",
    "            Ram_Rom.append(i.text)\n",
    "    except NoSuchElementException:\n",
    "        Ram_Rom.append('-')\n",
    "        \n",
    "    try:\n",
    "        prm_cam=driver.find_elements(By.XPATH,'//ul[@class=\"G4BRas\"]/li[3]')\n",
    "        for i in prm_cam:\n",
    "            Prm_camera.append(i.text)\n",
    "    except NoSuchElementException:\n",
    "        Prm_camera.append('-')\n",
    "        \n",
    "    try:\n",
    "        dis_siz=driver.find_elements(By.XPATH,'//ul[@class=\"G4BRas\"]/li[2]')\n",
    "        for i in dis_siz:\n",
    "            Display_size.append(i.text)\n",
    "    except NoSuchElementException:\n",
    "        Display_size.append('-')\n",
    "        \n",
    "    try:\n",
    "        batt_cap=driver.find_elements(By.XPATH,'//ul[@class=\"G4BRas\"]/li[4]')\n",
    "        for i in batt_cap:\n",
    "            Battery_cap.append(i.text)\n",
    "    except NoSuchElementException:\n",
    "        Battery_cap.append('-')\n",
    "        \n",
    "    try:\n",
    "        pri=driver.find_elements(By.XPATH,'//div[@class=\"Nx9bqj _4b5DiR\"]')\n",
    "        for i in pri:\n",
    "            Price.append(i.text)\n",
    "    except NoSuchElementException:\n",
    "        Price.append(i.text)"
   ]
  },
  {
   "cell_type": "code",
   "execution_count": 10,
   "id": "5f54a63c",
   "metadata": {},
   "outputs": [],
   "source": [
    "Product_url=product_urls"
   ]
  },
  {
   "cell_type": "code",
   "execution_count": 11,
   "id": "f3385926",
   "metadata": {},
   "outputs": [
    {
     "data": {
      "text/plain": [
       "(0, 24)"
      ]
     },
     "execution_count": 11,
     "metadata": {},
     "output_type": "execute_result"
    }
   ],
   "source": [
    "len(brand),len(Smartph_name),len(Colour),len(Ram_Rom),len(Prm_camera),len(Display_size),len(Battery_cap),\n",
    "len(Price),len(Product_url)"
   ]
  },
  {
   "cell_type": "code",
   "execution_count": 22,
   "id": "9d01aa7b",
   "metadata": {},
   "outputs": [
    {
     "data": {
      "text/html": [
       "<div>\n",
       "<style scoped>\n",
       "    .dataframe tbody tr th:only-of-type {\n",
       "        vertical-align: middle;\n",
       "    }\n",
       "\n",
       "    .dataframe tbody tr th {\n",
       "        vertical-align: top;\n",
       "    }\n",
       "\n",
       "    .dataframe thead th {\n",
       "        text-align: right;\n",
       "    }\n",
       "</style>\n",
       "<table border=\"1\" class=\"dataframe\">\n",
       "  <thead>\n",
       "    <tr style=\"text-align: right;\">\n",
       "      <th></th>\n",
       "      <th>Brand Name</th>\n",
       "      <th>Smartphone Name</th>\n",
       "      <th>Colour</th>\n",
       "      <th>RAM/Rom</th>\n",
       "      <th>Primary Camera</th>\n",
       "      <th>Display Size</th>\n",
       "      <th>Battery Capacity</th>\n",
       "      <th>Price</th>\n",
       "      <th>Product URL</th>\n",
       "    </tr>\n",
       "  </thead>\n",
       "  <tbody>\n",
       "  </tbody>\n",
       "</table>\n",
       "</div>"
      ],
      "text/plain": [
       "Empty DataFrame\n",
       "Columns: [Brand Name, Smartphone Name, Colour, RAM/Rom, Primary Camera, Display Size, Battery Capacity, Price, Product URL]\n",
       "Index: []"
      ]
     },
     "execution_count": 22,
     "metadata": {},
     "output_type": "execute_result"
    }
   ],
   "source": [
    "df=pd.DataFrame({'Brand Name':brand,\n",
    "                 'Smartphone Name':Smartph_name,\n",
    "                 'Colour':Colour,\n",
    "                 'RAM/Rom':Ram_Rom,\n",
    "                 'Primary Camera':Prm_camera,\n",
    "                 'Display Size':Display_size,\n",
    "                 'Battery Capacity':Battery_cap,\n",
    "                 'Price':Price,\n",
    "                 'Product URL':Product_url})\n",
    "df"
   ]
  },
  {
   "cell_type": "code",
   "execution_count": 23,
   "id": "320a7df6",
   "metadata": {},
   "outputs": [],
   "source": [
    "df.to_csv(\"Smartphones.csv\")"
   ]
  },
  {
   "cell_type": "code",
   "execution_count": null,
   "id": "2430f84d",
   "metadata": {},
   "outputs": [],
   "source": []
  },
  {
   "cell_type": "raw",
   "id": "621d8373",
   "metadata": {},
   "source": [
    "Q.5- Write a program to scrap geospatial coordinates (latitude, longitude) of a city searched on google maps. "
   ]
  },
  {
   "cell_type": "code",
   "execution_count": 32,
   "id": "5b293cfe",
   "metadata": {},
   "outputs": [
    {
     "name": "stdout",
     "output_type": "stream",
     "text": [
      "Enter City Name : Lucknow\n",
      "URL Extracted:  https://www.google.co.in/maps/place/Lucknow,+Uttar+Pradesh/@26.8485965,80.7776986,11z/data=!3m1!4b1!4m6!3m5!1s0x399bfd991f32b16b:0x93ccba8909978be7!8m2!3d26.8466937!4d80.946166!16zL20vMDIydHE0?entry=ttu\n",
      "Latitude = 26.8485965, Longitude = 80.7776986\n"
     ]
    }
   ],
   "source": [
    "driver=webdriver.Chrome()\n",
    "driver.get(\"https://www.google.co.in/maps\")\n",
    "time.sleep(3)\n",
    "\n",
    "city = input('Enter City Name : ')                                         # Enter city to be searched\n",
    "search = driver.find_element(By.ID,\"searchboxinput\")                       # locating search bar\n",
    "search.clear()                                                             # clearing search bar\n",
    "time.sleep(2)\n",
    "search.send_keys(city)                                                     # entering values in search bar\n",
    "button = driver.find_element(By.ID,\"searchbox-searchbutton\")               # locating search button\n",
    "button.click()                                                             # clicking search button\n",
    "time.sleep(3)\n",
    "\n",
    "try:\n",
    "    url_string = driver.current_url\n",
    "    print(\"URL Extracted: \", url_string)\n",
    "    lat_lng = re.findall(r'@(.*)data',url_string)\n",
    "    if len(lat_lng):\n",
    "        lat_lng_list = lat_lng[0].split(\",\")\n",
    "        if len(lat_lng_list)>=2:\n",
    "            lat = lat_lng_list[0]\n",
    "            lng = lat_lng_list[1]\n",
    "        print(\"Latitude = {}, Longitude = {}\".format(lat, lng))\n",
    "\n",
    "except Exception as e:\n",
    "        print(\"Error: \", str(e))"
   ]
  },
  {
   "cell_type": "code",
   "execution_count": null,
   "id": "c259c9d2",
   "metadata": {},
   "outputs": [],
   "source": []
  },
  {
   "cell_type": "raw",
   "id": "a425ec4a",
   "metadata": {},
   "source": [
    "Q.6- Write a program to scrap all the available details of best AI gaming laptops from digit.in. "
   ]
  },
  {
   "cell_type": "code",
   "execution_count": 12,
   "id": "4efd0223",
   "metadata": {},
   "outputs": [],
   "source": [
    "# Set up the driver\n",
    "driver = webdriver.Chrome()\n",
    "driver.get(\"https://www.digit.in/\")"
   ]
  },
  {
   "cell_type": "code",
   "execution_count": 21,
   "id": "7f30e0b4",
   "metadata": {},
   "outputs": [],
   "source": [
    "#clicking on top 10 option \n",
    "top_10=driver.find_element(By.XPATH,\"/html/body/div[4]/div/ul/li[4]/a\")\n",
    "top_10.click()\n",
    "\n",
    "time.sleep(3)\n",
    "\n",
    "#clicking on best AI gaming laptops option\n",
    "laptops=driver.find_element(By.XPATH,\"/html/body/div[1]/div[3]/div/div[2]/div[1]/div[3]/div[11]/p/a\")\n",
    "laptops.click()"
   ]
  },
  {
   "cell_type": "code",
   "execution_count": 22,
   "id": "7a801768",
   "metadata": {},
   "outputs": [],
   "source": [
    "Name=[]\n",
    "Oper_Sys=[]\n",
    "Disp_size=[]\n",
    "Proce=[]"
   ]
  },
  {
   "cell_type": "code",
   "execution_count": 23,
   "id": "56da49f9",
   "metadata": {},
   "outputs": [],
   "source": [
    "try:\n",
    "    names=driver.find_elements(By.XPATH,'//h3[@class=\"font130 mt0 mb10 mobilesblockdisplay \"]')\n",
    "    for i in names:\n",
    "        Name.append(i.text)\n",
    "except NoSuchElementException:\n",
    "    Name.append('-')\n",
    "    \n",
    "try:\n",
    "    oper_sys=driver.find_elements(By.XPATH,'//div[@class=\"woo_code_loop_item font90\"]/div[1]/span[2]')\n",
    "    for i in oper_sys:\n",
    "            Oper_Sys.append(i.text)\n",
    "except NoSuchElementException:\n",
    "    Oper_Sys.append('-')\n",
    "    \n",
    "try:\n",
    "    dis_siz=driver.find_elements(By.XPATH,'//span[@class=\"meta_v_value\"]')\n",
    "    for i in dis_siz:\n",
    "        Disp_size.append(i.text)\n",
    "except NoSuchElementException:\n",
    "    Disp_size.append('-')\n",
    "    \n",
    "try:\n",
    "    proc=driver.find_elements(By.XPATH,'//span[@class=\"meta_v_value\"]')\n",
    "    for i in proc:\n",
    "        Proce.append(i.text)\n",
    "except NoSuchElementException:\n",
    "    Proce.append('-')"
   ]
  },
  {
   "cell_type": "code",
   "execution_count": 24,
   "id": "fa3cd471",
   "metadata": {},
   "outputs": [
    {
     "data": {
      "text/plain": [
       "(7, 21, 21, 21)"
      ]
     },
     "execution_count": 24,
     "metadata": {},
     "output_type": "execute_result"
    }
   ],
   "source": [
    "len(Name),len(Oper_Sys),len(Disp_size),len(Proce)"
   ]
  },
  {
   "cell_type": "code",
   "execution_count": 25,
   "id": "dc76896b",
   "metadata": {},
   "outputs": [
    {
     "name": "stdout",
     "output_type": "stream",
     "text": [
      "['Asus ROG Zephyrus G14 GA402XZ-N2019WS', 'MSI Pulse 17 AI C1VGKG', 'Acer Nitro 16 AN16-41 | Ryzen 7 7840HS | RTX 4060 | 16GB', 'MSI Bravo 15 C7VFKP', 'ASUS TUF Gaming A16 Advantage Edition (2023) FA617XS', 'HP OMEN Gaming Laptop 16 XD0007ax', 'Dell New G15 5535']\n"
     ]
    }
   ],
   "source": [
    "print(Name)"
   ]
  },
  {
   "cell_type": "code",
   "execution_count": 26,
   "id": "9abcb148",
   "metadata": {},
   "outputs": [
    {
     "name": "stdout",
     "output_type": "stream",
     "text": [
      "['Windows 11 Home', '14', '7th Gen, AMD Ryzen 9 7940HS', 'Windows 11 Home', '17', 'Intel Core Ultra 9', 'Windows 11 Home', '16', 'AMD Ryzen 7-7840HS', 'Windows 11 Home', '15.6', 'AMD Ryzen 7-7000HS', 'Windows 11 Home', '16', 'AMD Ryzen 9-7940HS', 'Windows 11 Home', '16.1', 'AMD Ryzen 7-7840HS', 'Windows 11 Home', '15.6', 'AMD Ryzen 5-7640HS'] ['Windows 11 Home', '14', '7th Gen, AMD Ryzen 9 7940HS', 'Windows 11 Home', '17', 'Intel Core Ultra 9', 'Windows 11 Home', '16', 'AMD Ryzen 7-7840HS', 'Windows 11 Home', '15.6', 'AMD Ryzen 7-7000HS', 'Windows 11 Home', '16', 'AMD Ryzen 9-7940HS', 'Windows 11 Home', '16.1', 'AMD Ryzen 7-7840HS', 'Windows 11 Home', '15.6', 'AMD Ryzen 5-7640HS'] ['Windows 11 Home', '14', '7th Gen, AMD Ryzen 9 7940HS', 'Windows 11 Home', '17', 'Intel Core Ultra 9', 'Windows 11 Home', '16', 'AMD Ryzen 7-7840HS', 'Windows 11 Home', '15.6', 'AMD Ryzen 7-7000HS', 'Windows 11 Home', '16', 'AMD Ryzen 9-7940HS', 'Windows 11 Home', '16.1', 'AMD Ryzen 7-7840HS', 'Windows 11 Home', '15.6', 'AMD Ryzen 5-7640HS']\n"
     ]
    }
   ],
   "source": [
    "print(Oper_Sys,Disp_size,Proce)"
   ]
  },
  {
   "cell_type": "code",
   "execution_count": null,
   "id": "9971c15c",
   "metadata": {},
   "outputs": [],
   "source": []
  },
  {
   "cell_type": "code",
   "execution_count": null,
   "id": "a4c85b8a",
   "metadata": {},
   "outputs": [],
   "source": []
  },
  {
   "cell_type": "raw",
   "id": "cc362ef4",
   "metadata": {},
   "source": [
    "Q.7- Write a python program to scrape the details for all billionaires from www.forbes.com. Details to be scrapped:\n",
    "“Rank”, “Name”, “Net worth”, “Age”, “Citizenship”, “Source”, “Industry”."
   ]
  },
  {
   "cell_type": "code",
   "execution_count": 73,
   "id": "dfb89485",
   "metadata": {},
   "outputs": [],
   "source": [
    "driver=webdriver.Chrome()\n",
    "driver.get(\"https://www.forbes.com\")\n",
    "\n",
    "find_button=driver.find_element(By.XPATH,'//div[@class=\"_69hVhdY4\"]')\n",
    "find_button.click()\n",
    "\n",
    "go_to=driver.find_element(By.XPATH,'//div[@class=\"mpBfVZz3\"]')\n",
    "go_to.click()\n",
    "\n",
    "go_to_billion=driver.find_element(By.XPATH,'//li[@class=\"TjJgrPSg _2bNo56RE secondary\"]')\n",
    "go_to_billion.click()"
   ]
  },
  {
   "cell_type": "code",
   "execution_count": 74,
   "id": "37332dca",
   "metadata": {},
   "outputs": [],
   "source": [
    "Rank=[]\n",
    "Name=[]\n",
    "Net_wor=[]\n",
    "Age=[]\n",
    "Citiz=[]\n",
    "Sourc=[]\n",
    "Indus=[]"
   ]
  },
  {
   "cell_type": "code",
   "execution_count": 75,
   "id": "221fca1a",
   "metadata": {},
   "outputs": [],
   "source": [
    "# scrapping Rank\n",
    "ranks=driver.find_elements(By.XPATH,'//div[@class=\"Table_rank__X4MKf\"]/div')\n",
    "for i in ranks:\n",
    "    Rank.append(i.text)\n",
    "\n",
    "# scrapping name of the billionaires\n",
    "name=driver.find_elements(By.XPATH,'//div[@class=\"Table_personName__Bus2E\"]')\n",
    "for i in name:\n",
    "    Name.append(i.text)\n",
    "\n",
    "# scrapping Net Worth\n",
    "net_w=driver.find_elements(By.XPATH,'//div[@class=\"Table_finalWorth__UZA6k\"]')\n",
    "for i in net_w:\n",
    "    Net_wor.append(i.text)\n",
    "\n",
    "# scrapping Age\n",
    "age=driver.find_elements(By.XPATH,'//div[@class=\"Table_tableRow__lF_cY\"]/div[4]')\n",
    "for i in age:\n",
    "    Age.append(i.text)\n",
    "    \n",
    "# scrapping Citizenship\n",
    "citizn=driver.find_elements(By.XPATH,'//div[@class=\"Table_tableRow__lF_cY\"]/div[5]')\n",
    "for i in citizn:\n",
    "    Citiz.append(i.text)\n",
    "    \n",
    "# scrapping Source\n",
    "sour=driver.find_elements(By.XPATH,'//div[@class=\"Table_tableRow__lF_cY\"]/div[6]')\n",
    "for i in sour:\n",
    "    Sourc.append(i.text)\n",
    "    \n",
    "# scrapping Industry\n",
    "try:\n",
    "    inds=driver.find_elements(By.XPATH,'//div[@class=\"Table_tableRow__lF_cY\"]/div[7]')\n",
    "    for i in inds:\n",
    "        Indus.append(i.text)\n",
    "except NoSuchElementException:\n",
    "    Indus.append('-')\n"
   ]
  },
  {
   "cell_type": "code",
   "execution_count": 76,
   "id": "89bf75f7",
   "metadata": {},
   "outputs": [
    {
     "data": {
      "text/plain": [
       "(200, 200, 200, 200, 200, 200, 200)"
      ]
     },
     "execution_count": 76,
     "metadata": {},
     "output_type": "execute_result"
    }
   ],
   "source": [
    "len(Rank),len(Name),len(Net_wor),len(Age),len(Citiz),len(Sourc),len(Indus)"
   ]
  },
  {
   "cell_type": "code",
   "execution_count": 77,
   "id": "753a1569",
   "metadata": {},
   "outputs": [
    {
     "data": {
      "text/html": [
       "<div>\n",
       "<style scoped>\n",
       "    .dataframe tbody tr th:only-of-type {\n",
       "        vertical-align: middle;\n",
       "    }\n",
       "\n",
       "    .dataframe tbody tr th {\n",
       "        vertical-align: top;\n",
       "    }\n",
       "\n",
       "    .dataframe thead th {\n",
       "        text-align: right;\n",
       "    }\n",
       "</style>\n",
       "<table border=\"1\" class=\"dataframe\">\n",
       "  <thead>\n",
       "    <tr style=\"text-align: right;\">\n",
       "      <th></th>\n",
       "      <th>Rank</th>\n",
       "      <th>Name</th>\n",
       "      <th>Net Worth</th>\n",
       "      <th>Age</th>\n",
       "      <th>Citizenship</th>\n",
       "      <th>Source</th>\n",
       "      <th>Industry</th>\n",
       "    </tr>\n",
       "  </thead>\n",
       "  <tbody>\n",
       "    <tr>\n",
       "      <th>0</th>\n",
       "      <td>1.</td>\n",
       "      <td>Bernard Arnault &amp; family</td>\n",
       "      <td>$233 B</td>\n",
       "      <td>75</td>\n",
       "      <td>France</td>\n",
       "      <td>LVMH</td>\n",
       "      <td>Fashion &amp; Retail</td>\n",
       "    </tr>\n",
       "    <tr>\n",
       "      <th>1</th>\n",
       "      <td>2.</td>\n",
       "      <td>Elon Musk</td>\n",
       "      <td>$195 B</td>\n",
       "      <td>52</td>\n",
       "      <td>United States</td>\n",
       "      <td>Tesla, SpaceX</td>\n",
       "      <td>Automotive</td>\n",
       "    </tr>\n",
       "    <tr>\n",
       "      <th>2</th>\n",
       "      <td>3.</td>\n",
       "      <td>Jeff Bezos</td>\n",
       "      <td>$194 B</td>\n",
       "      <td>60</td>\n",
       "      <td>United States</td>\n",
       "      <td>Amazon</td>\n",
       "      <td>Technology</td>\n",
       "    </tr>\n",
       "    <tr>\n",
       "      <th>3</th>\n",
       "      <td>4.</td>\n",
       "      <td>Mark Zuckerberg</td>\n",
       "      <td>$177 B</td>\n",
       "      <td>39</td>\n",
       "      <td>United States</td>\n",
       "      <td>Facebook</td>\n",
       "      <td>Technology</td>\n",
       "    </tr>\n",
       "    <tr>\n",
       "      <th>4</th>\n",
       "      <td>5.</td>\n",
       "      <td>Larry Ellison</td>\n",
       "      <td>$141 B</td>\n",
       "      <td>79</td>\n",
       "      <td>United States</td>\n",
       "      <td>Oracle</td>\n",
       "      <td>Technology</td>\n",
       "    </tr>\n",
       "    <tr>\n",
       "      <th>...</th>\n",
       "      <td>...</td>\n",
       "      <td>...</td>\n",
       "      <td>...</td>\n",
       "      <td>...</td>\n",
       "      <td>...</td>\n",
       "      <td>...</td>\n",
       "      <td>...</td>\n",
       "    </tr>\n",
       "    <tr>\n",
       "      <th>195</th>\n",
       "      <td>195.</td>\n",
       "      <td>Lei Jun</td>\n",
       "      <td>$10.9 B</td>\n",
       "      <td>54</td>\n",
       "      <td>China</td>\n",
       "      <td>Smartphones</td>\n",
       "      <td>Technology</td>\n",
       "    </tr>\n",
       "    <tr>\n",
       "      <th>196</th>\n",
       "      <td>195.</td>\n",
       "      <td>Georg Schaeffler</td>\n",
       "      <td>$10.9 B</td>\n",
       "      <td>59</td>\n",
       "      <td>Germany</td>\n",
       "      <td>Auto parts</td>\n",
       "      <td>Automotive</td>\n",
       "    </tr>\n",
       "    <tr>\n",
       "      <th>197</th>\n",
       "      <td>195.</td>\n",
       "      <td>Marcel Herrmann Telles &amp; family</td>\n",
       "      <td>$10.9 B</td>\n",
       "      <td>74</td>\n",
       "      <td>Brazil</td>\n",
       "      <td>Beer</td>\n",
       "      <td>Food &amp; Beverage</td>\n",
       "    </tr>\n",
       "    <tr>\n",
       "      <th>198</th>\n",
       "      <td>199.</td>\n",
       "      <td>David Velez &amp; family</td>\n",
       "      <td>$10.8 B</td>\n",
       "      <td>42</td>\n",
       "      <td>Colombia</td>\n",
       "      <td>Fintech</td>\n",
       "      <td>Finance &amp; Investments</td>\n",
       "    </tr>\n",
       "    <tr>\n",
       "      <th>199</th>\n",
       "      <td>200.</td>\n",
       "      <td>Suleiman Kerimov &amp; family</td>\n",
       "      <td>$10.7 B</td>\n",
       "      <td>58</td>\n",
       "      <td>Russia</td>\n",
       "      <td>Gold</td>\n",
       "      <td>Finance &amp; Investments</td>\n",
       "    </tr>\n",
       "  </tbody>\n",
       "</table>\n",
       "<p>200 rows × 7 columns</p>\n",
       "</div>"
      ],
      "text/plain": [
       "     Rank                             Name Net Worth Age    Citizenship  \\\n",
       "0      1.         Bernard Arnault & family    $233 B  75         France   \n",
       "1      2.                        Elon Musk    $195 B  52  United States   \n",
       "2      3.                       Jeff Bezos    $194 B  60  United States   \n",
       "3      4.                  Mark Zuckerberg    $177 B  39  United States   \n",
       "4      5.                    Larry Ellison    $141 B  79  United States   \n",
       "..    ...                              ...       ...  ..            ...   \n",
       "195  195.                          Lei Jun   $10.9 B  54          China   \n",
       "196  195.                 Georg Schaeffler   $10.9 B  59        Germany   \n",
       "197  195.  Marcel Herrmann Telles & family   $10.9 B  74         Brazil   \n",
       "198  199.             David Velez & family   $10.8 B  42       Colombia   \n",
       "199  200.        Suleiman Kerimov & family   $10.7 B  58         Russia   \n",
       "\n",
       "            Source               Industry  \n",
       "0             LVMH       Fashion & Retail  \n",
       "1    Tesla, SpaceX             Automotive  \n",
       "2           Amazon             Technology  \n",
       "3         Facebook             Technology  \n",
       "4           Oracle             Technology  \n",
       "..             ...                    ...  \n",
       "195    Smartphones             Technology  \n",
       "196     Auto parts             Automotive  \n",
       "197           Beer        Food & Beverage  \n",
       "198        Fintech  Finance & Investments  \n",
       "199           Gold  Finance & Investments  \n",
       "\n",
       "[200 rows x 7 columns]"
      ]
     },
     "execution_count": 77,
     "metadata": {},
     "output_type": "execute_result"
    }
   ],
   "source": [
    "# creating a dataframe\n",
    "df=pd.DataFrame({'Rank':Rank,\n",
    "                 'Name':Name,\n",
    "                 'Net Worth':Net_wor,\n",
    "                 'Age':Age,\n",
    "                 'Citizenship':Citiz,\n",
    "                 'Source':Sourc,\n",
    "                 'Industry':Indus})\n",
    "df"
   ]
  },
  {
   "cell_type": "code",
   "execution_count": null,
   "id": "8fec80c8",
   "metadata": {},
   "outputs": [],
   "source": []
  },
  {
   "cell_type": "code",
   "execution_count": null,
   "id": "c5f9bd62",
   "metadata": {},
   "outputs": [],
   "source": []
  },
  {
   "cell_type": "raw",
   "id": "0e14c4ca",
   "metadata": {},
   "source": [
    "Q.8- Write a program to extract at least 500 Comments, Comment upvote and time when comment was posted \n",
    "from any YouTube Video. "
   ]
  },
  {
   "cell_type": "code",
   "execution_count": 106,
   "id": "77b4d143",
   "metadata": {},
   "outputs": [],
   "source": [
    "driver = webdriver.Chrome()\n",
    "driver.get(\"https://www.youtube.com/\")"
   ]
  },
  {
   "cell_type": "code",
   "execution_count": 109,
   "id": "681eee37",
   "metadata": {},
   "outputs": [],
   "source": [
    "#finding element for search bar\n",
    "search_bar = driver.find_element(By.XPATH,'/html/body/ytd-app/div[1]/div/ytd-masthead/div[4]/div[2]/ytd-searchbox/form/div[1]/div[1]/input')\n",
    "search_bar.send_keys(\"uptown funk\") \n",
    "\n",
    "#clicking on search button\n",
    "search_btn = driver.find_element(By.ID,\"search-icon-legacy\")  \n",
    "search_btn.click()\n",
    "\n",
    "#clicking on first video\n",
    "link_click = driver.find_element(By.XPATH,\"//a[@class='yt-simple-endpoint style-scope ytd-video-renderer']\")\n",
    "link_click.click()"
   ]
  },
  {
   "cell_type": "code",
   "execution_count": 110,
   "id": "51a3dae5",
   "metadata": {},
   "outputs": [],
   "source": [
    "# scroll to load comments\n",
    "for _ in range(1000):\n",
    "    driver.execute_script(\"window.scrollBy(0,5000)\")"
   ]
  },
  {
   "cell_type": "code",
   "execution_count": 111,
   "id": "69540f0a",
   "metadata": {},
   "outputs": [],
   "source": [
    "#create lists\n",
    "comment = []\n",
    "comment_time = []\n",
    "up_vote = []"
   ]
  },
  {
   "cell_type": "code",
   "execution_count": 112,
   "id": "93978136",
   "metadata": {},
   "outputs": [],
   "source": [
    "#scrape comments\n",
    "try:\n",
    "    comm_ = driver.find_elements(By.ID,\"content-text\")\n",
    "    for i in comm_:\n",
    "        comment.append(i.text)\n",
    "except NoSuchElementException:\n",
    "    comment.append('-')\n",
    "\n",
    "# scrape time when comment was posted\n",
    "try:\n",
    "    time = driver.find_elements(By.XPATH,'//a[contains(text(),\"ago\")]')\n",
    "    for i in time:\n",
    "        comment_time.append(i.text)\n",
    "except NoSuchElementException:\n",
    "    comment_time.append('-')\n",
    "    \n",
    "# scrape the comment likes\n",
    "try:\n",
    "    up_v = driver.find_elements(By.XPATH,'//span[@class=\"style-scope ytd-comment-engagement-bar\"]')\n",
    "    for i in up_v:\n",
    "        up_vote.append(i.text)\n",
    "except NoSuchElementException:\n",
    "    up_vote.append('-')\n"
   ]
  },
  {
   "cell_type": "code",
   "execution_count": 113,
   "id": "1f8abea8",
   "metadata": {},
   "outputs": [
    {
     "data": {
      "text/plain": [
       "(1140, 1140, 1140)"
      ]
     },
     "execution_count": 113,
     "metadata": {},
     "output_type": "execute_result"
    }
   ],
   "source": [
    "len(comment),len(comment_time),len(up_vote)"
   ]
  },
  {
   "cell_type": "code",
   "execution_count": 114,
   "id": "42968faf",
   "metadata": {},
   "outputs": [
    {
     "data": {
      "text/html": [
       "<div>\n",
       "<style scoped>\n",
       "    .dataframe tbody tr th:only-of-type {\n",
       "        vertical-align: middle;\n",
       "    }\n",
       "\n",
       "    .dataframe tbody tr th {\n",
       "        vertical-align: top;\n",
       "    }\n",
       "\n",
       "    .dataframe thead th {\n",
       "        text-align: right;\n",
       "    }\n",
       "</style>\n",
       "<table border=\"1\" class=\"dataframe\">\n",
       "  <thead>\n",
       "    <tr style=\"text-align: right;\">\n",
       "      <th></th>\n",
       "      <th>Comment</th>\n",
       "      <th>Comment Time</th>\n",
       "      <th>Up Vote</th>\n",
       "    </tr>\n",
       "  </thead>\n",
       "  <tbody>\n",
       "    <tr>\n",
       "      <th>0</th>\n",
       "      <td>ft. Bruno Mars? -  haha funny.</td>\n",
       "      <td>8 years ago</td>\n",
       "      <td>560</td>\n",
       "    </tr>\n",
       "    <tr>\n",
       "      <th>1</th>\n",
       "      <td>This song never gets old, a timeless classic t...</td>\n",
       "      <td>2 weeks ago</td>\n",
       "      <td>400</td>\n",
       "    </tr>\n",
       "    <tr>\n",
       "      <th>2</th>\n",
       "      <td>Who's here in April 2024??</td>\n",
       "      <td>2 weeks ago</td>\n",
       "      <td>4.3K</td>\n",
       "    </tr>\n",
       "    <tr>\n",
       "      <th>3</th>\n",
       "      <td>Its April 2024, let's see how many legends are...</td>\n",
       "      <td>3 weeks ago</td>\n",
       "      <td>132</td>\n",
       "    </tr>\n",
       "    <tr>\n",
       "      <th>4</th>\n",
       "      <td>moral of the story, Bruno looks great in pink.</td>\n",
       "      <td>8 years ago</td>\n",
       "      <td>1.2K</td>\n",
       "    </tr>\n",
       "    <tr>\n",
       "      <th>...</th>\n",
       "      <td>...</td>\n",
       "      <td>...</td>\n",
       "      <td>...</td>\n",
       "    </tr>\n",
       "    <tr>\n",
       "      <th>495</th>\n",
       "      <td>38 percent still</td>\n",
       "      <td>12 days ago</td>\n",
       "      <td>1</td>\n",
       "    </tr>\n",
       "    <tr>\n",
       "      <th>496</th>\n",
       "      <td>1. My friend said he doesn't like this song \\n...</td>\n",
       "      <td>5 years ago (edited)</td>\n",
       "      <td>309</td>\n",
       "    </tr>\n",
       "    <tr>\n",
       "      <th>497</th>\n",
       "      <td>Bullshit:\\nFancy- iggy izalea\\nAnaconda- nicki...</td>\n",
       "      <td>9 years ago</td>\n",
       "      <td>327</td>\n",
       "    </tr>\n",
       "    <tr>\n",
       "      <th>498</th>\n",
       "      <td>April 2024 anyone?</td>\n",
       "      <td>2 weeks ago</td>\n",
       "      <td>1</td>\n",
       "    </tr>\n",
       "    <tr>\n",
       "      <th>499</th>\n",
       "      <td>let's gooooooo</td>\n",
       "      <td>2 weeks ago (edited)</td>\n",
       "      <td>1</td>\n",
       "    </tr>\n",
       "  </tbody>\n",
       "</table>\n",
       "<p>500 rows × 3 columns</p>\n",
       "</div>"
      ],
      "text/plain": [
       "                                               Comment          Comment Time  \\\n",
       "0                       ft. Bruno Mars? -  haha funny.           8 years ago   \n",
       "1    This song never gets old, a timeless classic t...           2 weeks ago   \n",
       "2                           Who's here in April 2024??           2 weeks ago   \n",
       "3    Its April 2024, let's see how many legends are...           3 weeks ago   \n",
       "4       moral of the story, Bruno looks great in pink.           8 years ago   \n",
       "..                                                 ...                   ...   \n",
       "495                                   38 percent still           12 days ago   \n",
       "496  1. My friend said he doesn't like this song \\n...  5 years ago (edited)   \n",
       "497  Bullshit:\\nFancy- iggy izalea\\nAnaconda- nicki...           9 years ago   \n",
       "498                                 April 2024 anyone?           2 weeks ago   \n",
       "499                                     let's gooooooo  2 weeks ago (edited)   \n",
       "\n",
       "    Up Vote  \n",
       "0       560  \n",
       "1       400  \n",
       "2      4.3K  \n",
       "3       132  \n",
       "4      1.2K  \n",
       "..      ...  \n",
       "495       1  \n",
       "496     309  \n",
       "497     327  \n",
       "498       1  \n",
       "499       1  \n",
       "\n",
       "[500 rows x 3 columns]"
      ]
     },
     "execution_count": 114,
     "metadata": {},
     "output_type": "execute_result"
    }
   ],
   "source": [
    "#create DataFrame\n",
    "df = pd.DataFrame({'Comment':comment[0:500],\n",
    "                'Comment Time':comment_time[0:500],\n",
    "                'Up Vote':up_vote[0:500]})\n",
    "df"
   ]
  },
  {
   "cell_type": "code",
   "execution_count": null,
   "id": "0ac997e1",
   "metadata": {},
   "outputs": [],
   "source": []
  },
  {
   "cell_type": "raw",
   "id": "68da4806",
   "metadata": {},
   "source": [
    "Q.9- Write a python program to scrape a data for all available Hostels from https://www.hostelworld.com/ in \n",
    "“London” location. You have to scrape hostel name, distance from city centre, ratings, total reviews, overall \n",
    "reviews, privates from price, dorms from price, facilities and property description."
   ]
  },
  {
   "cell_type": "code",
   "execution_count": 10,
   "id": "ba8ddacb",
   "metadata": {},
   "outputs": [],
   "source": [
    "driver=webdriver.Chrome()\n",
    "driver.get(\"https://www.hostelworld.com/\")"
   ]
  },
  {
   "cell_type": "code",
   "execution_count": 13,
   "id": "20331636",
   "metadata": {},
   "outputs": [
    {
     "ename": "NoSuchElementException",
     "evalue": "Message: no such element: Unable to locate element: {\"method\":\"xpath\",\"selector\":\"/html/body/div[3]/div/div[2]/main/header/nav/div[3]/div[2]/div[1]/div[2]/div/ul/li[1]/div/div/ul/li[1]/a/div\"}\n  (Session info: chrome=124.0.6367.78); For documentation on this error, please visit: https://www.selenium.dev/documentation/webdriver/troubleshooting/errors#no-such-element-exception\nStacktrace:\n\tGetHandleVerifier [0x00007FF792D31502+60802]\n\t(No symbol) [0x00007FF792CAAC02]\n\t(No symbol) [0x00007FF792B67CE4]\n\t(No symbol) [0x00007FF792BB6D4D]\n\t(No symbol) [0x00007FF792BB6E1C]\n\t(No symbol) [0x00007FF792BFCE37]\n\t(No symbol) [0x00007FF792BDABBF]\n\t(No symbol) [0x00007FF792BFA224]\n\t(No symbol) [0x00007FF792BDA923]\n\t(No symbol) [0x00007FF792BA8FEC]\n\t(No symbol) [0x00007FF792BA9C21]\n\tGetHandleVerifier [0x00007FF79303411D+3217821]\n\tGetHandleVerifier [0x00007FF7930760B7+3488055]\n\tGetHandleVerifier [0x00007FF79306F03F+3459263]\n\tGetHandleVerifier [0x00007FF792DEB846+823494]\n\t(No symbol) [0x00007FF792CB5F9F]\n\t(No symbol) [0x00007FF792CB0EC4]\n\t(No symbol) [0x00007FF792CB1052]\n\t(No symbol) [0x00007FF792CA18A4]\n\tBaseThreadInitThunk [0x00007FFEBCAA257D+29]\n\tRtlUserThreadStart [0x00007FFEBDB6AA48+40]\n",
     "output_type": "error",
     "traceback": [
      "\u001b[1;31m---------------------------------------------------------------------------\u001b[0m",
      "\u001b[1;31mNoSuchElementException\u001b[0m                    Traceback (most recent call last)",
      "Cell \u001b[1;32mIn[13], line 4\u001b[0m\n\u001b[0;32m      1\u001b[0m accommodation\u001b[38;5;241m=\u001b[39mdriver\u001b[38;5;241m.\u001b[39mfind_element(By\u001b[38;5;241m.\u001b[39mXPATH,\u001b[38;5;124m'\u001b[39m\u001b[38;5;124m/html/body/div[3]/div/div[2]/main/header/nav/div[3]/div[2]/button/div\u001b[39m\u001b[38;5;124m'\u001b[39m)\n\u001b[0;32m      2\u001b[0m accommodation\u001b[38;5;241m.\u001b[39mclick()\n\u001b[1;32m----> 4\u001b[0m go_to_hos\u001b[38;5;241m=\u001b[39mdriver\u001b[38;5;241m.\u001b[39mfind_element(By\u001b[38;5;241m.\u001b[39mXPATH,\u001b[38;5;124m'\u001b[39m\u001b[38;5;124m/html/body/div[3]/div/div[2]/main/header/nav/div[3]/div[2]/div[1]/div[2]/div/ul/li[1]/div/div/ul/li[1]/a/div\u001b[39m\u001b[38;5;124m'\u001b[39m)\n\u001b[0;32m      5\u001b[0m go_to_hos\u001b[38;5;241m.\u001b[39mclick()\n",
      "File \u001b[1;32m~\\coding folders\\Lib\\site-packages\\selenium\\webdriver\\remote\\webdriver.py:741\u001b[0m, in \u001b[0;36mWebDriver.find_element\u001b[1;34m(self, by, value)\u001b[0m\n\u001b[0;32m    738\u001b[0m     by \u001b[38;5;241m=\u001b[39m By\u001b[38;5;241m.\u001b[39mCSS_SELECTOR\n\u001b[0;32m    739\u001b[0m     value \u001b[38;5;241m=\u001b[39m \u001b[38;5;124mf\u001b[39m\u001b[38;5;124m'\u001b[39m\u001b[38;5;124m[name=\u001b[39m\u001b[38;5;124m\"\u001b[39m\u001b[38;5;132;01m{\u001b[39;00mvalue\u001b[38;5;132;01m}\u001b[39;00m\u001b[38;5;124m\"\u001b[39m\u001b[38;5;124m]\u001b[39m\u001b[38;5;124m'\u001b[39m\n\u001b[1;32m--> 741\u001b[0m \u001b[38;5;28;01mreturn\u001b[39;00m \u001b[38;5;28mself\u001b[39m\u001b[38;5;241m.\u001b[39mexecute(Command\u001b[38;5;241m.\u001b[39mFIND_ELEMENT, {\u001b[38;5;124m\"\u001b[39m\u001b[38;5;124musing\u001b[39m\u001b[38;5;124m\"\u001b[39m: by, \u001b[38;5;124m\"\u001b[39m\u001b[38;5;124mvalue\u001b[39m\u001b[38;5;124m\"\u001b[39m: value})[\u001b[38;5;124m\"\u001b[39m\u001b[38;5;124mvalue\u001b[39m\u001b[38;5;124m\"\u001b[39m]\n",
      "File \u001b[1;32m~\\coding folders\\Lib\\site-packages\\selenium\\webdriver\\remote\\webdriver.py:347\u001b[0m, in \u001b[0;36mWebDriver.execute\u001b[1;34m(self, driver_command, params)\u001b[0m\n\u001b[0;32m    345\u001b[0m response \u001b[38;5;241m=\u001b[39m \u001b[38;5;28mself\u001b[39m\u001b[38;5;241m.\u001b[39mcommand_executor\u001b[38;5;241m.\u001b[39mexecute(driver_command, params)\n\u001b[0;32m    346\u001b[0m \u001b[38;5;28;01mif\u001b[39;00m response:\n\u001b[1;32m--> 347\u001b[0m     \u001b[38;5;28mself\u001b[39m\u001b[38;5;241m.\u001b[39merror_handler\u001b[38;5;241m.\u001b[39mcheck_response(response)\n\u001b[0;32m    348\u001b[0m     response[\u001b[38;5;124m\"\u001b[39m\u001b[38;5;124mvalue\u001b[39m\u001b[38;5;124m\"\u001b[39m] \u001b[38;5;241m=\u001b[39m \u001b[38;5;28mself\u001b[39m\u001b[38;5;241m.\u001b[39m_unwrap_value(response\u001b[38;5;241m.\u001b[39mget(\u001b[38;5;124m\"\u001b[39m\u001b[38;5;124mvalue\u001b[39m\u001b[38;5;124m\"\u001b[39m, \u001b[38;5;28;01mNone\u001b[39;00m))\n\u001b[0;32m    349\u001b[0m     \u001b[38;5;28;01mreturn\u001b[39;00m response\n",
      "File \u001b[1;32m~\\coding folders\\Lib\\site-packages\\selenium\\webdriver\\remote\\errorhandler.py:229\u001b[0m, in \u001b[0;36mErrorHandler.check_response\u001b[1;34m(self, response)\u001b[0m\n\u001b[0;32m    227\u001b[0m         alert_text \u001b[38;5;241m=\u001b[39m value[\u001b[38;5;124m\"\u001b[39m\u001b[38;5;124malert\u001b[39m\u001b[38;5;124m\"\u001b[39m]\u001b[38;5;241m.\u001b[39mget(\u001b[38;5;124m\"\u001b[39m\u001b[38;5;124mtext\u001b[39m\u001b[38;5;124m\"\u001b[39m)\n\u001b[0;32m    228\u001b[0m     \u001b[38;5;28;01mraise\u001b[39;00m exception_class(message, screen, stacktrace, alert_text)  \u001b[38;5;66;03m# type: ignore[call-arg]  # mypy is not smart enough here\u001b[39;00m\n\u001b[1;32m--> 229\u001b[0m \u001b[38;5;28;01mraise\u001b[39;00m exception_class(message, screen, stacktrace)\n",
      "\u001b[1;31mNoSuchElementException\u001b[0m: Message: no such element: Unable to locate element: {\"method\":\"xpath\",\"selector\":\"/html/body/div[3]/div/div[2]/main/header/nav/div[3]/div[2]/div[1]/div[2]/div/ul/li[1]/div/div/ul/li[1]/a/div\"}\n  (Session info: chrome=124.0.6367.78); For documentation on this error, please visit: https://www.selenium.dev/documentation/webdriver/troubleshooting/errors#no-such-element-exception\nStacktrace:\n\tGetHandleVerifier [0x00007FF792D31502+60802]\n\t(No symbol) [0x00007FF792CAAC02]\n\t(No symbol) [0x00007FF792B67CE4]\n\t(No symbol) [0x00007FF792BB6D4D]\n\t(No symbol) [0x00007FF792BB6E1C]\n\t(No symbol) [0x00007FF792BFCE37]\n\t(No symbol) [0x00007FF792BDABBF]\n\t(No symbol) [0x00007FF792BFA224]\n\t(No symbol) [0x00007FF792BDA923]\n\t(No symbol) [0x00007FF792BA8FEC]\n\t(No symbol) [0x00007FF792BA9C21]\n\tGetHandleVerifier [0x00007FF79303411D+3217821]\n\tGetHandleVerifier [0x00007FF7930760B7+3488055]\n\tGetHandleVerifier [0x00007FF79306F03F+3459263]\n\tGetHandleVerifier [0x00007FF792DEB846+823494]\n\t(No symbol) [0x00007FF792CB5F9F]\n\t(No symbol) [0x00007FF792CB0EC4]\n\t(No symbol) [0x00007FF792CB1052]\n\t(No symbol) [0x00007FF792CA18A4]\n\tBaseThreadInitThunk [0x00007FFEBCAA257D+29]\n\tRtlUserThreadStart [0x00007FFEBDB6AA48+40]\n"
     ]
    }
   ],
   "source": [
    "accommodation=driver.find_element(By.XPATH,'/html/body/div[3]/div/div[2]/main/header/nav/div[3]/div[2]/button/div')\n",
    "accommodation.click()\n",
    "\n",
    "go_to_hos=driver.find_element(By.XPATH,'/html/body/div[3]/div/div[2]/main/header/nav/div[3]/div[2]/div[1]/div[2]/div/ul/li[1]/div/div/ul/li[1]/a/div')\n",
    "go_to_hos.click()"
   ]
  },
  {
   "cell_type": "code",
   "execution_count": 28,
   "id": "bb73bdcf",
   "metadata": {},
   "outputs": [
    {
     "ename": "NoSuchElementException",
     "evalue": "Message: no such element: Unable to locate element: {\"method\":\"xpath\",\"selector\":\"/html/body/div[3]/div/div/div[2]/div[2]/div[2]/div/div/div/div[1]/div[1]/div/div[2]/input\"}\n  (Session info: chrome=124.0.6367.78); For documentation on this error, please visit: https://www.selenium.dev/documentation/webdriver/troubleshooting/errors#no-such-element-exception\nStacktrace:\n\tGetHandleVerifier [0x00007FF73AB41502+60802]\n\t(No symbol) [0x00007FF73AABAC02]\n\t(No symbol) [0x00007FF73A977CE4]\n\t(No symbol) [0x00007FF73A9C6D4D]\n\t(No symbol) [0x00007FF73A9C6E1C]\n\t(No symbol) [0x00007FF73AA0CE37]\n\t(No symbol) [0x00007FF73A9EABBF]\n\t(No symbol) [0x00007FF73AA0A224]\n\t(No symbol) [0x00007FF73A9EA923]\n\t(No symbol) [0x00007FF73A9B8FEC]\n\t(No symbol) [0x00007FF73A9B9C21]\n\tGetHandleVerifier [0x00007FF73AE4411D+3217821]\n\tGetHandleVerifier [0x00007FF73AE860B7+3488055]\n\tGetHandleVerifier [0x00007FF73AE7F03F+3459263]\n\tGetHandleVerifier [0x00007FF73ABFB846+823494]\n\t(No symbol) [0x00007FF73AAC5F9F]\n\t(No symbol) [0x00007FF73AAC0EC4]\n\t(No symbol) [0x00007FF73AAC1052]\n\t(No symbol) [0x00007FF73AAB18A4]\n\tBaseThreadInitThunk [0x00007FFEBCAA257D+29]\n\tRtlUserThreadStart [0x00007FFEBDB6AA48+40]\n",
     "output_type": "error",
     "traceback": [
      "\u001b[1;31m---------------------------------------------------------------------------\u001b[0m",
      "\u001b[1;31mNoSuchElementException\u001b[0m                    Traceback (most recent call last)",
      "Cell \u001b[1;32mIn[28], line 2\u001b[0m\n\u001b[0;32m      1\u001b[0m \u001b[38;5;66;03m#locating the location search bar\u001b[39;00m\n\u001b[1;32m----> 2\u001b[0m search \u001b[38;5;241m=\u001b[39m driver\u001b[38;5;241m.\u001b[39mfind_element(By\u001b[38;5;241m.\u001b[39mXPATH, \u001b[38;5;124m\"\u001b[39m\u001b[38;5;124m/html/body/div[3]/div/div/div[2]/div[2]/div[2]/div/div/div/div[1]/div[1]/div/div[2]/input\u001b[39m\u001b[38;5;124m\"\u001b[39m)\n\u001b[0;32m      3\u001b[0m search\u001b[38;5;241m.\u001b[39msend_keys(\u001b[38;5;124m\"\u001b[39m\u001b[38;5;124mLondon\u001b[39m\u001b[38;5;124m\"\u001b[39m)\n\u001b[0;32m      5\u001b[0m time\u001b[38;5;241m.\u001b[39msleep(\u001b[38;5;241m2\u001b[39m)\n",
      "File \u001b[1;32m~\\coding folders\\Lib\\site-packages\\selenium\\webdriver\\remote\\webdriver.py:741\u001b[0m, in \u001b[0;36mWebDriver.find_element\u001b[1;34m(self, by, value)\u001b[0m\n\u001b[0;32m    738\u001b[0m     by \u001b[38;5;241m=\u001b[39m By\u001b[38;5;241m.\u001b[39mCSS_SELECTOR\n\u001b[0;32m    739\u001b[0m     value \u001b[38;5;241m=\u001b[39m \u001b[38;5;124mf\u001b[39m\u001b[38;5;124m'\u001b[39m\u001b[38;5;124m[name=\u001b[39m\u001b[38;5;124m\"\u001b[39m\u001b[38;5;132;01m{\u001b[39;00mvalue\u001b[38;5;132;01m}\u001b[39;00m\u001b[38;5;124m\"\u001b[39m\u001b[38;5;124m]\u001b[39m\u001b[38;5;124m'\u001b[39m\n\u001b[1;32m--> 741\u001b[0m \u001b[38;5;28;01mreturn\u001b[39;00m \u001b[38;5;28mself\u001b[39m\u001b[38;5;241m.\u001b[39mexecute(Command\u001b[38;5;241m.\u001b[39mFIND_ELEMENT, {\u001b[38;5;124m\"\u001b[39m\u001b[38;5;124musing\u001b[39m\u001b[38;5;124m\"\u001b[39m: by, \u001b[38;5;124m\"\u001b[39m\u001b[38;5;124mvalue\u001b[39m\u001b[38;5;124m\"\u001b[39m: value})[\u001b[38;5;124m\"\u001b[39m\u001b[38;5;124mvalue\u001b[39m\u001b[38;5;124m\"\u001b[39m]\n",
      "File \u001b[1;32m~\\coding folders\\Lib\\site-packages\\selenium\\webdriver\\remote\\webdriver.py:347\u001b[0m, in \u001b[0;36mWebDriver.execute\u001b[1;34m(self, driver_command, params)\u001b[0m\n\u001b[0;32m    345\u001b[0m response \u001b[38;5;241m=\u001b[39m \u001b[38;5;28mself\u001b[39m\u001b[38;5;241m.\u001b[39mcommand_executor\u001b[38;5;241m.\u001b[39mexecute(driver_command, params)\n\u001b[0;32m    346\u001b[0m \u001b[38;5;28;01mif\u001b[39;00m response:\n\u001b[1;32m--> 347\u001b[0m     \u001b[38;5;28mself\u001b[39m\u001b[38;5;241m.\u001b[39merror_handler\u001b[38;5;241m.\u001b[39mcheck_response(response)\n\u001b[0;32m    348\u001b[0m     response[\u001b[38;5;124m\"\u001b[39m\u001b[38;5;124mvalue\u001b[39m\u001b[38;5;124m\"\u001b[39m] \u001b[38;5;241m=\u001b[39m \u001b[38;5;28mself\u001b[39m\u001b[38;5;241m.\u001b[39m_unwrap_value(response\u001b[38;5;241m.\u001b[39mget(\u001b[38;5;124m\"\u001b[39m\u001b[38;5;124mvalue\u001b[39m\u001b[38;5;124m\"\u001b[39m, \u001b[38;5;28;01mNone\u001b[39;00m))\n\u001b[0;32m    349\u001b[0m     \u001b[38;5;28;01mreturn\u001b[39;00m response\n",
      "File \u001b[1;32m~\\coding folders\\Lib\\site-packages\\selenium\\webdriver\\remote\\errorhandler.py:229\u001b[0m, in \u001b[0;36mErrorHandler.check_response\u001b[1;34m(self, response)\u001b[0m\n\u001b[0;32m    227\u001b[0m         alert_text \u001b[38;5;241m=\u001b[39m value[\u001b[38;5;124m\"\u001b[39m\u001b[38;5;124malert\u001b[39m\u001b[38;5;124m\"\u001b[39m]\u001b[38;5;241m.\u001b[39mget(\u001b[38;5;124m\"\u001b[39m\u001b[38;5;124mtext\u001b[39m\u001b[38;5;124m\"\u001b[39m)\n\u001b[0;32m    228\u001b[0m     \u001b[38;5;28;01mraise\u001b[39;00m exception_class(message, screen, stacktrace, alert_text)  \u001b[38;5;66;03m# type: ignore[call-arg]  # mypy is not smart enough here\u001b[39;00m\n\u001b[1;32m--> 229\u001b[0m \u001b[38;5;28;01mraise\u001b[39;00m exception_class(message, screen, stacktrace)\n",
      "\u001b[1;31mNoSuchElementException\u001b[0m: Message: no such element: Unable to locate element: {\"method\":\"xpath\",\"selector\":\"/html/body/div[3]/div/div/div[2]/div[2]/div[2]/div/div/div/div[1]/div[1]/div/div[2]/input\"}\n  (Session info: chrome=124.0.6367.78); For documentation on this error, please visit: https://www.selenium.dev/documentation/webdriver/troubleshooting/errors#no-such-element-exception\nStacktrace:\n\tGetHandleVerifier [0x00007FF73AB41502+60802]\n\t(No symbol) [0x00007FF73AABAC02]\n\t(No symbol) [0x00007FF73A977CE4]\n\t(No symbol) [0x00007FF73A9C6D4D]\n\t(No symbol) [0x00007FF73A9C6E1C]\n\t(No symbol) [0x00007FF73AA0CE37]\n\t(No symbol) [0x00007FF73A9EABBF]\n\t(No symbol) [0x00007FF73AA0A224]\n\t(No symbol) [0x00007FF73A9EA923]\n\t(No symbol) [0x00007FF73A9B8FEC]\n\t(No symbol) [0x00007FF73A9B9C21]\n\tGetHandleVerifier [0x00007FF73AE4411D+3217821]\n\tGetHandleVerifier [0x00007FF73AE860B7+3488055]\n\tGetHandleVerifier [0x00007FF73AE7F03F+3459263]\n\tGetHandleVerifier [0x00007FF73ABFB846+823494]\n\t(No symbol) [0x00007FF73AAC5F9F]\n\t(No symbol) [0x00007FF73AAC0EC4]\n\t(No symbol) [0x00007FF73AAC1052]\n\t(No symbol) [0x00007FF73AAB18A4]\n\tBaseThreadInitThunk [0x00007FFEBCAA257D+29]\n\tRtlUserThreadStart [0x00007FFEBDB6AA48+40]\n"
     ]
    }
   ],
   "source": [
    "#locating the location search bar\n",
    "search = driver.find_element(By.XPATH, \"/html/body/div[3]/div/div/div[2]/div[2]/div[2]/div/div/div/div[1]/div[1]/div/div[2]/input\")\n",
    "search.send_keys(\"London\")\n",
    "\n",
    "time.sleep(2)\n",
    "\n",
    "#select london\n",
    "london = driver.find_element(By.XPATH, '//*[@id=\"3\"]/button/div[2]')\n",
    "london.click()\n",
    "time.sleep(2)\n",
    "\n",
    "# do click in search button\n",
    "search_btn = driver.find_element(By.XPATH, '//*[@id=\"__layout\"]/div/div[2]/div[2]/div[2]/div/div/div/div[5]/button')\n",
    "search_btn.click()"
   ]
  },
  {
   "cell_type": "code",
   "execution_count": null,
   "id": "c60941d1",
   "metadata": {},
   "outputs": [],
   "source": []
  }
 ],
 "metadata": {
  "kernelspec": {
   "display_name": "Python 3 (ipykernel)",
   "language": "python",
   "name": "python3"
  },
  "language_info": {
   "codemirror_mode": {
    "name": "ipython",
    "version": 3
   },
   "file_extension": ".py",
   "mimetype": "text/x-python",
   "name": "python",
   "nbconvert_exporter": "python",
   "pygments_lexer": "ipython3",
   "version": "3.11.5"
  }
 },
 "nbformat": 4,
 "nbformat_minor": 5
}
